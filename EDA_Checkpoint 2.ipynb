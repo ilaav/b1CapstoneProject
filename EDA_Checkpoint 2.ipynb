{
 "cells": [
  {
   "cell_type": "code",
   "execution_count": 693,
   "id": "5e4c8500",
   "metadata": {},
   "outputs": [],
   "source": [
    "import pandas as pd\n",
    "import numpy as np\n",
    "import seaborn as sns\n",
    "#import matplotlib as plt\n",
    "import matplotlib.pyplot as plt\n",
    "from functools import reduce"
   ]
  },
  {
   "cell_type": "code",
   "execution_count": 694,
   "id": "cb0274bc",
   "metadata": {},
   "outputs": [],
   "source": [
    "city_master = pd.read_csv('City_Master.csv')\n",
    "cust_and_bank_det = pd.read_csv('Customer_and_bank details_p1.csv')\n",
    "cust_camp_det = pd.read_csv('Customer_campaign_details_p1.csv')\n",
    "cust_post_code_det = pd.read_csv('Customer_Postal_Code_details.csv')\n",
    "cust_resp_data = pd.read_csv('Customer_Response_data_p1.csv')\n",
    "cust_social_eco_data = pd.read_csv('Customer_social_economic_data_p1.csv')\n",
    "reg_code_master = pd.read_csv('Region_code_master.csv')\n",
    "state_master = pd.read_csv('State_Master.csv')"
   ]
  },
  {
   "cell_type": "code",
   "execution_count": 695,
   "id": "1ae6a549",
   "metadata": {},
   "outputs": [
    {
     "data": {
      "text/html": [
       "<div>\n",
       "<style scoped>\n",
       "    .dataframe tbody tr th:only-of-type {\n",
       "        vertical-align: middle;\n",
       "    }\n",
       "\n",
       "    .dataframe tbody tr th {\n",
       "        vertical-align: top;\n",
       "    }\n",
       "\n",
       "    .dataframe thead th {\n",
       "        text-align: right;\n",
       "    }\n",
       "</style>\n",
       "<table border=\"1\" class=\"dataframe\">\n",
       "  <thead>\n",
       "    <tr style=\"text-align: right;\">\n",
       "      <th></th>\n",
       "      <th>Customer_id</th>\n",
       "      <th>age</th>\n",
       "      <th>duration</th>\n",
       "      <th>campaign</th>\n",
       "      <th>pdays</th>\n",
       "      <th>previous</th>\n",
       "      <th>emp.var.rate</th>\n",
       "      <th>cons.price.idx</th>\n",
       "      <th>cons.conf.idx</th>\n",
       "      <th>euribor3m</th>\n",
       "      <th>nr.employed</th>\n",
       "      <th>Postal Code</th>\n",
       "    </tr>\n",
       "  </thead>\n",
       "  <tbody>\n",
       "    <tr>\n",
       "      <th>count</th>\n",
       "      <td>37084.000000</td>\n",
       "      <td>37084.000000</td>\n",
       "      <td>37084.000000</td>\n",
       "      <td>37084.000000</td>\n",
       "      <td>37084.000000</td>\n",
       "      <td>37084.000000</td>\n",
       "      <td>37084.000000</td>\n",
       "      <td>37084.000000</td>\n",
       "      <td>37084.000000</td>\n",
       "      <td>37084.000000</td>\n",
       "      <td>37084.000000</td>\n",
       "      <td>37084.000000</td>\n",
       "    </tr>\n",
       "    <tr>\n",
       "      <th>mean</th>\n",
       "      <td>18542.500000</td>\n",
       "      <td>40.042714</td>\n",
       "      <td>258.237946</td>\n",
       "      <td>2.569545</td>\n",
       "      <td>962.530849</td>\n",
       "      <td>0.172986</td>\n",
       "      <td>0.082669</td>\n",
       "      <td>93.576076</td>\n",
       "      <td>-40.505183</td>\n",
       "      <td>3.621668</td>\n",
       "      <td>5167.058664</td>\n",
       "      <td>55202.625553</td>\n",
       "    </tr>\n",
       "    <tr>\n",
       "      <th>std</th>\n",
       "      <td>10705.373028</td>\n",
       "      <td>10.432965</td>\n",
       "      <td>258.730909</td>\n",
       "      <td>2.770611</td>\n",
       "      <td>186.773063</td>\n",
       "      <td>0.495681</td>\n",
       "      <td>1.568997</td>\n",
       "      <td>0.578493</td>\n",
       "      <td>4.622045</td>\n",
       "      <td>1.733972</td>\n",
       "      <td>72.196605</td>\n",
       "      <td>32057.300954</td>\n",
       "    </tr>\n",
       "    <tr>\n",
       "      <th>min</th>\n",
       "      <td>1.000000</td>\n",
       "      <td>17.000000</td>\n",
       "      <td>0.000000</td>\n",
       "      <td>1.000000</td>\n",
       "      <td>0.000000</td>\n",
       "      <td>0.000000</td>\n",
       "      <td>-3.400000</td>\n",
       "      <td>92.201000</td>\n",
       "      <td>-50.800000</td>\n",
       "      <td>0.634000</td>\n",
       "      <td>4963.600000</td>\n",
       "      <td>1040.000000</td>\n",
       "    </tr>\n",
       "    <tr>\n",
       "      <th>25%</th>\n",
       "      <td>9271.750000</td>\n",
       "      <td>32.000000</td>\n",
       "      <td>102.000000</td>\n",
       "      <td>1.000000</td>\n",
       "      <td>999.000000</td>\n",
       "      <td>0.000000</td>\n",
       "      <td>-1.800000</td>\n",
       "      <td>93.075000</td>\n",
       "      <td>-42.700000</td>\n",
       "      <td>1.344000</td>\n",
       "      <td>5099.100000</td>\n",
       "      <td>23223.000000</td>\n",
       "    </tr>\n",
       "    <tr>\n",
       "      <th>50%</th>\n",
       "      <td>18542.500000</td>\n",
       "      <td>38.000000</td>\n",
       "      <td>180.000000</td>\n",
       "      <td>2.000000</td>\n",
       "      <td>999.000000</td>\n",
       "      <td>0.000000</td>\n",
       "      <td>1.100000</td>\n",
       "      <td>93.749000</td>\n",
       "      <td>-41.800000</td>\n",
       "      <td>4.857000</td>\n",
       "      <td>5191.000000</td>\n",
       "      <td>56301.000000</td>\n",
       "    </tr>\n",
       "    <tr>\n",
       "      <th>75%</th>\n",
       "      <td>27813.250000</td>\n",
       "      <td>47.000000</td>\n",
       "      <td>319.250000</td>\n",
       "      <td>3.000000</td>\n",
       "      <td>999.000000</td>\n",
       "      <td>0.000000</td>\n",
       "      <td>1.400000</td>\n",
       "      <td>93.994000</td>\n",
       "      <td>-36.400000</td>\n",
       "      <td>4.961000</td>\n",
       "      <td>5228.100000</td>\n",
       "      <td>90008.000000</td>\n",
       "    </tr>\n",
       "    <tr>\n",
       "      <th>max</th>\n",
       "      <td>37084.000000</td>\n",
       "      <td>98.000000</td>\n",
       "      <td>4918.000000</td>\n",
       "      <td>56.000000</td>\n",
       "      <td>999.000000</td>\n",
       "      <td>7.000000</td>\n",
       "      <td>1.400000</td>\n",
       "      <td>94.767000</td>\n",
       "      <td>-26.900000</td>\n",
       "      <td>5.045000</td>\n",
       "      <td>5228.100000</td>\n",
       "      <td>99301.000000</td>\n",
       "    </tr>\n",
       "  </tbody>\n",
       "</table>\n",
       "</div>"
      ],
      "text/plain": [
       "        Customer_id           age      duration      campaign         pdays  \\\n",
       "count  37084.000000  37084.000000  37084.000000  37084.000000  37084.000000   \n",
       "mean   18542.500000     40.042714    258.237946      2.569545    962.530849   \n",
       "std    10705.373028     10.432965    258.730909      2.770611    186.773063   \n",
       "min        1.000000     17.000000      0.000000      1.000000      0.000000   \n",
       "25%     9271.750000     32.000000    102.000000      1.000000    999.000000   \n",
       "50%    18542.500000     38.000000    180.000000      2.000000    999.000000   \n",
       "75%    27813.250000     47.000000    319.250000      3.000000    999.000000   \n",
       "max    37084.000000     98.000000   4918.000000     56.000000    999.000000   \n",
       "\n",
       "           previous  emp.var.rate  cons.price.idx  cons.conf.idx  \\\n",
       "count  37084.000000  37084.000000    37084.000000   37084.000000   \n",
       "mean       0.172986      0.082669       93.576076     -40.505183   \n",
       "std        0.495681      1.568997        0.578493       4.622045   \n",
       "min        0.000000     -3.400000       92.201000     -50.800000   \n",
       "25%        0.000000     -1.800000       93.075000     -42.700000   \n",
       "50%        0.000000      1.100000       93.749000     -41.800000   \n",
       "75%        0.000000      1.400000       93.994000     -36.400000   \n",
       "max        7.000000      1.400000       94.767000     -26.900000   \n",
       "\n",
       "          euribor3m   nr.employed   Postal Code  \n",
       "count  37084.000000  37084.000000  37084.000000  \n",
       "mean       3.621668   5167.058664  55202.625553  \n",
       "std        1.733972     72.196605  32057.300954  \n",
       "min        0.634000   4963.600000   1040.000000  \n",
       "25%        1.344000   5099.100000  23223.000000  \n",
       "50%        4.857000   5191.000000  56301.000000  \n",
       "75%        4.961000   5228.100000  90008.000000  \n",
       "max        5.045000   5228.100000  99301.000000  "
      ]
     },
     "execution_count": 695,
     "metadata": {},
     "output_type": "execute_result"
    }
   ],
   "source": [
    "df=cust_and_bank_det.merge(cust_camp_det,on='Customer_id').merge(cust_resp_data,on='Customer_id').merge(cust_social_eco_data,on='Customer_id').merge(cust_post_code_det,on='Customer_id')\n",
    "df.describe()"
   ]
  },
  {
   "cell_type": "code",
   "execution_count": 696,
   "id": "f0393925",
   "metadata": {},
   "outputs": [
    {
     "data": {
      "text/plain": [
       "Index(['Customer_id', 'age', 'job', 'marital', 'education', 'default',\n",
       "       'housing', 'loan', 'Region_Code', 'State_Code', 'City_Code', 'contact',\n",
       "       'month', 'day_of_week', 'duration', 'campaign', 'pdays', 'previous',\n",
       "       'poutcome', 'y', 'emp.var.rate', 'cons.price.idx', 'cons.conf.idx',\n",
       "       'euribor3m', 'nr.employed', 'Postal Code'],\n",
       "      dtype='object')"
      ]
     },
     "execution_count": 696,
     "metadata": {},
     "output_type": "execute_result"
    }
   ],
   "source": [
    "df.columns"
   ]
  },
  {
   "cell_type": "code",
   "execution_count": 697,
   "id": "75bcdb25",
   "metadata": {},
   "outputs": [
    {
     "data": {
      "text/plain": [
       "(37084, 26)"
      ]
     },
     "execution_count": 697,
     "metadata": {},
     "output_type": "execute_result"
    }
   ],
   "source": [
    "df.shape"
   ]
  },
  {
   "cell_type": "markdown",
   "id": "25651393",
   "metadata": {},
   "source": [
    "## Univariate, Bi- Variate Analysis and Multi- Variate Analysis"
   ]
  },
  {
   "cell_type": "markdown",
   "id": "d827ab8f",
   "metadata": {},
   "source": [
    "### Univariate Analysis"
   ]
  },
  {
   "cell_type": "code",
   "execution_count": 698,
   "id": "29d1fc42",
   "metadata": {},
   "outputs": [
    {
     "data": {
      "text/plain": [
       "31    1761\n",
       "33    1656\n",
       "32    1644\n",
       "36    1627\n",
       "35    1584\n",
       "      ... \n",
       "98       2\n",
       "89       2\n",
       "91       2\n",
       "94       1\n",
       "95       1\n",
       "Name: age, Length: 77, dtype: int64"
      ]
     },
     "execution_count": 698,
     "metadata": {},
     "output_type": "execute_result"
    }
   ],
   "source": [
    "df['age'].value_counts()"
   ]
  },
  {
   "cell_type": "code",
   "execution_count": 699,
   "id": "88ca3e27",
   "metadata": {},
   "outputs": [
    {
     "data": {
      "text/plain": [
       "count    37084.000000\n",
       "mean        40.042714\n",
       "std         10.432965\n",
       "min         17.000000\n",
       "25%         32.000000\n",
       "50%         38.000000\n",
       "75%         47.000000\n",
       "max         98.000000\n",
       "Name: age, dtype: float64"
      ]
     },
     "execution_count": 699,
     "metadata": {},
     "output_type": "execute_result"
    }
   ],
   "source": [
    "df['age'].describe()"
   ]
  },
  {
   "cell_type": "code",
   "execution_count": 700,
   "id": "7156ee81",
   "metadata": {},
   "outputs": [
    {
     "data": {
      "text/plain": [
       "0    31\n",
       "dtype: int64"
      ]
     },
     "execution_count": 700,
     "metadata": {},
     "output_type": "execute_result"
    }
   ],
   "source": [
    "df['age'].mode()"
   ]
  },
  {
   "cell_type": "code",
   "execution_count": 701,
   "id": "b936a29e",
   "metadata": {},
   "outputs": [
    {
     "data": {
      "text/plain": [
       "81"
      ]
     },
     "execution_count": 701,
     "metadata": {},
     "output_type": "execute_result"
    }
   ],
   "source": [
    "age_range=df['age'].max() - df['age'].min()\n",
    "age_range"
   ]
  },
  {
   "cell_type": "markdown",
   "id": "818a0ca9",
   "metadata": {},
   "source": [
    "Distribution Plot of Age on 'age' variable"
   ]
  },
  {
   "cell_type": "code",
   "execution_count": 702,
   "id": "251339a6",
   "metadata": {
    "scrolled": true
   },
   "outputs": [
    {
     "name": "stderr",
     "output_type": "stream",
     "text": [
      "C:\\Users\\iraghupathivasish\\Anaconda3\\lib\\site-packages\\seaborn\\distributions.py:2557: FutureWarning: `distplot` is a deprecated function and will be removed in a future version. Please adapt your code to use either `displot` (a figure-level function with similar flexibility) or `histplot` (an axes-level function for histograms).\n",
      "  warnings.warn(msg, FutureWarning)\n"
     ]
    },
    {
     "data": {
      "text/plain": [
       "<AxesSubplot:xlabel='age', ylabel='Density'>"
      ]
     },
     "execution_count": 702,
     "metadata": {},
     "output_type": "execute_result"
    },
    {
     "data": {
      "image/png": "[encoded data removed]",
      "text/plain": [
       "<Figure size 432x288 with 1 Axes>"
      ]
     },
     "metadata": {
      "needs_background": "light"
     },
     "output_type": "display_data"
    }
   ],
   "source": [
    "sns.distplot(df.age, hist=True)"
   ]
  },
  {
   "cell_type": "code",
   "execution_count": 703,
   "id": "780c86bd",
   "metadata": {},
   "outputs": [
    {
     "data": {
      "text/plain": [
       "<AxesSubplot:xlabel='age'>"
      ]
     },
     "execution_count": 703,
     "metadata": {},
     "output_type": "execute_result"
    },
    {
     "data": {
      "image/png": "[encoded data removed]",
      "text/plain": [
       "<Figure size 432x288 with 1 Axes>"
      ]
     },
     "metadata": {
      "needs_background": "light"
     },
     "output_type": "display_data"
    }
   ],
   "source": [
    "sns.boxplot(x='age',data=df)"
   ]
  },
  {
   "cell_type": "code",
   "execution_count": 704,
   "id": "3103527d",
   "metadata": {},
   "outputs": [
    {
     "data": {
      "text/plain": [
       "count       37084\n",
       "unique          4\n",
       "top       married\n",
       "freq        22479\n",
       "Name: marital, dtype: object"
      ]
     },
     "execution_count": 704,
     "metadata": {},
     "output_type": "execute_result"
    }
   ],
   "source": [
    "df['marital'].describe()"
   ]
  },
  {
   "cell_type": "markdown",
   "id": "6bdb3722",
   "metadata": {},
   "source": [
    "Frequency Distribution Table of Marital Status on 'marital' variable"
   ]
  },
  {
   "cell_type": "code",
   "execution_count": 705,
   "id": "0d3d0b52",
   "metadata": {},
   "outputs": [
    {
     "name": "stdout",
     "output_type": "stream",
     "text": [
      "  Marital Status  Frequency\n",
      "0        married      22479\n",
      "1         single      10407\n",
      "2       divorced       4126\n",
      "3        unknown         72\n"
     ]
    }
   ],
   "source": [
    "df1 = pd.value_counts(df['marital']).to_frame().reset_index()\n",
    "df1.columns = ['Marital Status', 'Frequency']\n",
    "print(df1)"
   ]
  },
  {
   "cell_type": "code",
   "execution_count": 706,
   "id": "6e993d3a",
   "metadata": {},
   "outputs": [
    {
     "data": {
      "text/plain": [
       "count      37084\n",
       "unique        12\n",
       "top       admin.\n",
       "freq        9420\n",
       "Name: job, dtype: object"
      ]
     },
     "execution_count": 706,
     "metadata": {},
     "output_type": "execute_result"
    }
   ],
   "source": [
    "df['job'].describe()"
   ]
  },
  {
   "cell_type": "markdown",
   "id": "f3ba88a0",
   "metadata": {},
   "source": [
    "Frequency Distribution Table of Marital Status on 'marital' variable"
   ]
  },
  {
   "cell_type": "code",
   "execution_count": 707,
   "id": "a02855c2",
   "metadata": {},
   "outputs": [
    {
     "name": "stdout",
     "output_type": "stream",
     "text": [
      "   Marital Status  Frequency\n",
      "0          admin.       9420\n",
      "1     blue-collar       8314\n",
      "2      technician       6096\n",
      "3        services       3547\n",
      "4      management       2637\n",
      "5         retired       1541\n",
      "6    entrepreneur       1309\n",
      "7   self-employed       1276\n",
      "8       housemaid        946\n",
      "9      unemployed        925\n",
      "10        student        767\n",
      "11        unknown        306\n"
     ]
    }
   ],
   "source": [
    "df1 = pd.value_counts(df['job']).to_frame().reset_index()\n",
    "df1.columns = ['Marital Status', 'Frequency']\n",
    "print(df1)"
   ]
  },
  {
   "cell_type": "markdown",
   "id": "1630cf27",
   "metadata": {},
   "source": [
    "Count Plot of Responses to the Campaign on 'y' variable"
   ]
  },
  {
   "cell_type": "code",
   "execution_count": 708,
   "id": "44753140",
   "metadata": {},
   "outputs": [
    {
     "data": {
      "text/plain": [
       "<AxesSubplot:xlabel='y', ylabel='count'>"
      ]
     },
     "execution_count": 708,
     "metadata": {},
     "output_type": "execute_result"
    },
    {
     "data": {
      "image/png": "[encoded data removed]",
      "text/plain": [
       "<Figure size 432x288 with 1 Axes>"
      ]
     },
     "metadata": {
      "needs_background": "light"
     },
     "output_type": "display_data"
    }
   ],
   "source": [
    "sns.countplot(x='y',data=df)"
   ]
  },
  {
   "cell_type": "code",
   "execution_count": 709,
   "id": "68acab89",
   "metadata": {},
   "outputs": [
    {
     "data": {
      "text/plain": [
       "<AxesSubplot:xlabel='loan', ylabel='count'>"
      ]
     },
     "execution_count": 709,
     "metadata": {},
     "output_type": "execute_result"
    },
    {
     "data": {
      "image/png": "[encoded data removed]",
      "text/plain": [
       "<Figure size 432x288 with 1 Axes>"
      ]
     },
     "metadata": {
      "needs_background": "light"
     },
     "output_type": "display_data"
    }
   ],
   "source": [
    "sns.countplot(x='loan', data=df)"
   ]
  },
  {
   "cell_type": "markdown",
   "id": "6852683c",
   "metadata": {},
   "source": [
    "### Bi-Variate Analysis"
   ]
  },
  {
   "cell_type": "code",
   "execution_count": 710,
   "id": "bb9eb9df",
   "metadata": {},
   "outputs": [
    {
     "data": {
      "text/plain": [
       "<AxesSubplot:xlabel='age', ylabel='campaign'>"
      ]
     },
     "execution_count": 710,
     "metadata": {},
     "output_type": "execute_result"
    },
    {
     "data": {
      "image/png": "[encoded data removed]",
      "text/plain": [
       "<Figure size 432x288 with 1 Axes>"
      ]
     },
     "metadata": {
      "needs_background": "light"
     },
     "output_type": "display_data"
    }
   ],
   "source": [
    "sns.scatterplot(x='age',y='campaign',data=df)"
   ]
  },
  {
   "cell_type": "markdown",
   "id": "3aac2789",
   "metadata": {},
   "source": [
    "(Need one categ and one numeric variable for line chart)\n",
    "https://www.saedsayad.com/bivariate_analysis.htm"
   ]
  },
  {
   "cell_type": "code",
   "execution_count": 711,
   "id": "a380e086",
   "metadata": {},
   "outputs": [],
   "source": [
    "#plt.plot(df['marital'],df['default'])\n",
    "#plt.show()"
   ]
  },
  {
   "cell_type": "markdown",
   "id": "e40c42fe",
   "metadata": {},
   "source": [
    "We don't know what this depicts. But it looks interesting!"
   ]
  },
  {
   "cell_type": "code",
   "execution_count": 712,
   "id": "985b335a",
   "metadata": {
    "scrolled": true
   },
   "outputs": [
    {
     "data": {
      "text/plain": [
       "<AxesSubplot:xlabel='default', ylabel='emp.var.rate'>"
      ]
     },
     "execution_count": 712,
     "metadata": {},
     "output_type": "execute_result"
    },
    {
     "data": {
      "image/png": "[encoded data removed]",
      "text/plain": [
       "<Figure size 432x288 with 1 Axes>"
      ]
     },
     "metadata": {
      "needs_background": "light"
     },
     "output_type": "display_data"
    }
   ],
   "source": [
    "sns.barplot(x='default',y='emp.var.rate',data=df, )"
   ]
  },
  {
   "cell_type": "code",
   "execution_count": 713,
   "id": "86799974",
   "metadata": {},
   "outputs": [
    {
     "name": "stderr",
     "output_type": "stream",
     "text": [
      "C:\\Users\\iraghupathivasish\\Anaconda3\\lib\\site-packages\\seaborn\\axisgrid.py:316: UserWarning: The `size` parameter has been renamed to `height`; please update your code.\n",
      "  warnings.warn(msg, UserWarning)\n",
      "C:\\Users\\iraghupathivasish\\Anaconda3\\lib\\site-packages\\seaborn\\distributions.py:2557: FutureWarning: `distplot` is a deprecated function and will be removed in a future version. Please adapt your code to use either `displot` (a figure-level function with similar flexibility) or `kdeplot` (an axes-level function for kernel density plots).\n",
      "  warnings.warn(msg, FutureWarning)\n",
      "C:\\Users\\iraghupathivasish\\Anaconda3\\lib\\site-packages\\seaborn\\distributions.py:2557: FutureWarning: `distplot` is a deprecated function and will be removed in a future version. Please adapt your code to use either `displot` (a figure-level function with similar flexibility) or `kdeplot` (an axes-level function for kernel density plots).\n",
      "  warnings.warn(msg, FutureWarning)\n"
     ]
    },
    {
     "data": {
      "text/plain": [
       "Text(0.5, 1.0, 'Analysis')"
      ]
     },
     "execution_count": 713,
     "metadata": {},
     "output_type": "execute_result"
    },
    {
     "data": {
      "image/png": "[encoded data removed]",
      "text/plain": [
       "<Figure size 773.25x360 with 1 Axes>"
      ]
     },
     "metadata": {
      "needs_background": "light"
     },
     "output_type": "display_data"
    }
   ],
   "source": [
    "g=sns.FacetGrid(data=df,hue='y',aspect=2,size=5)\n",
    "g.map(sns.distplot,'age', hist=False)\n",
    "g.add_legend()\n",
    "g.ax.set_title('Analysis',size=20)\n",
    "#g.ax.set_xlabel('Salary in $')\n",
    "#g.ax.set_ylabel('Density')"
   ]
  },
  {
   "cell_type": "markdown",
   "id": "4c76cdbf",
   "metadata": {},
   "source": [
    "### Z-Test for Bi-Variate Analysis (Doubt)"
   ]
  },
  {
   "cell_type": "markdown",
   "id": "76903e84",
   "metadata": {},
   "source": [
    "As per the website. But doubtful."
   ]
  },
  {
   "cell_type": "markdown",
   "id": "6e97e449",
   "metadata": {},
   "source": [
    "H0(Null Hypothesis): Population age mean is the same as the sample age mean."
   ]
  },
  {
   "cell_type": "markdown",
   "id": "e658639c",
   "metadata": {},
   "source": [
    "H1(Alternate Hypothesis): Population age mean is not same as the sample age mean"
   ]
  },
  {
   "cell_type": "code",
   "execution_count": 714,
   "id": "822fa932",
   "metadata": {},
   "outputs": [],
   "source": [
    "from scipy import stats\n",
    "from statsmodels.stats import weightstats as stests"
   ]
  },
  {
   "cell_type": "code",
   "execution_count": 715,
   "id": "f97db803",
   "metadata": {},
   "outputs": [],
   "source": [
    "s1=cust_and_bank_det.sample(frac=0.2)"
   ]
  },
  {
   "cell_type": "code",
   "execution_count": 716,
   "id": "548982cf",
   "metadata": {},
   "outputs": [
    {
     "name": "stdout",
     "output_type": "stream",
     "text": [
      "0.13806617474006103\n",
      "Fail to Reject the Null Hypothesis\n"
     ]
    }
   ],
   "source": [
    "ztest ,pval = stests.ztest(s1['age'],value=cust_and_bank_det[\"age\"].mean())\n",
    "print(float(pval))\n",
    "if pval<0.05:\n",
    "    print(\"Reject Null Hypothesis\")\n",
    "else:\n",
    "    print(\"Fail to Reject the Null Hypothesis\")"
   ]
  },
  {
   "cell_type": "markdown",
   "id": "78267756",
   "metadata": {},
   "source": [
    "### Multi Variate Analysis"
   ]
  },
  {
   "cell_type": "code",
   "execution_count": 717,
   "id": "e4545e85",
   "metadata": {},
   "outputs": [
    {
     "data": {
      "text/html": [
       "<div>\n",
       "<style scoped>\n",
       "    .dataframe tbody tr th:only-of-type {\n",
       "        vertical-align: middle;\n",
       "    }\n",
       "\n",
       "    .dataframe tbody tr th {\n",
       "        vertical-align: top;\n",
       "    }\n",
       "\n",
       "    .dataframe thead th {\n",
       "        text-align: right;\n",
       "    }\n",
       "</style>\n",
       "<table border=\"1\" class=\"dataframe\">\n",
       "  <thead>\n",
       "    <tr style=\"text-align: right;\">\n",
       "      <th></th>\n",
       "      <th>Customer_id</th>\n",
       "      <th>age</th>\n",
       "      <th>job</th>\n",
       "      <th>marital</th>\n",
       "      <th>education</th>\n",
       "      <th>default</th>\n",
       "      <th>housing</th>\n",
       "      <th>loan</th>\n",
       "      <th>Region_Code</th>\n",
       "      <th>State_Code</th>\n",
       "      <th>...</th>\n",
       "      <th>pdays</th>\n",
       "      <th>previous</th>\n",
       "      <th>poutcome</th>\n",
       "      <th>y</th>\n",
       "      <th>emp.var.rate</th>\n",
       "      <th>cons.price.idx</th>\n",
       "      <th>cons.conf.idx</th>\n",
       "      <th>euribor3m</th>\n",
       "      <th>nr.employed</th>\n",
       "      <th>Postal Code</th>\n",
       "    </tr>\n",
       "  </thead>\n",
       "  <tbody>\n",
       "    <tr>\n",
       "      <th>0</th>\n",
       "      <td>1</td>\n",
       "      <td>56</td>\n",
       "      <td>services</td>\n",
       "      <td>married</td>\n",
       "      <td>high.school</td>\n",
       "      <td>no</td>\n",
       "      <td>no</td>\n",
       "      <td>yes</td>\n",
       "      <td>3</td>\n",
       "      <td>S1</td>\n",
       "      <td>...</td>\n",
       "      <td>999</td>\n",
       "      <td>0</td>\n",
       "      <td>nonexistent</td>\n",
       "      <td>no</td>\n",
       "      <td>1.1</td>\n",
       "      <td>93.994</td>\n",
       "      <td>-36.4</td>\n",
       "      <td>4.857</td>\n",
       "      <td>5191.0</td>\n",
       "      <td>42420</td>\n",
       "    </tr>\n",
       "    <tr>\n",
       "      <th>1</th>\n",
       "      <td>2</td>\n",
       "      <td>45</td>\n",
       "      <td>services</td>\n",
       "      <td>married</td>\n",
       "      <td>basic.9y</td>\n",
       "      <td>unknown</td>\n",
       "      <td>no</td>\n",
       "      <td>no</td>\n",
       "      <td>3</td>\n",
       "      <td>S1</td>\n",
       "      <td>...</td>\n",
       "      <td>999</td>\n",
       "      <td>0</td>\n",
       "      <td>nonexistent</td>\n",
       "      <td>no</td>\n",
       "      <td>1.1</td>\n",
       "      <td>93.994</td>\n",
       "      <td>-36.4</td>\n",
       "      <td>4.857</td>\n",
       "      <td>5191.0</td>\n",
       "      <td>42420</td>\n",
       "    </tr>\n",
       "    <tr>\n",
       "      <th>2</th>\n",
       "      <td>3</td>\n",
       "      <td>59</td>\n",
       "      <td>admin.</td>\n",
       "      <td>married</td>\n",
       "      <td>professional.course</td>\n",
       "      <td>no</td>\n",
       "      <td>no</td>\n",
       "      <td>no</td>\n",
       "      <td>4</td>\n",
       "      <td>S2</td>\n",
       "      <td>...</td>\n",
       "      <td>999</td>\n",
       "      <td>0</td>\n",
       "      <td>nonexistent</td>\n",
       "      <td>no</td>\n",
       "      <td>1.1</td>\n",
       "      <td>93.994</td>\n",
       "      <td>-36.4</td>\n",
       "      <td>4.857</td>\n",
       "      <td>5191.0</td>\n",
       "      <td>90036</td>\n",
       "    </tr>\n",
       "    <tr>\n",
       "      <th>3</th>\n",
       "      <td>4</td>\n",
       "      <td>41</td>\n",
       "      <td>blue-collar</td>\n",
       "      <td>married</td>\n",
       "      <td>unknown</td>\n",
       "      <td>unknown</td>\n",
       "      <td>no</td>\n",
       "      <td>no</td>\n",
       "      <td>3</td>\n",
       "      <td>S3</td>\n",
       "      <td>...</td>\n",
       "      <td>999</td>\n",
       "      <td>0</td>\n",
       "      <td>nonexistent</td>\n",
       "      <td>no</td>\n",
       "      <td>1.1</td>\n",
       "      <td>93.994</td>\n",
       "      <td>-36.4</td>\n",
       "      <td>4.857</td>\n",
       "      <td>5191.0</td>\n",
       "      <td>33311</td>\n",
       "    </tr>\n",
       "    <tr>\n",
       "      <th>4</th>\n",
       "      <td>5</td>\n",
       "      <td>24</td>\n",
       "      <td>technician</td>\n",
       "      <td>single</td>\n",
       "      <td>professional.course</td>\n",
       "      <td>no</td>\n",
       "      <td>yes</td>\n",
       "      <td>no</td>\n",
       "      <td>3</td>\n",
       "      <td>S3</td>\n",
       "      <td>...</td>\n",
       "      <td>999</td>\n",
       "      <td>0</td>\n",
       "      <td>nonexistent</td>\n",
       "      <td>no</td>\n",
       "      <td>1.1</td>\n",
       "      <td>93.994</td>\n",
       "      <td>-36.4</td>\n",
       "      <td>4.857</td>\n",
       "      <td>5191.0</td>\n",
       "      <td>33311</td>\n",
       "    </tr>\n",
       "    <tr>\n",
       "      <th>...</th>\n",
       "      <td>...</td>\n",
       "      <td>...</td>\n",
       "      <td>...</td>\n",
       "      <td>...</td>\n",
       "      <td>...</td>\n",
       "      <td>...</td>\n",
       "      <td>...</td>\n",
       "      <td>...</td>\n",
       "      <td>...</td>\n",
       "      <td>...</td>\n",
       "      <td>...</td>\n",
       "      <td>...</td>\n",
       "      <td>...</td>\n",
       "      <td>...</td>\n",
       "      <td>...</td>\n",
       "      <td>...</td>\n",
       "      <td>...</td>\n",
       "      <td>...</td>\n",
       "      <td>...</td>\n",
       "      <td>...</td>\n",
       "      <td>...</td>\n",
       "    </tr>\n",
       "    <tr>\n",
       "      <th>37079</th>\n",
       "      <td>37080</td>\n",
       "      <td>73</td>\n",
       "      <td>retired</td>\n",
       "      <td>married</td>\n",
       "      <td>professional.course</td>\n",
       "      <td>no</td>\n",
       "      <td>yes</td>\n",
       "      <td>no</td>\n",
       "      <td>2</td>\n",
       "      <td>S16</td>\n",
       "      <td>...</td>\n",
       "      <td>999</td>\n",
       "      <td>0</td>\n",
       "      <td>nonexistent</td>\n",
       "      <td>yes</td>\n",
       "      <td>-1.1</td>\n",
       "      <td>94.767</td>\n",
       "      <td>-50.8</td>\n",
       "      <td>1.028</td>\n",
       "      <td>4963.6</td>\n",
       "      <td>10009</td>\n",
       "    </tr>\n",
       "    <tr>\n",
       "      <th>37080</th>\n",
       "      <td>37081</td>\n",
       "      <td>46</td>\n",
       "      <td>blue-collar</td>\n",
       "      <td>married</td>\n",
       "      <td>professional.course</td>\n",
       "      <td>no</td>\n",
       "      <td>no</td>\n",
       "      <td>no</td>\n",
       "      <td>2</td>\n",
       "      <td>S16</td>\n",
       "      <td>...</td>\n",
       "      <td>999</td>\n",
       "      <td>0</td>\n",
       "      <td>nonexistent</td>\n",
       "      <td>no</td>\n",
       "      <td>-1.1</td>\n",
       "      <td>94.767</td>\n",
       "      <td>-50.8</td>\n",
       "      <td>1.028</td>\n",
       "      <td>4963.6</td>\n",
       "      <td>10011</td>\n",
       "    </tr>\n",
       "    <tr>\n",
       "      <th>37081</th>\n",
       "      <td>37082</td>\n",
       "      <td>56</td>\n",
       "      <td>retired</td>\n",
       "      <td>married</td>\n",
       "      <td>university.degree</td>\n",
       "      <td>no</td>\n",
       "      <td>yes</td>\n",
       "      <td>no</td>\n",
       "      <td>2</td>\n",
       "      <td>S16</td>\n",
       "      <td>...</td>\n",
       "      <td>999</td>\n",
       "      <td>0</td>\n",
       "      <td>nonexistent</td>\n",
       "      <td>no</td>\n",
       "      <td>-1.1</td>\n",
       "      <td>94.767</td>\n",
       "      <td>-50.8</td>\n",
       "      <td>1.028</td>\n",
       "      <td>4963.6</td>\n",
       "      <td>10009</td>\n",
       "    </tr>\n",
       "    <tr>\n",
       "      <th>37082</th>\n",
       "      <td>37083</td>\n",
       "      <td>44</td>\n",
       "      <td>technician</td>\n",
       "      <td>married</td>\n",
       "      <td>professional.course</td>\n",
       "      <td>no</td>\n",
       "      <td>no</td>\n",
       "      <td>no</td>\n",
       "      <td>4</td>\n",
       "      <td>S17</td>\n",
       "      <td>...</td>\n",
       "      <td>999</td>\n",
       "      <td>0</td>\n",
       "      <td>nonexistent</td>\n",
       "      <td>yes</td>\n",
       "      <td>-1.1</td>\n",
       "      <td>94.767</td>\n",
       "      <td>-50.8</td>\n",
       "      <td>1.028</td>\n",
       "      <td>4963.6</td>\n",
       "      <td>85254</td>\n",
       "    </tr>\n",
       "    <tr>\n",
       "      <th>37083</th>\n",
       "      <td>37084</td>\n",
       "      <td>74</td>\n",
       "      <td>retired</td>\n",
       "      <td>married</td>\n",
       "      <td>professional.course</td>\n",
       "      <td>no</td>\n",
       "      <td>yes</td>\n",
       "      <td>no</td>\n",
       "      <td>1</td>\n",
       "      <td>S6</td>\n",
       "      <td>...</td>\n",
       "      <td>999</td>\n",
       "      <td>1</td>\n",
       "      <td>failure</td>\n",
       "      <td>no</td>\n",
       "      <td>-1.1</td>\n",
       "      <td>94.767</td>\n",
       "      <td>-50.8</td>\n",
       "      <td>1.028</td>\n",
       "      <td>4963.6</td>\n",
       "      <td>79109</td>\n",
       "    </tr>\n",
       "  </tbody>\n",
       "</table>\n",
       "<p>37084 rows × 26 columns</p>\n",
       "</div>"
      ],
      "text/plain": [
       "       Customer_id  age          job  marital            education  default  \\\n",
       "0                1   56     services  married          high.school       no   \n",
       "1                2   45     services  married             basic.9y  unknown   \n",
       "2                3   59       admin.  married  professional.course       no   \n",
       "3                4   41  blue-collar  married              unknown  unknown   \n",
       "4                5   24   technician   single  professional.course       no   \n",
       "...            ...  ...          ...      ...                  ...      ...   \n",
       "37079        37080   73      retired  married  professional.course       no   \n",
       "37080        37081   46  blue-collar  married  professional.course       no   \n",
       "37081        37082   56      retired  married    university.degree       no   \n",
       "37082        37083   44   technician  married  professional.course       no   \n",
       "37083        37084   74      retired  married  professional.course       no   \n",
       "\n",
       "      housing loan Region_Code State_Code  ... pdays previous     poutcome  \\\n",
       "0          no  yes           3         S1  ...   999        0  nonexistent   \n",
       "1          no   no           3         S1  ...   999        0  nonexistent   \n",
       "2          no   no           4         S2  ...   999        0  nonexistent   \n",
       "3          no   no           3         S3  ...   999        0  nonexistent   \n",
       "4         yes   no           3         S3  ...   999        0  nonexistent   \n",
       "...       ...  ...         ...        ...  ...   ...      ...          ...   \n",
       "37079     yes   no           2        S16  ...   999        0  nonexistent   \n",
       "37080      no   no           2        S16  ...   999        0  nonexistent   \n",
       "37081     yes   no           2        S16  ...   999        0  nonexistent   \n",
       "37082      no   no           4        S17  ...   999        0  nonexistent   \n",
       "37083     yes   no           1         S6  ...   999        1      failure   \n",
       "\n",
       "         y  emp.var.rate  cons.price.idx  cons.conf.idx  euribor3m  \\\n",
       "0       no           1.1          93.994          -36.4      4.857   \n",
       "1       no           1.1          93.994          -36.4      4.857   \n",
       "2       no           1.1          93.994          -36.4      4.857   \n",
       "3       no           1.1          93.994          -36.4      4.857   \n",
       "4       no           1.1          93.994          -36.4      4.857   \n",
       "...    ...           ...             ...            ...        ...   \n",
       "37079  yes          -1.1          94.767          -50.8      1.028   \n",
       "37080   no          -1.1          94.767          -50.8      1.028   \n",
       "37081   no          -1.1          94.767          -50.8      1.028   \n",
       "37082  yes          -1.1          94.767          -50.8      1.028   \n",
       "37083   no          -1.1          94.767          -50.8      1.028   \n",
       "\n",
       "      nr.employed Postal Code  \n",
       "0          5191.0       42420  \n",
       "1          5191.0       42420  \n",
       "2          5191.0       90036  \n",
       "3          5191.0       33311  \n",
       "4          5191.0       33311  \n",
       "...           ...         ...  \n",
       "37079      4963.6       10009  \n",
       "37080      4963.6       10011  \n",
       "37081      4963.6       10009  \n",
       "37082      4963.6       85254  \n",
       "37083      4963.6       79109  \n",
       "\n",
       "[37084 rows x 26 columns]"
      ]
     },
     "execution_count": 717,
     "metadata": {},
     "output_type": "execute_result"
    }
   ],
   "source": [
    "df"
   ]
  },
  {
   "cell_type": "code",
   "execution_count": 718,
   "id": "9b414eac",
   "metadata": {},
   "outputs": [
    {
     "name": "stderr",
     "output_type": "stream",
     "text": [
      "C:\\Users\\iraghupathivasish\\Anaconda3\\lib\\site-packages\\seaborn\\axisgrid.py:316: UserWarning: The `size` parameter has been renamed to `height`; please update your code.\n",
      "  warnings.warn(msg, UserWarning)\n"
     ]
    },
    {
     "data": {
      "text/plain": [
       "<seaborn.axisgrid.FacetGrid at 0x200c39225e0>"
      ]
     },
     "execution_count": 718,
     "metadata": {},
     "output_type": "execute_result"
    },
    {
     "data": {
      "image/png": "[encoded data removed]",
      "text/plain": [
       "<Figure size 1161.38x360 with 3 Axes>"
      ]
     },
     "metadata": {
      "needs_background": "light"
     },
     "output_type": "display_data"
    }
   ],
   "source": [
    "g=sns.FacetGrid(df,hue='marital',size=5,col='loan')\n",
    "g.map(plt.hist,'age',alpha=0.6)\n",
    "g.add_legend()"
   ]
  },
  {
   "cell_type": "code",
   "execution_count": 719,
   "id": "c2347f85",
   "metadata": {
    "scrolled": true
   },
   "outputs": [
    {
     "data": {
      "image/png": "[encoded data removed]",
      "text/plain": [
       "<Figure size 1673.25x360 with 3 Axes>"
      ]
     },
     "metadata": {
      "needs_background": "light"
     },
     "output_type": "display_data"
    }
   ],
   "source": [
    "g=sns.lmplot(x='age',y='campaign',hue='y',data=df,aspect=1.5,col='loan',fit_reg=False)"
   ]
  },
  {
   "cell_type": "code",
   "execution_count": 720,
   "id": "b2d5f47e",
   "metadata": {},
   "outputs": [
    {
     "data": {
      "text/plain": [
       "<AxesSubplot:xlabel='marital', ylabel='campaign'>"
      ]
     },
     "execution_count": 720,
     "metadata": {},
     "output_type": "execute_result"
    },
    {
     "data": {
      "image/png": "[encoded data removed]",
      "text/plain": [
       "<Figure size 432x288 with 1 Axes>"
      ]
     },
     "metadata": {
      "needs_background": "light"
     },
     "output_type": "display_data"
    }
   ],
   "source": [
    "sns.barplot(x ='marital', y = 'campaign', data = df,hue='y')\n",
    "#sns.lmplot(x='cons.price.idx',y='cons.conf.idx',data=df)"
   ]
  },
  {
   "cell_type": "markdown",
   "id": "9ad6b3ee",
   "metadata": {},
   "source": [
    "## Missing values identification and treatment "
   ]
  },
  {
   "cell_type": "code",
   "execution_count": 721,
   "id": "e989b2d7",
   "metadata": {
    "scrolled": true
   },
   "outputs": [
    {
     "data": {
      "text/html": [
       "<div>\n",
       "<style scoped>\n",
       "    .dataframe tbody tr th:only-of-type {\n",
       "        vertical-align: middle;\n",
       "    }\n",
       "\n",
       "    .dataframe tbody tr th {\n",
       "        vertical-align: top;\n",
       "    }\n",
       "\n",
       "    .dataframe thead th {\n",
       "        text-align: right;\n",
       "    }\n",
       "</style>\n",
       "<table border=\"1\" class=\"dataframe\">\n",
       "  <thead>\n",
       "    <tr style=\"text-align: right;\">\n",
       "      <th></th>\n",
       "      <th>Customer_id</th>\n",
       "      <th>age</th>\n",
       "      <th>job</th>\n",
       "      <th>marital</th>\n",
       "      <th>education</th>\n",
       "      <th>default</th>\n",
       "      <th>housing</th>\n",
       "      <th>loan</th>\n",
       "      <th>Region_Code</th>\n",
       "      <th>State_Code</th>\n",
       "      <th>...</th>\n",
       "      <th>pdays</th>\n",
       "      <th>previous</th>\n",
       "      <th>poutcome</th>\n",
       "      <th>y</th>\n",
       "      <th>emp.var.rate</th>\n",
       "      <th>cons.price.idx</th>\n",
       "      <th>cons.conf.idx</th>\n",
       "      <th>euribor3m</th>\n",
       "      <th>nr.employed</th>\n",
       "      <th>Postal Code</th>\n",
       "    </tr>\n",
       "  </thead>\n",
       "  <tbody>\n",
       "    <tr>\n",
       "      <th>0</th>\n",
       "      <td>1</td>\n",
       "      <td>56</td>\n",
       "      <td>services</td>\n",
       "      <td>married</td>\n",
       "      <td>high.school</td>\n",
       "      <td>no</td>\n",
       "      <td>no</td>\n",
       "      <td>yes</td>\n",
       "      <td>3</td>\n",
       "      <td>S1</td>\n",
       "      <td>...</td>\n",
       "      <td>999</td>\n",
       "      <td>0</td>\n",
       "      <td>nonexistent</td>\n",
       "      <td>no</td>\n",
       "      <td>1.1</td>\n",
       "      <td>93.994</td>\n",
       "      <td>-36.4</td>\n",
       "      <td>4.857</td>\n",
       "      <td>5191.0</td>\n",
       "      <td>42420</td>\n",
       "    </tr>\n",
       "    <tr>\n",
       "      <th>1</th>\n",
       "      <td>2</td>\n",
       "      <td>45</td>\n",
       "      <td>services</td>\n",
       "      <td>married</td>\n",
       "      <td>basic.9y</td>\n",
       "      <td>unknown</td>\n",
       "      <td>no</td>\n",
       "      <td>no</td>\n",
       "      <td>3</td>\n",
       "      <td>S1</td>\n",
       "      <td>...</td>\n",
       "      <td>999</td>\n",
       "      <td>0</td>\n",
       "      <td>nonexistent</td>\n",
       "      <td>no</td>\n",
       "      <td>1.1</td>\n",
       "      <td>93.994</td>\n",
       "      <td>-36.4</td>\n",
       "      <td>4.857</td>\n",
       "      <td>5191.0</td>\n",
       "      <td>42420</td>\n",
       "    </tr>\n",
       "    <tr>\n",
       "      <th>2</th>\n",
       "      <td>3</td>\n",
       "      <td>59</td>\n",
       "      <td>admin.</td>\n",
       "      <td>married</td>\n",
       "      <td>professional.course</td>\n",
       "      <td>no</td>\n",
       "      <td>no</td>\n",
       "      <td>no</td>\n",
       "      <td>4</td>\n",
       "      <td>S2</td>\n",
       "      <td>...</td>\n",
       "      <td>999</td>\n",
       "      <td>0</td>\n",
       "      <td>nonexistent</td>\n",
       "      <td>no</td>\n",
       "      <td>1.1</td>\n",
       "      <td>93.994</td>\n",
       "      <td>-36.4</td>\n",
       "      <td>4.857</td>\n",
       "      <td>5191.0</td>\n",
       "      <td>90036</td>\n",
       "    </tr>\n",
       "    <tr>\n",
       "      <th>3</th>\n",
       "      <td>4</td>\n",
       "      <td>41</td>\n",
       "      <td>blue-collar</td>\n",
       "      <td>married</td>\n",
       "      <td>unknown</td>\n",
       "      <td>unknown</td>\n",
       "      <td>no</td>\n",
       "      <td>no</td>\n",
       "      <td>3</td>\n",
       "      <td>S3</td>\n",
       "      <td>...</td>\n",
       "      <td>999</td>\n",
       "      <td>0</td>\n",
       "      <td>nonexistent</td>\n",
       "      <td>no</td>\n",
       "      <td>1.1</td>\n",
       "      <td>93.994</td>\n",
       "      <td>-36.4</td>\n",
       "      <td>4.857</td>\n",
       "      <td>5191.0</td>\n",
       "      <td>33311</td>\n",
       "    </tr>\n",
       "    <tr>\n",
       "      <th>4</th>\n",
       "      <td>5</td>\n",
       "      <td>24</td>\n",
       "      <td>technician</td>\n",
       "      <td>single</td>\n",
       "      <td>professional.course</td>\n",
       "      <td>no</td>\n",
       "      <td>yes</td>\n",
       "      <td>no</td>\n",
       "      <td>3</td>\n",
       "      <td>S3</td>\n",
       "      <td>...</td>\n",
       "      <td>999</td>\n",
       "      <td>0</td>\n",
       "      <td>nonexistent</td>\n",
       "      <td>no</td>\n",
       "      <td>1.1</td>\n",
       "      <td>93.994</td>\n",
       "      <td>-36.4</td>\n",
       "      <td>4.857</td>\n",
       "      <td>5191.0</td>\n",
       "      <td>33311</td>\n",
       "    </tr>\n",
       "    <tr>\n",
       "      <th>...</th>\n",
       "      <td>...</td>\n",
       "      <td>...</td>\n",
       "      <td>...</td>\n",
       "      <td>...</td>\n",
       "      <td>...</td>\n",
       "      <td>...</td>\n",
       "      <td>...</td>\n",
       "      <td>...</td>\n",
       "      <td>...</td>\n",
       "      <td>...</td>\n",
       "      <td>...</td>\n",
       "      <td>...</td>\n",
       "      <td>...</td>\n",
       "      <td>...</td>\n",
       "      <td>...</td>\n",
       "      <td>...</td>\n",
       "      <td>...</td>\n",
       "      <td>...</td>\n",
       "      <td>...</td>\n",
       "      <td>...</td>\n",
       "      <td>...</td>\n",
       "    </tr>\n",
       "    <tr>\n",
       "      <th>37079</th>\n",
       "      <td>37080</td>\n",
       "      <td>73</td>\n",
       "      <td>retired</td>\n",
       "      <td>married</td>\n",
       "      <td>professional.course</td>\n",
       "      <td>no</td>\n",
       "      <td>yes</td>\n",
       "      <td>no</td>\n",
       "      <td>2</td>\n",
       "      <td>S16</td>\n",
       "      <td>...</td>\n",
       "      <td>999</td>\n",
       "      <td>0</td>\n",
       "      <td>nonexistent</td>\n",
       "      <td>yes</td>\n",
       "      <td>-1.1</td>\n",
       "      <td>94.767</td>\n",
       "      <td>-50.8</td>\n",
       "      <td>1.028</td>\n",
       "      <td>4963.6</td>\n",
       "      <td>10009</td>\n",
       "    </tr>\n",
       "    <tr>\n",
       "      <th>37080</th>\n",
       "      <td>37081</td>\n",
       "      <td>46</td>\n",
       "      <td>blue-collar</td>\n",
       "      <td>married</td>\n",
       "      <td>professional.course</td>\n",
       "      <td>no</td>\n",
       "      <td>no</td>\n",
       "      <td>no</td>\n",
       "      <td>2</td>\n",
       "      <td>S16</td>\n",
       "      <td>...</td>\n",
       "      <td>999</td>\n",
       "      <td>0</td>\n",
       "      <td>nonexistent</td>\n",
       "      <td>no</td>\n",
       "      <td>-1.1</td>\n",
       "      <td>94.767</td>\n",
       "      <td>-50.8</td>\n",
       "      <td>1.028</td>\n",
       "      <td>4963.6</td>\n",
       "      <td>10011</td>\n",
       "    </tr>\n",
       "    <tr>\n",
       "      <th>37081</th>\n",
       "      <td>37082</td>\n",
       "      <td>56</td>\n",
       "      <td>retired</td>\n",
       "      <td>married</td>\n",
       "      <td>university.degree</td>\n",
       "      <td>no</td>\n",
       "      <td>yes</td>\n",
       "      <td>no</td>\n",
       "      <td>2</td>\n",
       "      <td>S16</td>\n",
       "      <td>...</td>\n",
       "      <td>999</td>\n",
       "      <td>0</td>\n",
       "      <td>nonexistent</td>\n",
       "      <td>no</td>\n",
       "      <td>-1.1</td>\n",
       "      <td>94.767</td>\n",
       "      <td>-50.8</td>\n",
       "      <td>1.028</td>\n",
       "      <td>4963.6</td>\n",
       "      <td>10009</td>\n",
       "    </tr>\n",
       "    <tr>\n",
       "      <th>37082</th>\n",
       "      <td>37083</td>\n",
       "      <td>44</td>\n",
       "      <td>technician</td>\n",
       "      <td>married</td>\n",
       "      <td>professional.course</td>\n",
       "      <td>no</td>\n",
       "      <td>no</td>\n",
       "      <td>no</td>\n",
       "      <td>4</td>\n",
       "      <td>S17</td>\n",
       "      <td>...</td>\n",
       "      <td>999</td>\n",
       "      <td>0</td>\n",
       "      <td>nonexistent</td>\n",
       "      <td>yes</td>\n",
       "      <td>-1.1</td>\n",
       "      <td>94.767</td>\n",
       "      <td>-50.8</td>\n",
       "      <td>1.028</td>\n",
       "      <td>4963.6</td>\n",
       "      <td>85254</td>\n",
       "    </tr>\n",
       "    <tr>\n",
       "      <th>37083</th>\n",
       "      <td>37084</td>\n",
       "      <td>74</td>\n",
       "      <td>retired</td>\n",
       "      <td>married</td>\n",
       "      <td>professional.course</td>\n",
       "      <td>no</td>\n",
       "      <td>yes</td>\n",
       "      <td>no</td>\n",
       "      <td>1</td>\n",
       "      <td>S6</td>\n",
       "      <td>...</td>\n",
       "      <td>999</td>\n",
       "      <td>1</td>\n",
       "      <td>failure</td>\n",
       "      <td>no</td>\n",
       "      <td>-1.1</td>\n",
       "      <td>94.767</td>\n",
       "      <td>-50.8</td>\n",
       "      <td>1.028</td>\n",
       "      <td>4963.6</td>\n",
       "      <td>79109</td>\n",
       "    </tr>\n",
       "  </tbody>\n",
       "</table>\n",
       "<p>37084 rows × 26 columns</p>\n",
       "</div>"
      ],
      "text/plain": [
       "       Customer_id  age          job  marital            education  default  \\\n",
       "0                1   56     services  married          high.school       no   \n",
       "1                2   45     services  married             basic.9y  unknown   \n",
       "2                3   59       admin.  married  professional.course       no   \n",
       "3                4   41  blue-collar  married              unknown  unknown   \n",
       "4                5   24   technician   single  professional.course       no   \n",
       "...            ...  ...          ...      ...                  ...      ...   \n",
       "37079        37080   73      retired  married  professional.course       no   \n",
       "37080        37081   46  blue-collar  married  professional.course       no   \n",
       "37081        37082   56      retired  married    university.degree       no   \n",
       "37082        37083   44   technician  married  professional.course       no   \n",
       "37083        37084   74      retired  married  professional.course       no   \n",
       "\n",
       "      housing loan Region_Code State_Code  ... pdays previous     poutcome  \\\n",
       "0          no  yes           3         S1  ...   999        0  nonexistent   \n",
       "1          no   no           3         S1  ...   999        0  nonexistent   \n",
       "2          no   no           4         S2  ...   999        0  nonexistent   \n",
       "3          no   no           3         S3  ...   999        0  nonexistent   \n",
       "4         yes   no           3         S3  ...   999        0  nonexistent   \n",
       "...       ...  ...         ...        ...  ...   ...      ...          ...   \n",
       "37079     yes   no           2        S16  ...   999        0  nonexistent   \n",
       "37080      no   no           2        S16  ...   999        0  nonexistent   \n",
       "37081     yes   no           2        S16  ...   999        0  nonexistent   \n",
       "37082      no   no           4        S17  ...   999        0  nonexistent   \n",
       "37083     yes   no           1         S6  ...   999        1      failure   \n",
       "\n",
       "         y  emp.var.rate  cons.price.idx  cons.conf.idx  euribor3m  \\\n",
       "0       no           1.1          93.994          -36.4      4.857   \n",
       "1       no           1.1          93.994          -36.4      4.857   \n",
       "2       no           1.1          93.994          -36.4      4.857   \n",
       "3       no           1.1          93.994          -36.4      4.857   \n",
       "4       no           1.1          93.994          -36.4      4.857   \n",
       "...    ...           ...             ...            ...        ...   \n",
       "37079  yes          -1.1          94.767          -50.8      1.028   \n",
       "37080   no          -1.1          94.767          -50.8      1.028   \n",
       "37081   no          -1.1          94.767          -50.8      1.028   \n",
       "37082  yes          -1.1          94.767          -50.8      1.028   \n",
       "37083   no          -1.1          94.767          -50.8      1.028   \n",
       "\n",
       "      nr.employed Postal Code  \n",
       "0          5191.0       42420  \n",
       "1          5191.0       42420  \n",
       "2          5191.0       90036  \n",
       "3          5191.0       33311  \n",
       "4          5191.0       33311  \n",
       "...           ...         ...  \n",
       "37079      4963.6       10009  \n",
       "37080      4963.6       10011  \n",
       "37081      4963.6       10009  \n",
       "37082      4963.6       85254  \n",
       "37083      4963.6       79109  \n",
       "\n",
       "[37084 rows x 26 columns]"
      ]
     },
     "execution_count": 721,
     "metadata": {},
     "output_type": "execute_result"
    }
   ],
   "source": [
    "df"
   ]
  },
  {
   "cell_type": "code",
   "execution_count": 722,
   "id": "49d5685c",
   "metadata": {},
   "outputs": [
    {
     "data": {
      "text/plain": [
       "(37084, 26)"
      ]
     },
     "execution_count": 722,
     "metadata": {},
     "output_type": "execute_result"
    }
   ],
   "source": [
    "df.shape"
   ]
  },
  {
   "cell_type": "code",
   "execution_count": 723,
   "id": "5f3bebf0",
   "metadata": {},
   "outputs": [
    {
     "data": {
      "text/html": [
       "<div>\n",
       "<style scoped>\n",
       "    .dataframe tbody tr th:only-of-type {\n",
       "        vertical-align: middle;\n",
       "    }\n",
       "\n",
       "    .dataframe tbody tr th {\n",
       "        vertical-align: top;\n",
       "    }\n",
       "\n",
       "    .dataframe thead th {\n",
       "        text-align: right;\n",
       "    }\n",
       "</style>\n",
       "<table border=\"1\" class=\"dataframe\">\n",
       "  <thead>\n",
       "    <tr style=\"text-align: right;\">\n",
       "      <th></th>\n",
       "      <th>Customer_id</th>\n",
       "      <th>age</th>\n",
       "      <th>duration</th>\n",
       "      <th>campaign</th>\n",
       "      <th>pdays</th>\n",
       "      <th>previous</th>\n",
       "      <th>emp.var.rate</th>\n",
       "      <th>cons.price.idx</th>\n",
       "      <th>cons.conf.idx</th>\n",
       "      <th>euribor3m</th>\n",
       "      <th>nr.employed</th>\n",
       "      <th>Postal Code</th>\n",
       "    </tr>\n",
       "  </thead>\n",
       "  <tbody>\n",
       "    <tr>\n",
       "      <th>count</th>\n",
       "      <td>37084.000000</td>\n",
       "      <td>37084.000000</td>\n",
       "      <td>37084.000000</td>\n",
       "      <td>37084.000000</td>\n",
       "      <td>37084.000000</td>\n",
       "      <td>37084.000000</td>\n",
       "      <td>37084.000000</td>\n",
       "      <td>37084.000000</td>\n",
       "      <td>37084.000000</td>\n",
       "      <td>37084.000000</td>\n",
       "      <td>37084.000000</td>\n",
       "      <td>37084.000000</td>\n",
       "    </tr>\n",
       "    <tr>\n",
       "      <th>mean</th>\n",
       "      <td>18542.500000</td>\n",
       "      <td>40.042714</td>\n",
       "      <td>258.237946</td>\n",
       "      <td>2.569545</td>\n",
       "      <td>962.530849</td>\n",
       "      <td>0.172986</td>\n",
       "      <td>0.082669</td>\n",
       "      <td>93.576076</td>\n",
       "      <td>-40.505183</td>\n",
       "      <td>3.621668</td>\n",
       "      <td>5167.058664</td>\n",
       "      <td>55202.625553</td>\n",
       "    </tr>\n",
       "    <tr>\n",
       "      <th>std</th>\n",
       "      <td>10705.373028</td>\n",
       "      <td>10.432965</td>\n",
       "      <td>258.730909</td>\n",
       "      <td>2.770611</td>\n",
       "      <td>186.773063</td>\n",
       "      <td>0.495681</td>\n",
       "      <td>1.568997</td>\n",
       "      <td>0.578493</td>\n",
       "      <td>4.622045</td>\n",
       "      <td>1.733972</td>\n",
       "      <td>72.196605</td>\n",
       "      <td>32057.300954</td>\n",
       "    </tr>\n",
       "    <tr>\n",
       "      <th>min</th>\n",
       "      <td>1.000000</td>\n",
       "      <td>17.000000</td>\n",
       "      <td>0.000000</td>\n",
       "      <td>1.000000</td>\n",
       "      <td>0.000000</td>\n",
       "      <td>0.000000</td>\n",
       "      <td>-3.400000</td>\n",
       "      <td>92.201000</td>\n",
       "      <td>-50.800000</td>\n",
       "      <td>0.634000</td>\n",
       "      <td>4963.600000</td>\n",
       "      <td>1040.000000</td>\n",
       "    </tr>\n",
       "    <tr>\n",
       "      <th>25%</th>\n",
       "      <td>9271.750000</td>\n",
       "      <td>32.000000</td>\n",
       "      <td>102.000000</td>\n",
       "      <td>1.000000</td>\n",
       "      <td>999.000000</td>\n",
       "      <td>0.000000</td>\n",
       "      <td>-1.800000</td>\n",
       "      <td>93.075000</td>\n",
       "      <td>-42.700000</td>\n",
       "      <td>1.344000</td>\n",
       "      <td>5099.100000</td>\n",
       "      <td>23223.000000</td>\n",
       "    </tr>\n",
       "    <tr>\n",
       "      <th>50%</th>\n",
       "      <td>18542.500000</td>\n",
       "      <td>38.000000</td>\n",
       "      <td>180.000000</td>\n",
       "      <td>2.000000</td>\n",
       "      <td>999.000000</td>\n",
       "      <td>0.000000</td>\n",
       "      <td>1.100000</td>\n",
       "      <td>93.749000</td>\n",
       "      <td>-41.800000</td>\n",
       "      <td>4.857000</td>\n",
       "      <td>5191.000000</td>\n",
       "      <td>56301.000000</td>\n",
       "    </tr>\n",
       "    <tr>\n",
       "      <th>75%</th>\n",
       "      <td>27813.250000</td>\n",
       "      <td>47.000000</td>\n",
       "      <td>319.250000</td>\n",
       "      <td>3.000000</td>\n",
       "      <td>999.000000</td>\n",
       "      <td>0.000000</td>\n",
       "      <td>1.400000</td>\n",
       "      <td>93.994000</td>\n",
       "      <td>-36.400000</td>\n",
       "      <td>4.961000</td>\n",
       "      <td>5228.100000</td>\n",
       "      <td>90008.000000</td>\n",
       "    </tr>\n",
       "    <tr>\n",
       "      <th>max</th>\n",
       "      <td>37084.000000</td>\n",
       "      <td>98.000000</td>\n",
       "      <td>4918.000000</td>\n",
       "      <td>56.000000</td>\n",
       "      <td>999.000000</td>\n",
       "      <td>7.000000</td>\n",
       "      <td>1.400000</td>\n",
       "      <td>94.767000</td>\n",
       "      <td>-26.900000</td>\n",
       "      <td>5.045000</td>\n",
       "      <td>5228.100000</td>\n",
       "      <td>99301.000000</td>\n",
       "    </tr>\n",
       "  </tbody>\n",
       "</table>\n",
       "</div>"
      ],
      "text/plain": [
       "        Customer_id           age      duration      campaign         pdays  \\\n",
       "count  37084.000000  37084.000000  37084.000000  37084.000000  37084.000000   \n",
       "mean   18542.500000     40.042714    258.237946      2.569545    962.530849   \n",
       "std    10705.373028     10.432965    258.730909      2.770611    186.773063   \n",
       "min        1.000000     17.000000      0.000000      1.000000      0.000000   \n",
       "25%     9271.750000     32.000000    102.000000      1.000000    999.000000   \n",
       "50%    18542.500000     38.000000    180.000000      2.000000    999.000000   \n",
       "75%    27813.250000     47.000000    319.250000      3.000000    999.000000   \n",
       "max    37084.000000     98.000000   4918.000000     56.000000    999.000000   \n",
       "\n",
       "           previous  emp.var.rate  cons.price.idx  cons.conf.idx  \\\n",
       "count  37084.000000  37084.000000    37084.000000   37084.000000   \n",
       "mean       0.172986      0.082669       93.576076     -40.505183   \n",
       "std        0.495681      1.568997        0.578493       4.622045   \n",
       "min        0.000000     -3.400000       92.201000     -50.800000   \n",
       "25%        0.000000     -1.800000       93.075000     -42.700000   \n",
       "50%        0.000000      1.100000       93.749000     -41.800000   \n",
       "75%        0.000000      1.400000       93.994000     -36.400000   \n",
       "max        7.000000      1.400000       94.767000     -26.900000   \n",
       "\n",
       "          euribor3m   nr.employed   Postal Code  \n",
       "count  37084.000000  37084.000000  37084.000000  \n",
       "mean       3.621668   5167.058664  55202.625553  \n",
       "std        1.733972     72.196605  32057.300954  \n",
       "min        0.634000   4963.600000   1040.000000  \n",
       "25%        1.344000   5099.100000  23223.000000  \n",
       "50%        4.857000   5191.000000  56301.000000  \n",
       "75%        4.961000   5228.100000  90008.000000  \n",
       "max        5.045000   5228.100000  99301.000000  "
      ]
     },
     "execution_count": 723,
     "metadata": {},
     "output_type": "execute_result"
    }
   ],
   "source": [
    "df.describe()"
   ]
  },
  {
   "cell_type": "code",
   "execution_count": 724,
   "id": "fa85c322",
   "metadata": {},
   "outputs": [
    {
     "name": "stdout",
     "output_type": "stream",
     "text": [
      "<class 'pandas.core.frame.DataFrame'>\n",
      "Int64Index: 37084 entries, 0 to 37083\n",
      "Data columns (total 26 columns):\n",
      " #   Column          Non-Null Count  Dtype  \n",
      "---  ------          --------------  -----  \n",
      " 0   Customer_id     37084 non-null  int64  \n",
      " 1   age             37084 non-null  int64  \n",
      " 2   job             37084 non-null  object \n",
      " 3   marital         37084 non-null  object \n",
      " 4   education       37084 non-null  object \n",
      " 5   default         37084 non-null  object \n",
      " 6   housing         37084 non-null  object \n",
      " 7   loan            37084 non-null  object \n",
      " 8   Region_Code     37084 non-null  object \n",
      " 9   State_Code      37084 non-null  object \n",
      " 10  City_Code       37084 non-null  object \n",
      " 11  contact         37084 non-null  object \n",
      " 12  month           37084 non-null  object \n",
      " 13  day_of_week     37084 non-null  object \n",
      " 14  duration        37084 non-null  int64  \n",
      " 15  campaign        37084 non-null  int64  \n",
      " 16  pdays           37084 non-null  int64  \n",
      " 17  previous        37084 non-null  int64  \n",
      " 18  poutcome        37084 non-null  object \n",
      " 19  y               37084 non-null  object \n",
      " 20  emp.var.rate    37084 non-null  float64\n",
      " 21  cons.price.idx  37084 non-null  float64\n",
      " 22  cons.conf.idx   37084 non-null  float64\n",
      " 23  euribor3m       37084 non-null  float64\n",
      " 24  nr.employed     37084 non-null  float64\n",
      " 25  Postal Code     37084 non-null  int64  \n",
      "dtypes: float64(5), int64(7), object(14)\n",
      "memory usage: 8.6+ MB\n"
     ]
    }
   ],
   "source": [
    "df.info()"
   ]
  },
  {
   "cell_type": "code",
   "execution_count": 725,
   "id": "4b2902f0",
   "metadata": {},
   "outputs": [
    {
     "data": {
      "text/html": [
       "<div>\n",
       "<style scoped>\n",
       "    .dataframe tbody tr th:only-of-type {\n",
       "        vertical-align: middle;\n",
       "    }\n",
       "\n",
       "    .dataframe tbody tr th {\n",
       "        vertical-align: top;\n",
       "    }\n",
       "\n",
       "    .dataframe thead th {\n",
       "        text-align: right;\n",
       "    }\n",
       "</style>\n",
       "<table border=\"1\" class=\"dataframe\">\n",
       "  <thead>\n",
       "    <tr style=\"text-align: right;\">\n",
       "      <th></th>\n",
       "      <th>Customer_id</th>\n",
       "      <th>age</th>\n",
       "      <th>job</th>\n",
       "      <th>marital</th>\n",
       "      <th>education</th>\n",
       "      <th>default</th>\n",
       "      <th>housing</th>\n",
       "      <th>loan</th>\n",
       "      <th>Region_Code</th>\n",
       "      <th>State_Code</th>\n",
       "      <th>...</th>\n",
       "      <th>pdays</th>\n",
       "      <th>previous</th>\n",
       "      <th>poutcome</th>\n",
       "      <th>y</th>\n",
       "      <th>emp.var.rate</th>\n",
       "      <th>cons.price.idx</th>\n",
       "      <th>cons.conf.idx</th>\n",
       "      <th>euribor3m</th>\n",
       "      <th>nr.employed</th>\n",
       "      <th>Postal Code</th>\n",
       "    </tr>\n",
       "  </thead>\n",
       "  <tbody>\n",
       "    <tr>\n",
       "      <th>0</th>\n",
       "      <td>1</td>\n",
       "      <td>56</td>\n",
       "      <td>services</td>\n",
       "      <td>married</td>\n",
       "      <td>high.school</td>\n",
       "      <td>no</td>\n",
       "      <td>no</td>\n",
       "      <td>yes</td>\n",
       "      <td>3</td>\n",
       "      <td>S1</td>\n",
       "      <td>...</td>\n",
       "      <td>999</td>\n",
       "      <td>0</td>\n",
       "      <td>nonexistent</td>\n",
       "      <td>no</td>\n",
       "      <td>1.1</td>\n",
       "      <td>93.994</td>\n",
       "      <td>-36.4</td>\n",
       "      <td>4.857</td>\n",
       "      <td>5191.0</td>\n",
       "      <td>42420</td>\n",
       "    </tr>\n",
       "    <tr>\n",
       "      <th>1</th>\n",
       "      <td>2</td>\n",
       "      <td>45</td>\n",
       "      <td>services</td>\n",
       "      <td>married</td>\n",
       "      <td>basic.9y</td>\n",
       "      <td>unknown</td>\n",
       "      <td>no</td>\n",
       "      <td>no</td>\n",
       "      <td>3</td>\n",
       "      <td>S1</td>\n",
       "      <td>...</td>\n",
       "      <td>999</td>\n",
       "      <td>0</td>\n",
       "      <td>nonexistent</td>\n",
       "      <td>no</td>\n",
       "      <td>1.1</td>\n",
       "      <td>93.994</td>\n",
       "      <td>-36.4</td>\n",
       "      <td>4.857</td>\n",
       "      <td>5191.0</td>\n",
       "      <td>42420</td>\n",
       "    </tr>\n",
       "    <tr>\n",
       "      <th>2</th>\n",
       "      <td>3</td>\n",
       "      <td>59</td>\n",
       "      <td>admin.</td>\n",
       "      <td>married</td>\n",
       "      <td>professional.course</td>\n",
       "      <td>no</td>\n",
       "      <td>no</td>\n",
       "      <td>no</td>\n",
       "      <td>4</td>\n",
       "      <td>S2</td>\n",
       "      <td>...</td>\n",
       "      <td>999</td>\n",
       "      <td>0</td>\n",
       "      <td>nonexistent</td>\n",
       "      <td>no</td>\n",
       "      <td>1.1</td>\n",
       "      <td>93.994</td>\n",
       "      <td>-36.4</td>\n",
       "      <td>4.857</td>\n",
       "      <td>5191.0</td>\n",
       "      <td>90036</td>\n",
       "    </tr>\n",
       "    <tr>\n",
       "      <th>3</th>\n",
       "      <td>4</td>\n",
       "      <td>41</td>\n",
       "      <td>blue-collar</td>\n",
       "      <td>married</td>\n",
       "      <td>unknown</td>\n",
       "      <td>unknown</td>\n",
       "      <td>no</td>\n",
       "      <td>no</td>\n",
       "      <td>3</td>\n",
       "      <td>S3</td>\n",
       "      <td>...</td>\n",
       "      <td>999</td>\n",
       "      <td>0</td>\n",
       "      <td>nonexistent</td>\n",
       "      <td>no</td>\n",
       "      <td>1.1</td>\n",
       "      <td>93.994</td>\n",
       "      <td>-36.4</td>\n",
       "      <td>4.857</td>\n",
       "      <td>5191.0</td>\n",
       "      <td>33311</td>\n",
       "    </tr>\n",
       "    <tr>\n",
       "      <th>4</th>\n",
       "      <td>5</td>\n",
       "      <td>24</td>\n",
       "      <td>technician</td>\n",
       "      <td>single</td>\n",
       "      <td>professional.course</td>\n",
       "      <td>no</td>\n",
       "      <td>yes</td>\n",
       "      <td>no</td>\n",
       "      <td>3</td>\n",
       "      <td>S3</td>\n",
       "      <td>...</td>\n",
       "      <td>999</td>\n",
       "      <td>0</td>\n",
       "      <td>nonexistent</td>\n",
       "      <td>no</td>\n",
       "      <td>1.1</td>\n",
       "      <td>93.994</td>\n",
       "      <td>-36.4</td>\n",
       "      <td>4.857</td>\n",
       "      <td>5191.0</td>\n",
       "      <td>33311</td>\n",
       "    </tr>\n",
       "  </tbody>\n",
       "</table>\n",
       "<p>5 rows × 26 columns</p>\n",
       "</div>"
      ],
      "text/plain": [
       "   Customer_id  age          job  marital            education  default  \\\n",
       "0            1   56     services  married          high.school       no   \n",
       "1            2   45     services  married             basic.9y  unknown   \n",
       "2            3   59       admin.  married  professional.course       no   \n",
       "3            4   41  blue-collar  married              unknown  unknown   \n",
       "4            5   24   technician   single  professional.course       no   \n",
       "\n",
       "  housing loan Region_Code State_Code  ... pdays previous     poutcome   y  \\\n",
       "0      no  yes           3         S1  ...   999        0  nonexistent  no   \n",
       "1      no   no           3         S1  ...   999        0  nonexistent  no   \n",
       "2      no   no           4         S2  ...   999        0  nonexistent  no   \n",
       "3      no   no           3         S3  ...   999        0  nonexistent  no   \n",
       "4     yes   no           3         S3  ...   999        0  nonexistent  no   \n",
       "\n",
       "   emp.var.rate  cons.price.idx  cons.conf.idx  euribor3m nr.employed  \\\n",
       "0           1.1          93.994          -36.4      4.857      5191.0   \n",
       "1           1.1          93.994          -36.4      4.857      5191.0   \n",
       "2           1.1          93.994          -36.4      4.857      5191.0   \n",
       "3           1.1          93.994          -36.4      4.857      5191.0   \n",
       "4           1.1          93.994          -36.4      4.857      5191.0   \n",
       "\n",
       "  Postal Code  \n",
       "0       42420  \n",
       "1       42420  \n",
       "2       90036  \n",
       "3       33311  \n",
       "4       33311  \n",
       "\n",
       "[5 rows x 26 columns]"
      ]
     },
     "execution_count": 725,
     "metadata": {},
     "output_type": "execute_result"
    }
   ],
   "source": [
    "df.head()"
   ]
  },
  {
   "cell_type": "code",
   "execution_count": 726,
   "id": "cf87359c",
   "metadata": {},
   "outputs": [
    {
     "data": {
      "text/html": [
       "<div>\n",
       "<style scoped>\n",
       "    .dataframe tbody tr th:only-of-type {\n",
       "        vertical-align: middle;\n",
       "    }\n",
       "\n",
       "    .dataframe tbody tr th {\n",
       "        vertical-align: top;\n",
       "    }\n",
       "\n",
       "    .dataframe thead th {\n",
       "        text-align: right;\n",
       "    }\n",
       "</style>\n",
       "<table border=\"1\" class=\"dataframe\">\n",
       "  <thead>\n",
       "    <tr style=\"text-align: right;\">\n",
       "      <th></th>\n",
       "      <th>Customer_id</th>\n",
       "      <th>age</th>\n",
       "      <th>job</th>\n",
       "      <th>marital</th>\n",
       "      <th>education</th>\n",
       "      <th>default</th>\n",
       "      <th>housing</th>\n",
       "      <th>loan</th>\n",
       "      <th>Region_Code</th>\n",
       "      <th>State_Code</th>\n",
       "      <th>...</th>\n",
       "      <th>pdays</th>\n",
       "      <th>previous</th>\n",
       "      <th>poutcome</th>\n",
       "      <th>y</th>\n",
       "      <th>emp.var.rate</th>\n",
       "      <th>cons.price.idx</th>\n",
       "      <th>cons.conf.idx</th>\n",
       "      <th>euribor3m</th>\n",
       "      <th>nr.employed</th>\n",
       "      <th>Postal Code</th>\n",
       "    </tr>\n",
       "  </thead>\n",
       "  <tbody>\n",
       "    <tr>\n",
       "      <th>37079</th>\n",
       "      <td>37080</td>\n",
       "      <td>73</td>\n",
       "      <td>retired</td>\n",
       "      <td>married</td>\n",
       "      <td>professional.course</td>\n",
       "      <td>no</td>\n",
       "      <td>yes</td>\n",
       "      <td>no</td>\n",
       "      <td>2</td>\n",
       "      <td>S16</td>\n",
       "      <td>...</td>\n",
       "      <td>999</td>\n",
       "      <td>0</td>\n",
       "      <td>nonexistent</td>\n",
       "      <td>yes</td>\n",
       "      <td>-1.1</td>\n",
       "      <td>94.767</td>\n",
       "      <td>-50.8</td>\n",
       "      <td>1.028</td>\n",
       "      <td>4963.6</td>\n",
       "      <td>10009</td>\n",
       "    </tr>\n",
       "    <tr>\n",
       "      <th>37080</th>\n",
       "      <td>37081</td>\n",
       "      <td>46</td>\n",
       "      <td>blue-collar</td>\n",
       "      <td>married</td>\n",
       "      <td>professional.course</td>\n",
       "      <td>no</td>\n",
       "      <td>no</td>\n",
       "      <td>no</td>\n",
       "      <td>2</td>\n",
       "      <td>S16</td>\n",
       "      <td>...</td>\n",
       "      <td>999</td>\n",
       "      <td>0</td>\n",
       "      <td>nonexistent</td>\n",
       "      <td>no</td>\n",
       "      <td>-1.1</td>\n",
       "      <td>94.767</td>\n",
       "      <td>-50.8</td>\n",
       "      <td>1.028</td>\n",
       "      <td>4963.6</td>\n",
       "      <td>10011</td>\n",
       "    </tr>\n",
       "    <tr>\n",
       "      <th>37081</th>\n",
       "      <td>37082</td>\n",
       "      <td>56</td>\n",
       "      <td>retired</td>\n",
       "      <td>married</td>\n",
       "      <td>university.degree</td>\n",
       "      <td>no</td>\n",
       "      <td>yes</td>\n",
       "      <td>no</td>\n",
       "      <td>2</td>\n",
       "      <td>S16</td>\n",
       "      <td>...</td>\n",
       "      <td>999</td>\n",
       "      <td>0</td>\n",
       "      <td>nonexistent</td>\n",
       "      <td>no</td>\n",
       "      <td>-1.1</td>\n",
       "      <td>94.767</td>\n",
       "      <td>-50.8</td>\n",
       "      <td>1.028</td>\n",
       "      <td>4963.6</td>\n",
       "      <td>10009</td>\n",
       "    </tr>\n",
       "    <tr>\n",
       "      <th>37082</th>\n",
       "      <td>37083</td>\n",
       "      <td>44</td>\n",
       "      <td>technician</td>\n",
       "      <td>married</td>\n",
       "      <td>professional.course</td>\n",
       "      <td>no</td>\n",
       "      <td>no</td>\n",
       "      <td>no</td>\n",
       "      <td>4</td>\n",
       "      <td>S17</td>\n",
       "      <td>...</td>\n",
       "      <td>999</td>\n",
       "      <td>0</td>\n",
       "      <td>nonexistent</td>\n",
       "      <td>yes</td>\n",
       "      <td>-1.1</td>\n",
       "      <td>94.767</td>\n",
       "      <td>-50.8</td>\n",
       "      <td>1.028</td>\n",
       "      <td>4963.6</td>\n",
       "      <td>85254</td>\n",
       "    </tr>\n",
       "    <tr>\n",
       "      <th>37083</th>\n",
       "      <td>37084</td>\n",
       "      <td>74</td>\n",
       "      <td>retired</td>\n",
       "      <td>married</td>\n",
       "      <td>professional.course</td>\n",
       "      <td>no</td>\n",
       "      <td>yes</td>\n",
       "      <td>no</td>\n",
       "      <td>1</td>\n",
       "      <td>S6</td>\n",
       "      <td>...</td>\n",
       "      <td>999</td>\n",
       "      <td>1</td>\n",
       "      <td>failure</td>\n",
       "      <td>no</td>\n",
       "      <td>-1.1</td>\n",
       "      <td>94.767</td>\n",
       "      <td>-50.8</td>\n",
       "      <td>1.028</td>\n",
       "      <td>4963.6</td>\n",
       "      <td>79109</td>\n",
       "    </tr>\n",
       "  </tbody>\n",
       "</table>\n",
       "<p>5 rows × 26 columns</p>\n",
       "</div>"
      ],
      "text/plain": [
       "       Customer_id  age          job  marital            education default  \\\n",
       "37079        37080   73      retired  married  professional.course      no   \n",
       "37080        37081   46  blue-collar  married  professional.course      no   \n",
       "37081        37082   56      retired  married    university.degree      no   \n",
       "37082        37083   44   technician  married  professional.course      no   \n",
       "37083        37084   74      retired  married  professional.course      no   \n",
       "\n",
       "      housing loan Region_Code State_Code  ... pdays previous     poutcome  \\\n",
       "37079     yes   no           2        S16  ...   999        0  nonexistent   \n",
       "37080      no   no           2        S16  ...   999        0  nonexistent   \n",
       "37081     yes   no           2        S16  ...   999        0  nonexistent   \n",
       "37082      no   no           4        S17  ...   999        0  nonexistent   \n",
       "37083     yes   no           1         S6  ...   999        1      failure   \n",
       "\n",
       "         y  emp.var.rate  cons.price.idx  cons.conf.idx  euribor3m  \\\n",
       "37079  yes          -1.1          94.767          -50.8      1.028   \n",
       "37080   no          -1.1          94.767          -50.8      1.028   \n",
       "37081   no          -1.1          94.767          -50.8      1.028   \n",
       "37082  yes          -1.1          94.767          -50.8      1.028   \n",
       "37083   no          -1.1          94.767          -50.8      1.028   \n",
       "\n",
       "      nr.employed Postal Code  \n",
       "37079      4963.6       10009  \n",
       "37080      4963.6       10011  \n",
       "37081      4963.6       10009  \n",
       "37082      4963.6       85254  \n",
       "37083      4963.6       79109  \n",
       "\n",
       "[5 rows x 26 columns]"
      ]
     },
     "execution_count": 726,
     "metadata": {},
     "output_type": "execute_result"
    }
   ],
   "source": [
    "df.tail()"
   ]
  },
  {
   "cell_type": "code",
   "execution_count": 727,
   "id": "57ba4326",
   "metadata": {},
   "outputs": [
    {
     "data": {
      "text/plain": [
       "Customer_id       False\n",
       "age               False\n",
       "job               False\n",
       "marital           False\n",
       "education         False\n",
       "default           False\n",
       "housing           False\n",
       "loan              False\n",
       "Region_Code       False\n",
       "State_Code        False\n",
       "City_Code         False\n",
       "contact           False\n",
       "month             False\n",
       "day_of_week       False\n",
       "duration          False\n",
       "campaign          False\n",
       "pdays             False\n",
       "previous          False\n",
       "poutcome          False\n",
       "y                 False\n",
       "emp.var.rate      False\n",
       "cons.price.idx    False\n",
       "cons.conf.idx     False\n",
       "euribor3m         False\n",
       "nr.employed       False\n",
       "Postal Code       False\n",
       "dtype: bool"
      ]
     },
     "execution_count": 727,
     "metadata": {},
     "output_type": "execute_result"
    }
   ],
   "source": [
    "df.isna().any()"
   ]
  },
  {
   "cell_type": "code",
   "execution_count": 728,
   "id": "da7e23a6",
   "metadata": {},
   "outputs": [
    {
     "data": {
      "text/plain": [
       "array([    1,     2,     3, ..., 37082, 37083, 37084], dtype=int64)"
      ]
     },
     "execution_count": 728,
     "metadata": {},
     "output_type": "execute_result"
    }
   ],
   "source": [
    "df['Customer_id'].unique()"
   ]
  },
  {
   "cell_type": "code",
   "execution_count": 729,
   "id": "eb973308",
   "metadata": {},
   "outputs": [
    {
     "data": {
      "text/plain": [
       "array([56, 45, 59, 41, 24, 25, 29, 57, 35, 54, 46, 50, 39, 55, 37, 49, 34,\n",
       "       52, 58, 32, 38, 44, 42, 40, 60, 53, 47, 51, 48, 33, 31, 43, 36, 28,\n",
       "       30, 27, 22, 26, 23, 20, 21, 61, 19, 18, 70, 66, 76, 67, 73, 88, 95,\n",
       "       77, 68, 75, 80, 62, 63, 65, 72, 82, 64, 71, 69, 78, 85, 79, 83, 81,\n",
       "       74, 17, 91, 86, 98, 94, 84, 92, 89], dtype=int64)"
      ]
     },
     "execution_count": 729,
     "metadata": {},
     "output_type": "execute_result"
    }
   ],
   "source": [
    "df['age'].unique()"
   ]
  },
  {
   "cell_type": "markdown",
   "id": "b7c02364",
   "metadata": {},
   "source": [
    "#### Does 'unknown' need to be replaced/removed?"
   ]
  },
  {
   "cell_type": "code",
   "execution_count": 730,
   "id": "74023131",
   "metadata": {},
   "outputs": [
    {
     "data": {
      "text/plain": [
       "admin.           9420\n",
       "blue-collar      8314\n",
       "technician       6096\n",
       "services         3547\n",
       "management       2637\n",
       "retired          1541\n",
       "entrepreneur     1309\n",
       "self-employed    1276\n",
       "housemaid         946\n",
       "unemployed        925\n",
       "student           767\n",
       "unknown           306\n",
       "Name: job, dtype: int64"
      ]
     },
     "execution_count": 730,
     "metadata": {},
     "output_type": "execute_result"
    }
   ],
   "source": [
    "df['job'].unique()\n",
    "df['job'].value_counts()"
   ]
  },
  {
   "cell_type": "code",
   "execution_count": 731,
   "id": "ad7fd766",
   "metadata": {},
   "outputs": [
    {
     "data": {
      "text/plain": [
       "married     22479\n",
       "single      10407\n",
       "divorced     4126\n",
       "unknown        72\n",
       "Name: marital, dtype: int64"
      ]
     },
     "execution_count": 731,
     "metadata": {},
     "output_type": "execute_result"
    }
   ],
   "source": [
    "df['marital'].unique()\n",
    "df['marital'].value_counts()"
   ]
  },
  {
   "cell_type": "code",
   "execution_count": 732,
   "id": "ee81ac59",
   "metadata": {},
   "outputs": [
    {
     "data": {
      "text/plain": [
       "university.degree      10971\n",
       "high.school             8542\n",
       "basic.9y                5421\n",
       "professional.course     4746\n",
       "basic.4y                3765\n",
       "basic.6y                2074\n",
       "unknown                 1549\n",
       "illiterate                16\n",
       "Name: education, dtype: int64"
      ]
     },
     "execution_count": 732,
     "metadata": {},
     "output_type": "execute_result"
    }
   ],
   "source": [
    "df['education'].unique()\n",
    "df['education'].value_counts()"
   ]
  },
  {
   "cell_type": "code",
   "execution_count": 733,
   "id": "4ecf142b",
   "metadata": {},
   "outputs": [
    {
     "data": {
      "text/plain": [
       "no         29382\n",
       "unknown     7700\n",
       "yes            2\n",
       "Name: default, dtype: int64"
      ]
     },
     "execution_count": 733,
     "metadata": {},
     "output_type": "execute_result"
    }
   ],
   "source": [
    "df['default'].unique()\n",
    "df['default'].value_counts()"
   ]
  },
  {
   "cell_type": "code",
   "execution_count": 734,
   "id": "00882d66",
   "metadata": {},
   "outputs": [
    {
     "data": {
      "text/plain": [
       "yes        19433\n",
       "no         16769\n",
       "unknown      882\n",
       "Name: housing, dtype: int64"
      ]
     },
     "execution_count": 734,
     "metadata": {},
     "output_type": "execute_result"
    }
   ],
   "source": [
    "df['housing'].unique()\n",
    "df['housing'].value_counts()"
   ]
  },
  {
   "cell_type": "code",
   "execution_count": 735,
   "id": "a1e8390d",
   "metadata": {},
   "outputs": [
    {
     "data": {
      "text/plain": [
       "no         30561\n",
       "yes         5641\n",
       "unknown      882\n",
       "Name: loan, dtype: int64"
      ]
     },
     "execution_count": 735,
     "metadata": {},
     "output_type": "execute_result"
    }
   ],
   "source": [
    "df['loan'].unique()\n",
    "df['loan'].value_counts()"
   ]
  },
  {
   "cell_type": "code",
   "execution_count": 736,
   "id": "5ad6c5f2",
   "metadata": {},
   "outputs": [
    {
     "data": {
      "text/html": [
       "<div>\n",
       "<style scoped>\n",
       "    .dataframe tbody tr th:only-of-type {\n",
       "        vertical-align: middle;\n",
       "    }\n",
       "\n",
       "    .dataframe tbody tr th {\n",
       "        vertical-align: top;\n",
       "    }\n",
       "\n",
       "    .dataframe thead th {\n",
       "        text-align: right;\n",
       "    }\n",
       "</style>\n",
       "<table border=\"1\" class=\"dataframe\">\n",
       "  <thead>\n",
       "    <tr style=\"text-align: right;\">\n",
       "      <th></th>\n",
       "      <th>Customer_id</th>\n",
       "      <th>contact</th>\n",
       "      <th>month</th>\n",
       "      <th>day_of_week</th>\n",
       "      <th>duration</th>\n",
       "      <th>campaign</th>\n",
       "      <th>pdays</th>\n",
       "      <th>previous</th>\n",
       "      <th>poutcome</th>\n",
       "    </tr>\n",
       "  </thead>\n",
       "  <tbody>\n",
       "    <tr>\n",
       "      <th>0</th>\n",
       "      <td>1</td>\n",
       "      <td>telephone</td>\n",
       "      <td>may</td>\n",
       "      <td>mon</td>\n",
       "      <td>307</td>\n",
       "      <td>1</td>\n",
       "      <td>999</td>\n",
       "      <td>0</td>\n",
       "      <td>nonexistent</td>\n",
       "    </tr>\n",
       "    <tr>\n",
       "      <th>1</th>\n",
       "      <td>2</td>\n",
       "      <td>telephone</td>\n",
       "      <td>may</td>\n",
       "      <td>mon</td>\n",
       "      <td>198</td>\n",
       "      <td>1</td>\n",
       "      <td>999</td>\n",
       "      <td>0</td>\n",
       "      <td>nonexistent</td>\n",
       "    </tr>\n",
       "    <tr>\n",
       "      <th>2</th>\n",
       "      <td>3</td>\n",
       "      <td>telephone</td>\n",
       "      <td>may</td>\n",
       "      <td>mon</td>\n",
       "      <td>139</td>\n",
       "      <td>1</td>\n",
       "      <td>999</td>\n",
       "      <td>0</td>\n",
       "      <td>nonexistent</td>\n",
       "    </tr>\n",
       "    <tr>\n",
       "      <th>3</th>\n",
       "      <td>4</td>\n",
       "      <td>telephone</td>\n",
       "      <td>may</td>\n",
       "      <td>mon</td>\n",
       "      <td>217</td>\n",
       "      <td>1</td>\n",
       "      <td>999</td>\n",
       "      <td>0</td>\n",
       "      <td>nonexistent</td>\n",
       "    </tr>\n",
       "    <tr>\n",
       "      <th>4</th>\n",
       "      <td>5</td>\n",
       "      <td>telephone</td>\n",
       "      <td>may</td>\n",
       "      <td>mon</td>\n",
       "      <td>380</td>\n",
       "      <td>1</td>\n",
       "      <td>999</td>\n",
       "      <td>0</td>\n",
       "      <td>nonexistent</td>\n",
       "    </tr>\n",
       "    <tr>\n",
       "      <th>...</th>\n",
       "      <td>...</td>\n",
       "      <td>...</td>\n",
       "      <td>...</td>\n",
       "      <td>...</td>\n",
       "      <td>...</td>\n",
       "      <td>...</td>\n",
       "      <td>...</td>\n",
       "      <td>...</td>\n",
       "      <td>...</td>\n",
       "    </tr>\n",
       "    <tr>\n",
       "      <th>37079</th>\n",
       "      <td>37080</td>\n",
       "      <td>cellular</td>\n",
       "      <td>nov</td>\n",
       "      <td>fri</td>\n",
       "      <td>334</td>\n",
       "      <td>1</td>\n",
       "      <td>999</td>\n",
       "      <td>0</td>\n",
       "      <td>nonexistent</td>\n",
       "    </tr>\n",
       "    <tr>\n",
       "      <th>37080</th>\n",
       "      <td>37081</td>\n",
       "      <td>cellular</td>\n",
       "      <td>nov</td>\n",
       "      <td>fri</td>\n",
       "      <td>383</td>\n",
       "      <td>1</td>\n",
       "      <td>999</td>\n",
       "      <td>0</td>\n",
       "      <td>nonexistent</td>\n",
       "    </tr>\n",
       "    <tr>\n",
       "      <th>37081</th>\n",
       "      <td>37082</td>\n",
       "      <td>cellular</td>\n",
       "      <td>nov</td>\n",
       "      <td>fri</td>\n",
       "      <td>189</td>\n",
       "      <td>2</td>\n",
       "      <td>999</td>\n",
       "      <td>0</td>\n",
       "      <td>nonexistent</td>\n",
       "    </tr>\n",
       "    <tr>\n",
       "      <th>37082</th>\n",
       "      <td>37083</td>\n",
       "      <td>cellular</td>\n",
       "      <td>nov</td>\n",
       "      <td>fri</td>\n",
       "      <td>442</td>\n",
       "      <td>1</td>\n",
       "      <td>999</td>\n",
       "      <td>0</td>\n",
       "      <td>nonexistent</td>\n",
       "    </tr>\n",
       "    <tr>\n",
       "      <th>37083</th>\n",
       "      <td>37084</td>\n",
       "      <td>cellular</td>\n",
       "      <td>nov</td>\n",
       "      <td>fri</td>\n",
       "      <td>239</td>\n",
       "      <td>3</td>\n",
       "      <td>999</td>\n",
       "      <td>1</td>\n",
       "      <td>failure</td>\n",
       "    </tr>\n",
       "  </tbody>\n",
       "</table>\n",
       "<p>37084 rows × 9 columns</p>\n",
       "</div>"
      ],
      "text/plain": [
       "       Customer_id    contact month day_of_week  duration  campaign  pdays  \\\n",
       "0                1  telephone   may         mon       307         1    999   \n",
       "1                2  telephone   may         mon       198         1    999   \n",
       "2                3  telephone   may         mon       139         1    999   \n",
       "3                4  telephone   may         mon       217         1    999   \n",
       "4                5  telephone   may         mon       380         1    999   \n",
       "...            ...        ...   ...         ...       ...       ...    ...   \n",
       "37079        37080   cellular   nov         fri       334         1    999   \n",
       "37080        37081   cellular   nov         fri       383         1    999   \n",
       "37081        37082   cellular   nov         fri       189         2    999   \n",
       "37082        37083   cellular   nov         fri       442         1    999   \n",
       "37083        37084   cellular   nov         fri       239         3    999   \n",
       "\n",
       "       previous     poutcome  \n",
       "0             0  nonexistent  \n",
       "1             0  nonexistent  \n",
       "2             0  nonexistent  \n",
       "3             0  nonexistent  \n",
       "4             0  nonexistent  \n",
       "...         ...          ...  \n",
       "37079         0  nonexistent  \n",
       "37080         0  nonexistent  \n",
       "37081         0  nonexistent  \n",
       "37082         0  nonexistent  \n",
       "37083         1      failure  \n",
       "\n",
       "[37084 rows x 9 columns]"
      ]
     },
     "execution_count": 736,
     "metadata": {},
     "output_type": "execute_result"
    }
   ],
   "source": [
    "cust_camp_det"
   ]
  },
  {
   "cell_type": "code",
   "execution_count": 737,
   "id": "7ed9c883",
   "metadata": {
    "scrolled": true
   },
   "outputs": [
    {
     "data": {
      "text/plain": [
       "999    35722\n",
       "3        398\n",
       "6        361\n",
       "4        105\n",
       "9         57\n",
       "2         56\n",
       "12        54\n",
       "7         51\n",
       "10        46\n",
       "5         43\n",
       "13        34\n",
       "11        28\n",
       "1         25\n",
       "14        20\n",
       "15        19\n",
       "8         18\n",
       "0         12\n",
       "16        11\n",
       "17         8\n",
       "18         4\n",
       "19         3\n",
       "22         3\n",
       "21         2\n",
       "20         1\n",
       "25         1\n",
       "26         1\n",
       "27         1\n",
       "Name: pdays, dtype: int64"
      ]
     },
     "execution_count": 737,
     "metadata": {},
     "output_type": "execute_result"
    }
   ],
   "source": [
    "cust_camp_det['pdays'].value_counts()"
   ]
  },
  {
   "cell_type": "markdown",
   "id": "f2d636fe",
   "metadata": {},
   "source": [
    "Since 'pdays', 'poutcome' and variables have almost more than 90% of null/irrelevant data, the columns are being dropped."
   ]
  },
  {
   "cell_type": "code",
   "execution_count": 738,
   "id": "50188f4d",
   "metadata": {},
   "outputs": [
    {
     "data": {
      "text/html": [
       "<div>\n",
       "<style scoped>\n",
       "    .dataframe tbody tr th:only-of-type {\n",
       "        vertical-align: middle;\n",
       "    }\n",
       "\n",
       "    .dataframe tbody tr th {\n",
       "        vertical-align: top;\n",
       "    }\n",
       "\n",
       "    .dataframe thead th {\n",
       "        text-align: right;\n",
       "    }\n",
       "</style>\n",
       "<table border=\"1\" class=\"dataframe\">\n",
       "  <thead>\n",
       "    <tr style=\"text-align: right;\">\n",
       "      <th></th>\n",
       "      <th>Customer_id</th>\n",
       "      <th>age</th>\n",
       "      <th>job</th>\n",
       "      <th>marital</th>\n",
       "      <th>education</th>\n",
       "      <th>default</th>\n",
       "      <th>housing</th>\n",
       "      <th>loan</th>\n",
       "      <th>Region_Code</th>\n",
       "      <th>State_Code</th>\n",
       "      <th>...</th>\n",
       "      <th>pdays</th>\n",
       "      <th>previous</th>\n",
       "      <th>poutcome</th>\n",
       "      <th>y</th>\n",
       "      <th>emp.var.rate</th>\n",
       "      <th>cons.price.idx</th>\n",
       "      <th>cons.conf.idx</th>\n",
       "      <th>euribor3m</th>\n",
       "      <th>nr.employed</th>\n",
       "      <th>Postal Code</th>\n",
       "    </tr>\n",
       "  </thead>\n",
       "  <tbody>\n",
       "    <tr>\n",
       "      <th>0</th>\n",
       "      <td>1</td>\n",
       "      <td>56</td>\n",
       "      <td>services</td>\n",
       "      <td>married</td>\n",
       "      <td>high.school</td>\n",
       "      <td>no</td>\n",
       "      <td>no</td>\n",
       "      <td>yes</td>\n",
       "      <td>3</td>\n",
       "      <td>S1</td>\n",
       "      <td>...</td>\n",
       "      <td>999</td>\n",
       "      <td>0</td>\n",
       "      <td>nonexistent</td>\n",
       "      <td>no</td>\n",
       "      <td>1.1</td>\n",
       "      <td>93.994</td>\n",
       "      <td>-36.4</td>\n",
       "      <td>4.857</td>\n",
       "      <td>5191.0</td>\n",
       "      <td>42420</td>\n",
       "    </tr>\n",
       "    <tr>\n",
       "      <th>1</th>\n",
       "      <td>2</td>\n",
       "      <td>45</td>\n",
       "      <td>services</td>\n",
       "      <td>married</td>\n",
       "      <td>basic.9y</td>\n",
       "      <td>unknown</td>\n",
       "      <td>no</td>\n",
       "      <td>no</td>\n",
       "      <td>3</td>\n",
       "      <td>S1</td>\n",
       "      <td>...</td>\n",
       "      <td>999</td>\n",
       "      <td>0</td>\n",
       "      <td>nonexistent</td>\n",
       "      <td>no</td>\n",
       "      <td>1.1</td>\n",
       "      <td>93.994</td>\n",
       "      <td>-36.4</td>\n",
       "      <td>4.857</td>\n",
       "      <td>5191.0</td>\n",
       "      <td>42420</td>\n",
       "    </tr>\n",
       "    <tr>\n",
       "      <th>2</th>\n",
       "      <td>3</td>\n",
       "      <td>59</td>\n",
       "      <td>admin.</td>\n",
       "      <td>married</td>\n",
       "      <td>professional.course</td>\n",
       "      <td>no</td>\n",
       "      <td>no</td>\n",
       "      <td>no</td>\n",
       "      <td>4</td>\n",
       "      <td>S2</td>\n",
       "      <td>...</td>\n",
       "      <td>999</td>\n",
       "      <td>0</td>\n",
       "      <td>nonexistent</td>\n",
       "      <td>no</td>\n",
       "      <td>1.1</td>\n",
       "      <td>93.994</td>\n",
       "      <td>-36.4</td>\n",
       "      <td>4.857</td>\n",
       "      <td>5191.0</td>\n",
       "      <td>90036</td>\n",
       "    </tr>\n",
       "    <tr>\n",
       "      <th>3</th>\n",
       "      <td>4</td>\n",
       "      <td>41</td>\n",
       "      <td>blue-collar</td>\n",
       "      <td>married</td>\n",
       "      <td>unknown</td>\n",
       "      <td>unknown</td>\n",
       "      <td>no</td>\n",
       "      <td>no</td>\n",
       "      <td>3</td>\n",
       "      <td>S3</td>\n",
       "      <td>...</td>\n",
       "      <td>999</td>\n",
       "      <td>0</td>\n",
       "      <td>nonexistent</td>\n",
       "      <td>no</td>\n",
       "      <td>1.1</td>\n",
       "      <td>93.994</td>\n",
       "      <td>-36.4</td>\n",
       "      <td>4.857</td>\n",
       "      <td>5191.0</td>\n",
       "      <td>33311</td>\n",
       "    </tr>\n",
       "    <tr>\n",
       "      <th>4</th>\n",
       "      <td>5</td>\n",
       "      <td>24</td>\n",
       "      <td>technician</td>\n",
       "      <td>single</td>\n",
       "      <td>professional.course</td>\n",
       "      <td>no</td>\n",
       "      <td>yes</td>\n",
       "      <td>no</td>\n",
       "      <td>3</td>\n",
       "      <td>S3</td>\n",
       "      <td>...</td>\n",
       "      <td>999</td>\n",
       "      <td>0</td>\n",
       "      <td>nonexistent</td>\n",
       "      <td>no</td>\n",
       "      <td>1.1</td>\n",
       "      <td>93.994</td>\n",
       "      <td>-36.4</td>\n",
       "      <td>4.857</td>\n",
       "      <td>5191.0</td>\n",
       "      <td>33311</td>\n",
       "    </tr>\n",
       "    <tr>\n",
       "      <th>...</th>\n",
       "      <td>...</td>\n",
       "      <td>...</td>\n",
       "      <td>...</td>\n",
       "      <td>...</td>\n",
       "      <td>...</td>\n",
       "      <td>...</td>\n",
       "      <td>...</td>\n",
       "      <td>...</td>\n",
       "      <td>...</td>\n",
       "      <td>...</td>\n",
       "      <td>...</td>\n",
       "      <td>...</td>\n",
       "      <td>...</td>\n",
       "      <td>...</td>\n",
       "      <td>...</td>\n",
       "      <td>...</td>\n",
       "      <td>...</td>\n",
       "      <td>...</td>\n",
       "      <td>...</td>\n",
       "      <td>...</td>\n",
       "      <td>...</td>\n",
       "    </tr>\n",
       "    <tr>\n",
       "      <th>37079</th>\n",
       "      <td>37080</td>\n",
       "      <td>73</td>\n",
       "      <td>retired</td>\n",
       "      <td>married</td>\n",
       "      <td>professional.course</td>\n",
       "      <td>no</td>\n",
       "      <td>yes</td>\n",
       "      <td>no</td>\n",
       "      <td>2</td>\n",
       "      <td>S16</td>\n",
       "      <td>...</td>\n",
       "      <td>999</td>\n",
       "      <td>0</td>\n",
       "      <td>nonexistent</td>\n",
       "      <td>yes</td>\n",
       "      <td>-1.1</td>\n",
       "      <td>94.767</td>\n",
       "      <td>-50.8</td>\n",
       "      <td>1.028</td>\n",
       "      <td>4963.6</td>\n",
       "      <td>10009</td>\n",
       "    </tr>\n",
       "    <tr>\n",
       "      <th>37080</th>\n",
       "      <td>37081</td>\n",
       "      <td>46</td>\n",
       "      <td>blue-collar</td>\n",
       "      <td>married</td>\n",
       "      <td>professional.course</td>\n",
       "      <td>no</td>\n",
       "      <td>no</td>\n",
       "      <td>no</td>\n",
       "      <td>2</td>\n",
       "      <td>S16</td>\n",
       "      <td>...</td>\n",
       "      <td>999</td>\n",
       "      <td>0</td>\n",
       "      <td>nonexistent</td>\n",
       "      <td>no</td>\n",
       "      <td>-1.1</td>\n",
       "      <td>94.767</td>\n",
       "      <td>-50.8</td>\n",
       "      <td>1.028</td>\n",
       "      <td>4963.6</td>\n",
       "      <td>10011</td>\n",
       "    </tr>\n",
       "    <tr>\n",
       "      <th>37081</th>\n",
       "      <td>37082</td>\n",
       "      <td>56</td>\n",
       "      <td>retired</td>\n",
       "      <td>married</td>\n",
       "      <td>university.degree</td>\n",
       "      <td>no</td>\n",
       "      <td>yes</td>\n",
       "      <td>no</td>\n",
       "      <td>2</td>\n",
       "      <td>S16</td>\n",
       "      <td>...</td>\n",
       "      <td>999</td>\n",
       "      <td>0</td>\n",
       "      <td>nonexistent</td>\n",
       "      <td>no</td>\n",
       "      <td>-1.1</td>\n",
       "      <td>94.767</td>\n",
       "      <td>-50.8</td>\n",
       "      <td>1.028</td>\n",
       "      <td>4963.6</td>\n",
       "      <td>10009</td>\n",
       "    </tr>\n",
       "    <tr>\n",
       "      <th>37082</th>\n",
       "      <td>37083</td>\n",
       "      <td>44</td>\n",
       "      <td>technician</td>\n",
       "      <td>married</td>\n",
       "      <td>professional.course</td>\n",
       "      <td>no</td>\n",
       "      <td>no</td>\n",
       "      <td>no</td>\n",
       "      <td>4</td>\n",
       "      <td>S17</td>\n",
       "      <td>...</td>\n",
       "      <td>999</td>\n",
       "      <td>0</td>\n",
       "      <td>nonexistent</td>\n",
       "      <td>yes</td>\n",
       "      <td>-1.1</td>\n",
       "      <td>94.767</td>\n",
       "      <td>-50.8</td>\n",
       "      <td>1.028</td>\n",
       "      <td>4963.6</td>\n",
       "      <td>85254</td>\n",
       "    </tr>\n",
       "    <tr>\n",
       "      <th>37083</th>\n",
       "      <td>37084</td>\n",
       "      <td>74</td>\n",
       "      <td>retired</td>\n",
       "      <td>married</td>\n",
       "      <td>professional.course</td>\n",
       "      <td>no</td>\n",
       "      <td>yes</td>\n",
       "      <td>no</td>\n",
       "      <td>1</td>\n",
       "      <td>S6</td>\n",
       "      <td>...</td>\n",
       "      <td>999</td>\n",
       "      <td>1</td>\n",
       "      <td>failure</td>\n",
       "      <td>no</td>\n",
       "      <td>-1.1</td>\n",
       "      <td>94.767</td>\n",
       "      <td>-50.8</td>\n",
       "      <td>1.028</td>\n",
       "      <td>4963.6</td>\n",
       "      <td>79109</td>\n",
       "    </tr>\n",
       "  </tbody>\n",
       "</table>\n",
       "<p>37084 rows × 26 columns</p>\n",
       "</div>"
      ],
      "text/plain": [
       "       Customer_id  age          job  marital            education  default  \\\n",
       "0                1   56     services  married          high.school       no   \n",
       "1                2   45     services  married             basic.9y  unknown   \n",
       "2                3   59       admin.  married  professional.course       no   \n",
       "3                4   41  blue-collar  married              unknown  unknown   \n",
       "4                5   24   technician   single  professional.course       no   \n",
       "...            ...  ...          ...      ...                  ...      ...   \n",
       "37079        37080   73      retired  married  professional.course       no   \n",
       "37080        37081   46  blue-collar  married  professional.course       no   \n",
       "37081        37082   56      retired  married    university.degree       no   \n",
       "37082        37083   44   technician  married  professional.course       no   \n",
       "37083        37084   74      retired  married  professional.course       no   \n",
       "\n",
       "      housing loan Region_Code State_Code  ... pdays previous     poutcome  \\\n",
       "0          no  yes           3         S1  ...   999        0  nonexistent   \n",
       "1          no   no           3         S1  ...   999        0  nonexistent   \n",
       "2          no   no           4         S2  ...   999        0  nonexistent   \n",
       "3          no   no           3         S3  ...   999        0  nonexistent   \n",
       "4         yes   no           3         S3  ...   999        0  nonexistent   \n",
       "...       ...  ...         ...        ...  ...   ...      ...          ...   \n",
       "37079     yes   no           2        S16  ...   999        0  nonexistent   \n",
       "37080      no   no           2        S16  ...   999        0  nonexistent   \n",
       "37081     yes   no           2        S16  ...   999        0  nonexistent   \n",
       "37082      no   no           4        S17  ...   999        0  nonexistent   \n",
       "37083     yes   no           1         S6  ...   999        1      failure   \n",
       "\n",
       "         y  emp.var.rate  cons.price.idx  cons.conf.idx  euribor3m  \\\n",
       "0       no           1.1          93.994          -36.4      4.857   \n",
       "1       no           1.1          93.994          -36.4      4.857   \n",
       "2       no           1.1          93.994          -36.4      4.857   \n",
       "3       no           1.1          93.994          -36.4      4.857   \n",
       "4       no           1.1          93.994          -36.4      4.857   \n",
       "...    ...           ...             ...            ...        ...   \n",
       "37079  yes          -1.1          94.767          -50.8      1.028   \n",
       "37080   no          -1.1          94.767          -50.8      1.028   \n",
       "37081   no          -1.1          94.767          -50.8      1.028   \n",
       "37082  yes          -1.1          94.767          -50.8      1.028   \n",
       "37083   no          -1.1          94.767          -50.8      1.028   \n",
       "\n",
       "      nr.employed Postal Code  \n",
       "0          5191.0       42420  \n",
       "1          5191.0       42420  \n",
       "2          5191.0       90036  \n",
       "3          5191.0       33311  \n",
       "4          5191.0       33311  \n",
       "...           ...         ...  \n",
       "37079      4963.6       10009  \n",
       "37080      4963.6       10011  \n",
       "37081      4963.6       10009  \n",
       "37082      4963.6       85254  \n",
       "37083      4963.6       79109  \n",
       "\n",
       "[37084 rows x 26 columns]"
      ]
     },
     "execution_count": 738,
     "metadata": {},
     "output_type": "execute_result"
    }
   ],
   "source": [
    "df"
   ]
  },
  {
   "cell_type": "code",
   "execution_count": 739,
   "id": "2ce97585",
   "metadata": {},
   "outputs": [
    {
     "data": {
      "text/plain": [
       "0    32023\n",
       "1     4101\n",
       "2      683\n",
       "3      190\n",
       "4       64\n",
       "5       17\n",
       "6        5\n",
       "7        1\n",
       "Name: previous, dtype: int64"
      ]
     },
     "execution_count": 739,
     "metadata": {},
     "output_type": "execute_result"
    }
   ],
   "source": [
    "df['previous'].value_counts()"
   ]
  },
  {
   "cell_type": "code",
   "execution_count": 740,
   "id": "73ee7abb",
   "metadata": {},
   "outputs": [],
   "source": [
    "df=df.drop(['pdays','poutcome'], axis=1)\n",
    "# previous - to keep or not to keep? Relevant or no?"
   ]
  },
  {
   "cell_type": "code",
   "execution_count": 741,
   "id": "233aea8a",
   "metadata": {},
   "outputs": [
    {
     "data": {
      "text/html": [
       "<div>\n",
       "<style scoped>\n",
       "    .dataframe tbody tr th:only-of-type {\n",
       "        vertical-align: middle;\n",
       "    }\n",
       "\n",
       "    .dataframe tbody tr th {\n",
       "        vertical-align: top;\n",
       "    }\n",
       "\n",
       "    .dataframe thead th {\n",
       "        text-align: right;\n",
       "    }\n",
       "</style>\n",
       "<table border=\"1\" class=\"dataframe\">\n",
       "  <thead>\n",
       "    <tr style=\"text-align: right;\">\n",
       "      <th></th>\n",
       "      <th>Customer_id</th>\n",
       "      <th>age</th>\n",
       "      <th>job</th>\n",
       "      <th>marital</th>\n",
       "      <th>education</th>\n",
       "      <th>default</th>\n",
       "      <th>housing</th>\n",
       "      <th>loan</th>\n",
       "      <th>Region_Code</th>\n",
       "      <th>State_Code</th>\n",
       "      <th>...</th>\n",
       "      <th>duration</th>\n",
       "      <th>campaign</th>\n",
       "      <th>previous</th>\n",
       "      <th>y</th>\n",
       "      <th>emp.var.rate</th>\n",
       "      <th>cons.price.idx</th>\n",
       "      <th>cons.conf.idx</th>\n",
       "      <th>euribor3m</th>\n",
       "      <th>nr.employed</th>\n",
       "      <th>Postal Code</th>\n",
       "    </tr>\n",
       "  </thead>\n",
       "  <tbody>\n",
       "    <tr>\n",
       "      <th>0</th>\n",
       "      <td>1</td>\n",
       "      <td>56</td>\n",
       "      <td>services</td>\n",
       "      <td>married</td>\n",
       "      <td>high.school</td>\n",
       "      <td>no</td>\n",
       "      <td>no</td>\n",
       "      <td>yes</td>\n",
       "      <td>3</td>\n",
       "      <td>S1</td>\n",
       "      <td>...</td>\n",
       "      <td>307</td>\n",
       "      <td>1</td>\n",
       "      <td>0</td>\n",
       "      <td>no</td>\n",
       "      <td>1.1</td>\n",
       "      <td>93.994</td>\n",
       "      <td>-36.4</td>\n",
       "      <td>4.857</td>\n",
       "      <td>5191.0</td>\n",
       "      <td>42420</td>\n",
       "    </tr>\n",
       "    <tr>\n",
       "      <th>1</th>\n",
       "      <td>2</td>\n",
       "      <td>45</td>\n",
       "      <td>services</td>\n",
       "      <td>married</td>\n",
       "      <td>basic.9y</td>\n",
       "      <td>unknown</td>\n",
       "      <td>no</td>\n",
       "      <td>no</td>\n",
       "      <td>3</td>\n",
       "      <td>S1</td>\n",
       "      <td>...</td>\n",
       "      <td>198</td>\n",
       "      <td>1</td>\n",
       "      <td>0</td>\n",
       "      <td>no</td>\n",
       "      <td>1.1</td>\n",
       "      <td>93.994</td>\n",
       "      <td>-36.4</td>\n",
       "      <td>4.857</td>\n",
       "      <td>5191.0</td>\n",
       "      <td>42420</td>\n",
       "    </tr>\n",
       "    <tr>\n",
       "      <th>2</th>\n",
       "      <td>3</td>\n",
       "      <td>59</td>\n",
       "      <td>admin.</td>\n",
       "      <td>married</td>\n",
       "      <td>professional.course</td>\n",
       "      <td>no</td>\n",
       "      <td>no</td>\n",
       "      <td>no</td>\n",
       "      <td>4</td>\n",
       "      <td>S2</td>\n",
       "      <td>...</td>\n",
       "      <td>139</td>\n",
       "      <td>1</td>\n",
       "      <td>0</td>\n",
       "      <td>no</td>\n",
       "      <td>1.1</td>\n",
       "      <td>93.994</td>\n",
       "      <td>-36.4</td>\n",
       "      <td>4.857</td>\n",
       "      <td>5191.0</td>\n",
       "      <td>90036</td>\n",
       "    </tr>\n",
       "    <tr>\n",
       "      <th>3</th>\n",
       "      <td>4</td>\n",
       "      <td>41</td>\n",
       "      <td>blue-collar</td>\n",
       "      <td>married</td>\n",
       "      <td>unknown</td>\n",
       "      <td>unknown</td>\n",
       "      <td>no</td>\n",
       "      <td>no</td>\n",
       "      <td>3</td>\n",
       "      <td>S3</td>\n",
       "      <td>...</td>\n",
       "      <td>217</td>\n",
       "      <td>1</td>\n",
       "      <td>0</td>\n",
       "      <td>no</td>\n",
       "      <td>1.1</td>\n",
       "      <td>93.994</td>\n",
       "      <td>-36.4</td>\n",
       "      <td>4.857</td>\n",
       "      <td>5191.0</td>\n",
       "      <td>33311</td>\n",
       "    </tr>\n",
       "    <tr>\n",
       "      <th>4</th>\n",
       "      <td>5</td>\n",
       "      <td>24</td>\n",
       "      <td>technician</td>\n",
       "      <td>single</td>\n",
       "      <td>professional.course</td>\n",
       "      <td>no</td>\n",
       "      <td>yes</td>\n",
       "      <td>no</td>\n",
       "      <td>3</td>\n",
       "      <td>S3</td>\n",
       "      <td>...</td>\n",
       "      <td>380</td>\n",
       "      <td>1</td>\n",
       "      <td>0</td>\n",
       "      <td>no</td>\n",
       "      <td>1.1</td>\n",
       "      <td>93.994</td>\n",
       "      <td>-36.4</td>\n",
       "      <td>4.857</td>\n",
       "      <td>5191.0</td>\n",
       "      <td>33311</td>\n",
       "    </tr>\n",
       "    <tr>\n",
       "      <th>...</th>\n",
       "      <td>...</td>\n",
       "      <td>...</td>\n",
       "      <td>...</td>\n",
       "      <td>...</td>\n",
       "      <td>...</td>\n",
       "      <td>...</td>\n",
       "      <td>...</td>\n",
       "      <td>...</td>\n",
       "      <td>...</td>\n",
       "      <td>...</td>\n",
       "      <td>...</td>\n",
       "      <td>...</td>\n",
       "      <td>...</td>\n",
       "      <td>...</td>\n",
       "      <td>...</td>\n",
       "      <td>...</td>\n",
       "      <td>...</td>\n",
       "      <td>...</td>\n",
       "      <td>...</td>\n",
       "      <td>...</td>\n",
       "      <td>...</td>\n",
       "    </tr>\n",
       "    <tr>\n",
       "      <th>37079</th>\n",
       "      <td>37080</td>\n",
       "      <td>73</td>\n",
       "      <td>retired</td>\n",
       "      <td>married</td>\n",
       "      <td>professional.course</td>\n",
       "      <td>no</td>\n",
       "      <td>yes</td>\n",
       "      <td>no</td>\n",
       "      <td>2</td>\n",
       "      <td>S16</td>\n",
       "      <td>...</td>\n",
       "      <td>334</td>\n",
       "      <td>1</td>\n",
       "      <td>0</td>\n",
       "      <td>yes</td>\n",
       "      <td>-1.1</td>\n",
       "      <td>94.767</td>\n",
       "      <td>-50.8</td>\n",
       "      <td>1.028</td>\n",
       "      <td>4963.6</td>\n",
       "      <td>10009</td>\n",
       "    </tr>\n",
       "    <tr>\n",
       "      <th>37080</th>\n",
       "      <td>37081</td>\n",
       "      <td>46</td>\n",
       "      <td>blue-collar</td>\n",
       "      <td>married</td>\n",
       "      <td>professional.course</td>\n",
       "      <td>no</td>\n",
       "      <td>no</td>\n",
       "      <td>no</td>\n",
       "      <td>2</td>\n",
       "      <td>S16</td>\n",
       "      <td>...</td>\n",
       "      <td>383</td>\n",
       "      <td>1</td>\n",
       "      <td>0</td>\n",
       "      <td>no</td>\n",
       "      <td>-1.1</td>\n",
       "      <td>94.767</td>\n",
       "      <td>-50.8</td>\n",
       "      <td>1.028</td>\n",
       "      <td>4963.6</td>\n",
       "      <td>10011</td>\n",
       "    </tr>\n",
       "    <tr>\n",
       "      <th>37081</th>\n",
       "      <td>37082</td>\n",
       "      <td>56</td>\n",
       "      <td>retired</td>\n",
       "      <td>married</td>\n",
       "      <td>university.degree</td>\n",
       "      <td>no</td>\n",
       "      <td>yes</td>\n",
       "      <td>no</td>\n",
       "      <td>2</td>\n",
       "      <td>S16</td>\n",
       "      <td>...</td>\n",
       "      <td>189</td>\n",
       "      <td>2</td>\n",
       "      <td>0</td>\n",
       "      <td>no</td>\n",
       "      <td>-1.1</td>\n",
       "      <td>94.767</td>\n",
       "      <td>-50.8</td>\n",
       "      <td>1.028</td>\n",
       "      <td>4963.6</td>\n",
       "      <td>10009</td>\n",
       "    </tr>\n",
       "    <tr>\n",
       "      <th>37082</th>\n",
       "      <td>37083</td>\n",
       "      <td>44</td>\n",
       "      <td>technician</td>\n",
       "      <td>married</td>\n",
       "      <td>professional.course</td>\n",
       "      <td>no</td>\n",
       "      <td>no</td>\n",
       "      <td>no</td>\n",
       "      <td>4</td>\n",
       "      <td>S17</td>\n",
       "      <td>...</td>\n",
       "      <td>442</td>\n",
       "      <td>1</td>\n",
       "      <td>0</td>\n",
       "      <td>yes</td>\n",
       "      <td>-1.1</td>\n",
       "      <td>94.767</td>\n",
       "      <td>-50.8</td>\n",
       "      <td>1.028</td>\n",
       "      <td>4963.6</td>\n",
       "      <td>85254</td>\n",
       "    </tr>\n",
       "    <tr>\n",
       "      <th>37083</th>\n",
       "      <td>37084</td>\n",
       "      <td>74</td>\n",
       "      <td>retired</td>\n",
       "      <td>married</td>\n",
       "      <td>professional.course</td>\n",
       "      <td>no</td>\n",
       "      <td>yes</td>\n",
       "      <td>no</td>\n",
       "      <td>1</td>\n",
       "      <td>S6</td>\n",
       "      <td>...</td>\n",
       "      <td>239</td>\n",
       "      <td>3</td>\n",
       "      <td>1</td>\n",
       "      <td>no</td>\n",
       "      <td>-1.1</td>\n",
       "      <td>94.767</td>\n",
       "      <td>-50.8</td>\n",
       "      <td>1.028</td>\n",
       "      <td>4963.6</td>\n",
       "      <td>79109</td>\n",
       "    </tr>\n",
       "  </tbody>\n",
       "</table>\n",
       "<p>37084 rows × 24 columns</p>\n",
       "</div>"
      ],
      "text/plain": [
       "       Customer_id  age          job  marital            education  default  \\\n",
       "0                1   56     services  married          high.school       no   \n",
       "1                2   45     services  married             basic.9y  unknown   \n",
       "2                3   59       admin.  married  professional.course       no   \n",
       "3                4   41  blue-collar  married              unknown  unknown   \n",
       "4                5   24   technician   single  professional.course       no   \n",
       "...            ...  ...          ...      ...                  ...      ...   \n",
       "37079        37080   73      retired  married  professional.course       no   \n",
       "37080        37081   46  blue-collar  married  professional.course       no   \n",
       "37081        37082   56      retired  married    university.degree       no   \n",
       "37082        37083   44   technician  married  professional.course       no   \n",
       "37083        37084   74      retired  married  professional.course       no   \n",
       "\n",
       "      housing loan Region_Code State_Code  ... duration campaign previous  \\\n",
       "0          no  yes           3         S1  ...      307        1        0   \n",
       "1          no   no           3         S1  ...      198        1        0   \n",
       "2          no   no           4         S2  ...      139        1        0   \n",
       "3          no   no           3         S3  ...      217        1        0   \n",
       "4         yes   no           3         S3  ...      380        1        0   \n",
       "...       ...  ...         ...        ...  ...      ...      ...      ...   \n",
       "37079     yes   no           2        S16  ...      334        1        0   \n",
       "37080      no   no           2        S16  ...      383        1        0   \n",
       "37081     yes   no           2        S16  ...      189        2        0   \n",
       "37082      no   no           4        S17  ...      442        1        0   \n",
       "37083     yes   no           1         S6  ...      239        3        1   \n",
       "\n",
       "         y  emp.var.rate  cons.price.idx  cons.conf.idx euribor3m  \\\n",
       "0       no           1.1          93.994          -36.4     4.857   \n",
       "1       no           1.1          93.994          -36.4     4.857   \n",
       "2       no           1.1          93.994          -36.4     4.857   \n",
       "3       no           1.1          93.994          -36.4     4.857   \n",
       "4       no           1.1          93.994          -36.4     4.857   \n",
       "...    ...           ...             ...            ...       ...   \n",
       "37079  yes          -1.1          94.767          -50.8     1.028   \n",
       "37080   no          -1.1          94.767          -50.8     1.028   \n",
       "37081   no          -1.1          94.767          -50.8     1.028   \n",
       "37082  yes          -1.1          94.767          -50.8     1.028   \n",
       "37083   no          -1.1          94.767          -50.8     1.028   \n",
       "\n",
       "       nr.employed  Postal Code  \n",
       "0           5191.0        42420  \n",
       "1           5191.0        42420  \n",
       "2           5191.0        90036  \n",
       "3           5191.0        33311  \n",
       "4           5191.0        33311  \n",
       "...            ...          ...  \n",
       "37079       4963.6        10009  \n",
       "37080       4963.6        10011  \n",
       "37081       4963.6        10009  \n",
       "37082       4963.6        85254  \n",
       "37083       4963.6        79109  \n",
       "\n",
       "[37084 rows x 24 columns]"
      ]
     },
     "execution_count": 741,
     "metadata": {},
     "output_type": "execute_result"
    }
   ],
   "source": [
    "df"
   ]
  },
  {
   "cell_type": "markdown",
   "id": "cd951561",
   "metadata": {},
   "source": [
    "## Outlier Analysis and Treatment "
   ]
  },
  {
   "cell_type": "code",
   "execution_count": 742,
   "id": "8c2ddf12",
   "metadata": {},
   "outputs": [
    {
     "data": {
      "text/html": [
       "<div>\n",
       "<style scoped>\n",
       "    .dataframe tbody tr th:only-of-type {\n",
       "        vertical-align: middle;\n",
       "    }\n",
       "\n",
       "    .dataframe tbody tr th {\n",
       "        vertical-align: top;\n",
       "    }\n",
       "\n",
       "    .dataframe thead th {\n",
       "        text-align: right;\n",
       "    }\n",
       "</style>\n",
       "<table border=\"1\" class=\"dataframe\">\n",
       "  <thead>\n",
       "    <tr style=\"text-align: right;\">\n",
       "      <th></th>\n",
       "      <th>Customer_id</th>\n",
       "      <th>age</th>\n",
       "      <th>duration</th>\n",
       "      <th>campaign</th>\n",
       "      <th>previous</th>\n",
       "      <th>emp.var.rate</th>\n",
       "      <th>cons.price.idx</th>\n",
       "      <th>cons.conf.idx</th>\n",
       "      <th>euribor3m</th>\n",
       "      <th>nr.employed</th>\n",
       "      <th>Postal Code</th>\n",
       "    </tr>\n",
       "  </thead>\n",
       "  <tbody>\n",
       "    <tr>\n",
       "      <th>count</th>\n",
       "      <td>37084.000000</td>\n",
       "      <td>37084.000000</td>\n",
       "      <td>37084.000000</td>\n",
       "      <td>37084.000000</td>\n",
       "      <td>37084.000000</td>\n",
       "      <td>37084.000000</td>\n",
       "      <td>37084.000000</td>\n",
       "      <td>37084.000000</td>\n",
       "      <td>37084.000000</td>\n",
       "      <td>37084.000000</td>\n",
       "      <td>37084.000000</td>\n",
       "    </tr>\n",
       "    <tr>\n",
       "      <th>mean</th>\n",
       "      <td>18542.500000</td>\n",
       "      <td>40.042714</td>\n",
       "      <td>258.237946</td>\n",
       "      <td>2.569545</td>\n",
       "      <td>0.172986</td>\n",
       "      <td>0.082669</td>\n",
       "      <td>93.576076</td>\n",
       "      <td>-40.505183</td>\n",
       "      <td>3.621668</td>\n",
       "      <td>5167.058664</td>\n",
       "      <td>55202.625553</td>\n",
       "    </tr>\n",
       "    <tr>\n",
       "      <th>std</th>\n",
       "      <td>10705.373028</td>\n",
       "      <td>10.432965</td>\n",
       "      <td>258.730909</td>\n",
       "      <td>2.770611</td>\n",
       "      <td>0.495681</td>\n",
       "      <td>1.568997</td>\n",
       "      <td>0.578493</td>\n",
       "      <td>4.622045</td>\n",
       "      <td>1.733972</td>\n",
       "      <td>72.196605</td>\n",
       "      <td>32057.300954</td>\n",
       "    </tr>\n",
       "    <tr>\n",
       "      <th>min</th>\n",
       "      <td>1.000000</td>\n",
       "      <td>17.000000</td>\n",
       "      <td>0.000000</td>\n",
       "      <td>1.000000</td>\n",
       "      <td>0.000000</td>\n",
       "      <td>-3.400000</td>\n",
       "      <td>92.201000</td>\n",
       "      <td>-50.800000</td>\n",
       "      <td>0.634000</td>\n",
       "      <td>4963.600000</td>\n",
       "      <td>1040.000000</td>\n",
       "    </tr>\n",
       "    <tr>\n",
       "      <th>25%</th>\n",
       "      <td>9271.750000</td>\n",
       "      <td>32.000000</td>\n",
       "      <td>102.000000</td>\n",
       "      <td>1.000000</td>\n",
       "      <td>0.000000</td>\n",
       "      <td>-1.800000</td>\n",
       "      <td>93.075000</td>\n",
       "      <td>-42.700000</td>\n",
       "      <td>1.344000</td>\n",
       "      <td>5099.100000</td>\n",
       "      <td>23223.000000</td>\n",
       "    </tr>\n",
       "    <tr>\n",
       "      <th>50%</th>\n",
       "      <td>18542.500000</td>\n",
       "      <td>38.000000</td>\n",
       "      <td>180.000000</td>\n",
       "      <td>2.000000</td>\n",
       "      <td>0.000000</td>\n",
       "      <td>1.100000</td>\n",
       "      <td>93.749000</td>\n",
       "      <td>-41.800000</td>\n",
       "      <td>4.857000</td>\n",
       "      <td>5191.000000</td>\n",
       "      <td>56301.000000</td>\n",
       "    </tr>\n",
       "    <tr>\n",
       "      <th>75%</th>\n",
       "      <td>27813.250000</td>\n",
       "      <td>47.000000</td>\n",
       "      <td>319.250000</td>\n",
       "      <td>3.000000</td>\n",
       "      <td>0.000000</td>\n",
       "      <td>1.400000</td>\n",
       "      <td>93.994000</td>\n",
       "      <td>-36.400000</td>\n",
       "      <td>4.961000</td>\n",
       "      <td>5228.100000</td>\n",
       "      <td>90008.000000</td>\n",
       "    </tr>\n",
       "    <tr>\n",
       "      <th>max</th>\n",
       "      <td>37084.000000</td>\n",
       "      <td>98.000000</td>\n",
       "      <td>4918.000000</td>\n",
       "      <td>56.000000</td>\n",
       "      <td>7.000000</td>\n",
       "      <td>1.400000</td>\n",
       "      <td>94.767000</td>\n",
       "      <td>-26.900000</td>\n",
       "      <td>5.045000</td>\n",
       "      <td>5228.100000</td>\n",
       "      <td>99301.000000</td>\n",
       "    </tr>\n",
       "  </tbody>\n",
       "</table>\n",
       "</div>"
      ],
      "text/plain": [
       "        Customer_id           age      duration      campaign      previous  \\\n",
       "count  37084.000000  37084.000000  37084.000000  37084.000000  37084.000000   \n",
       "mean   18542.500000     40.042714    258.237946      2.569545      0.172986   \n",
       "std    10705.373028     10.432965    258.730909      2.770611      0.495681   \n",
       "min        1.000000     17.000000      0.000000      1.000000      0.000000   \n",
       "25%     9271.750000     32.000000    102.000000      1.000000      0.000000   \n",
       "50%    18542.500000     38.000000    180.000000      2.000000      0.000000   \n",
       "75%    27813.250000     47.000000    319.250000      3.000000      0.000000   \n",
       "max    37084.000000     98.000000   4918.000000     56.000000      7.000000   \n",
       "\n",
       "       emp.var.rate  cons.price.idx  cons.conf.idx     euribor3m  \\\n",
       "count  37084.000000    37084.000000   37084.000000  37084.000000   \n",
       "mean       0.082669       93.576076     -40.505183      3.621668   \n",
       "std        1.568997        0.578493       4.622045      1.733972   \n",
       "min       -3.400000       92.201000     -50.800000      0.634000   \n",
       "25%       -1.800000       93.075000     -42.700000      1.344000   \n",
       "50%        1.100000       93.749000     -41.800000      4.857000   \n",
       "75%        1.400000       93.994000     -36.400000      4.961000   \n",
       "max        1.400000       94.767000     -26.900000      5.045000   \n",
       "\n",
       "        nr.employed   Postal Code  \n",
       "count  37084.000000  37084.000000  \n",
       "mean    5167.058664  55202.625553  \n",
       "std       72.196605  32057.300954  \n",
       "min     4963.600000   1040.000000  \n",
       "25%     5099.100000  23223.000000  \n",
       "50%     5191.000000  56301.000000  \n",
       "75%     5228.100000  90008.000000  \n",
       "max     5228.100000  99301.000000  "
      ]
     },
     "execution_count": 742,
     "metadata": {},
     "output_type": "execute_result"
    }
   ],
   "source": [
    "df.describe()"
   ]
  },
  {
   "cell_type": "code",
   "execution_count": 743,
   "id": "22c89ac1",
   "metadata": {},
   "outputs": [
    {
     "name": "stderr",
     "output_type": "stream",
     "text": [
      "C:\\Users\\iraghupathivasish\\Anaconda3\\lib\\site-packages\\seaborn\\_decorators.py:36: FutureWarning: Pass the following variable as a keyword arg: x. From version 0.12, the only valid positional argument will be `data`, and passing other arguments without an explicit keyword will result in an error or misinterpretation.\n",
      "  warnings.warn(\n"
     ]
    },
    {
     "data": {
      "text/plain": [
       "<AxesSubplot:xlabel='age'>"
      ]
     },
     "execution_count": 743,
     "metadata": {},
     "output_type": "execute_result"
    },
    {
     "data": {
      "image/png": "[encoded data removed]",
      "text/plain": [
       "<Figure size 432x288 with 1 Axes>"
      ]
     },
     "metadata": {
      "needs_background": "light"
     },
     "output_type": "display_data"
    }
   ],
   "source": [
    "sns.boxplot(df['age'])"
   ]
  },
  {
   "cell_type": "markdown",
   "id": "5db21864",
   "metadata": {},
   "source": [
    "Age has outliers in the beginning."
   ]
  },
  {
   "cell_type": "code",
   "execution_count": 744,
   "id": "cdc5616b",
   "metadata": {},
   "outputs": [
    {
     "name": "stdout",
     "output_type": "stream",
     "text": [
      "Outliers from IQR method:  [70, 70, 70, 70, 70, 70, 70, 70, 70, 70, 70, 70, 70, 70, 70, 70, 70, 70, 70, 70, 70, 70, 70, 70, 70, 70, 70, 70, 70, 70, 70, 70, 70, 70, 70, 70, 70, 70, 70, 70, 70, 70, 70, 70, 71, 71, 71, 71, 71, 71, 71, 71, 71, 71, 71, 71, 71, 71, 71, 71, 71, 71, 71, 71, 71, 71, 71, 71, 71, 71, 71, 71, 71, 71, 71, 71, 71, 71, 71, 71, 71, 71, 71, 71, 71, 71, 71, 71, 71, 71, 71, 71, 71, 72, 72, 72, 72, 72, 72, 72, 72, 72, 72, 72, 72, 72, 72, 72, 72, 72, 72, 72, 72, 72, 72, 72, 72, 72, 72, 72, 72, 72, 72, 73, 73, 73, 73, 73, 73, 73, 73, 73, 73, 73, 73, 73, 73, 73, 73, 73, 73, 73, 73, 73, 73, 73, 73, 73, 73, 73, 73, 73, 73, 73, 74, 74, 74, 74, 74, 74, 74, 74, 74, 74, 74, 74, 74, 74, 74, 74, 74, 74, 74, 74, 74, 74, 74, 74, 74, 74, 74, 74, 74, 74, 75, 75, 75, 75, 75, 75, 75, 75, 75, 75, 75, 75, 75, 75, 75, 75, 75, 75, 75, 76, 76, 76, 76, 76, 76, 76, 76, 76, 76, 76, 76, 76, 76, 76, 76, 76, 76, 76, 76, 76, 76, 76, 76, 76, 76, 76, 76, 77, 77, 77, 77, 77, 77, 77, 77, 77, 77, 77, 77, 77, 77, 77, 77, 77, 77, 77, 78, 78, 78, 78, 78, 78, 78, 78, 78, 78, 78, 78, 78, 78, 78, 78, 78, 78, 78, 78, 78, 78, 78, 78, 78, 78, 79, 79, 79, 79, 79, 79, 79, 79, 79, 79, 79, 79, 79, 79, 80, 80, 80, 80, 80, 80, 80, 80, 80, 80, 80, 80, 80, 80, 80, 80, 80, 80, 80, 80, 80, 80, 80, 80, 80, 80, 80, 80, 80, 81, 81, 81, 81, 81, 81, 81, 81, 81, 81, 81, 81, 81, 81, 81, 81, 81, 82, 82, 82, 82, 82, 82, 82, 82, 82, 82, 82, 82, 82, 82, 82, 82, 82, 83, 83, 83, 83, 83, 83, 83, 83, 83, 83, 83, 83, 83, 83, 83, 84, 84, 84, 84, 84, 84, 84, 85, 85, 85, 85, 85, 85, 85, 85, 85, 85, 85, 85, 85, 85, 86, 86, 86, 86, 86, 86, 86, 86, 88, 88, 88, 88, 88, 88, 88, 88, 88, 88, 88, 88, 88, 88, 88, 88, 88, 88, 88, 88, 89, 89, 91, 91, 92, 92, 92, 92, 94, 95, 98, 98]\n"
     ]
    }
   ],
   "source": [
    "def outliers_iqr(data):\n",
    "    outliers =[]\n",
    "    data = sorted(data)\n",
    "    q1 = np.percentile(data, 25)\n",
    "    q3 = np.percentile(data, 75)\n",
    "   \n",
    "    IQR = q3-q1\n",
    "    lr_bound = q1-(1.5*IQR)\n",
    "    ur_bound = q3+(1.5*IQR)\n",
    "    # print(lwr_bound, upr_bound)\n",
    "    for i in data: \n",
    "        if (i<lr_bound or i>ur_bound):\n",
    "            outliers.append(i)\n",
    "    return outliers\n",
    "sample_outliers = outliers_iqr(df.age)\n",
    "print(\"Outliers from IQR method: \", sample_outliers)"
   ]
  },
  {
   "cell_type": "markdown",
   "id": "c65ea33a",
   "metadata": {},
   "source": [
    "##### Treating Outliers"
   ]
  },
  {
   "cell_type": "code",
   "execution_count": 745,
   "id": "7d3b0dfc",
   "metadata": {},
   "outputs": [],
   "source": [
    "mean = np.mean(df.age)\n",
    "for i in sample_outliers:\n",
    "    df.age = np.where(df.age==i, mean, df.age)"
   ]
  },
  {
   "cell_type": "code",
   "execution_count": 746,
   "id": "87bde678",
   "metadata": {},
   "outputs": [
    {
     "name": "stdout",
     "output_type": "stream",
     "text": [
      "Outliers from IQR method:  []\n"
     ]
    }
   ],
   "source": [
    "sample_outliers = outliers_iqr(df.age)\n",
    "print(\"Outliers from IQR method: \", sample_outliers)"
   ]
  },
  {
   "cell_type": "code",
   "execution_count": 747,
   "id": "e235bd5f",
   "metadata": {},
   "outputs": [
    {
     "name": "stderr",
     "output_type": "stream",
     "text": [
      "C:\\Users\\iraghupathivasish\\Anaconda3\\lib\\site-packages\\seaborn\\_decorators.py:36: FutureWarning: Pass the following variable as a keyword arg: x. From version 0.12, the only valid positional argument will be `data`, and passing other arguments without an explicit keyword will result in an error or misinterpretation.\n",
      "  warnings.warn(\n"
     ]
    },
    {
     "data": {
      "text/plain": [
       "<AxesSubplot:xlabel='age'>"
      ]
     },
     "execution_count": 747,
     "metadata": {},
     "output_type": "execute_result"
    },
    {
     "data": {
      "image/png": "[encoded data removed]",
      "text/plain": [
       "<Figure size 432x288 with 1 Axes>"
      ]
     },
     "metadata": {
      "needs_background": "light"
     },
     "output_type": "display_data"
    }
   ],
   "source": [
    "sns.boxplot(df['age'])"
   ]
  },
  {
   "cell_type": "markdown",
   "id": "320ed390",
   "metadata": {},
   "source": [
    "Outliers have been removed. "
   ]
  },
  {
   "cell_type": "code",
   "execution_count": 748,
   "id": "034fdeba",
   "metadata": {},
   "outputs": [
    {
     "name": "stderr",
     "output_type": "stream",
     "text": [
      "C:\\Users\\iraghupathivasish\\Anaconda3\\lib\\site-packages\\seaborn\\_decorators.py:36: FutureWarning: Pass the following variable as a keyword arg: x. From version 0.12, the only valid positional argument will be `data`, and passing other arguments without an explicit keyword will result in an error or misinterpretation.\n",
      "  warnings.warn(\n"
     ]
    },
    {
     "data": {
      "text/plain": [
       "<AxesSubplot:xlabel='duration'>"
      ]
     },
     "execution_count": 748,
     "metadata": {},
     "output_type": "execute_result"
    },
    {
     "data": {
      "image/png": "[encoded data removed]",
      "text/plain": [
       "<Figure size 432x288 with 1 Axes>"
      ]
     },
     "metadata": {
      "needs_background": "light"
     },
     "output_type": "display_data"
    }
   ],
   "source": [
    "sns.boxplot(df['duration'])       # Can we drop duration due to too many outliers"
   ]
  },
  {
   "cell_type": "code",
   "execution_count": 749,
   "id": "f23324f4",
   "metadata": {},
   "outputs": [
    {
     "name": "stdout",
     "output_type": "stream",
     "text": [
      "Outliers from IQR method:  [646, 646, 646, 646, 646, 647, 647, 647, 647, 647, 647, 647, 647, 647, 648, 648, 648, 648, 648, 648, 648, 649, 649, 649, 649, 649, 649, 649, 649, 650, 650, 650, 650, 650, 650, 650, 650, 650, 651, 651, 651, 651, 651, 651, 651, 651, 651, 651, 651, 651, 652, 652, 652, 652, 652, 652, 652, 652, 652, 652, 652, 652, 652, 652, 653, 653, 653, 653, 653, 653, 653, 653, 653, 654, 654, 654, 654, 654, 654, 654, 654, 654, 654, 654, 655, 655, 655, 655, 655, 655, 655, 656, 656, 656, 656, 656, 656, 656, 656, 657, 657, 657, 657, 657, 657, 657, 657, 657, 657, 657, 658, 658, 658, 658, 658, 658, 658, 659, 659, 659, 659, 659, 659, 659, 659, 659, 659, 659, 659, 660, 660, 660, 660, 660, 660, 660, 660, 661, 661, 661, 661, 661, 661, 661, 661, 661, 661, 662, 662, 662, 662, 662, 662, 662, 662, 662, 662, 662, 663, 663, 663, 663, 663, 663, 663, 663, 663, 663, 663, 664, 664, 664, 664, 664, 664, 665, 665, 665, 665, 665, 665, 665, 665, 665, 666, 666, 666, 666, 666, 666, 666, 667, 667, 667, 667, 667, 667, 667, 667, 667, 667, 667, 667, 668, 668, 668, 668, 668, 668, 668, 668, 668, 668, 669, 669, 669, 669, 669, 669, 670, 670, 670, 670, 670, 670, 670, 670, 670, 671, 671, 671, 671, 671, 671, 671, 671, 672, 672, 672, 672, 672, 672, 673, 673, 673, 673, 673, 673, 673, 673, 673, 674, 674, 674, 674, 674, 674, 674, 674, 674, 675, 675, 675, 675, 675, 675, 675, 675, 676, 676, 676, 676, 676, 676, 676, 676, 676, 676, 676, 676, 677, 677, 677, 678, 678, 678, 678, 678, 678, 678, 679, 679, 679, 679, 679, 679, 679, 679, 679, 679, 680, 680, 680, 680, 680, 680, 680, 680, 681, 681, 681, 681, 681, 682, 682, 682, 682, 682, 682, 683, 683, 683, 683, 683, 684, 684, 684, 684, 685, 685, 685, 685, 685, 685, 685, 686, 686, 686, 686, 686, 686, 686, 686, 686, 686, 687, 687, 687, 687, 687, 687, 688, 688, 688, 688, 688, 689, 689, 689, 689, 689, 689, 689, 689, 690, 690, 690, 690, 690, 690, 690, 690, 690, 690, 691, 691, 691, 691, 691, 691, 691, 691, 691, 691, 691, 691, 692, 692, 692, 692, 692, 692, 692, 692, 693, 693, 693, 693, 693, 693, 693, 694, 694, 694, 694, 695, 695, 695, 695, 695, 695, 695, 695, 695, 695, 695, 696, 696, 696, 696, 696, 696, 696, 697, 697, 697, 697, 697, 697, 697, 698, 698, 698, 698, 698, 698, 698, 699, 699, 699, 699, 699, 699, 699, 699, 699, 699, 700, 700, 700, 700, 700, 700, 700, 700, 700, 700, 700, 700, 700, 700, 700, 701, 701, 701, 701, 702, 702, 702, 702, 702, 702, 702, 703, 703, 703, 703, 703, 703, 703, 703, 704, 704, 704, 704, 704, 705, 705, 705, 705, 705, 705, 705, 705, 705, 705, 705, 705, 705, 705, 706, 706, 706, 706, 706, 706, 706, 706, 706, 707, 707, 707, 707, 707, 708, 708, 708, 709, 709, 709, 709, 709, 709, 709, 710, 710, 710, 710, 711, 711, 711, 711, 711, 712, 712, 712, 712, 712, 712, 712, 712, 712, 712, 712, 712, 712, 713, 713, 713, 713, 713, 714, 714, 714, 714, 714, 715, 715, 715, 715, 715, 715, 715, 716, 716, 716, 716, 716, 716, 716, 716, 716, 716, 716, 716, 717, 717, 717, 717, 717, 717, 717, 717, 718, 718, 718, 718, 718, 718, 718, 719, 719, 719, 719, 719, 720, 720, 720, 720, 720, 720, 720, 720, 720, 720, 720, 720, 721, 721, 721, 721, 722, 722, 722, 722, 722, 722, 722, 722, 722, 722, 722, 722, 723, 723, 723, 723, 723, 723, 723, 724, 724, 724, 724, 725, 725, 725, 725, 725, 725, 725, 726, 726, 726, 726, 727, 727, 727, 727, 727, 727, 728, 728, 728, 728, 728, 728, 728, 728, 728, 728, 729, 729, 729, 729, 729, 729, 729, 729, 729, 730, 730, 730, 730, 730, 730, 730, 730, 730, 730, 731, 731, 731, 731, 731, 731, 731, 732, 732, 732, 732, 732, 732, 732, 732, 733, 733, 733, 733, 733, 733, 733, 733, 733, 733, 734, 734, 734, 734, 735, 735, 735, 735, 736, 736, 736, 736, 736, 736, 737, 737, 737, 738, 738, 738, 738, 738, 738, 738, 738, 739, 739, 739, 739, 739, 739, 740, 740, 740, 740, 740, 741, 741, 741, 741, 742, 742, 742, 742, 742, 742, 742, 742, 742, 742, 742, 743, 743, 743, 744, 744, 744, 744, 744, 744, 744, 744, 744, 744, 744, 744, 744, 744, 744, 744, 744, 745, 745, 745, 745, 745, 745, 746, 746, 746, 746, 746, 746, 746, 746, 747, 747, 747, 747, 747, 747, 747, 747, 747, 748, 748, 748, 748, 748, 749, 749, 749, 749, 749, 749, 750, 750, 750, 750, 750, 751, 752, 752, 753, 753, 753, 753, 753, 753, 753, 753, 754, 754, 754, 754, 754, 754, 754, 755, 755, 755, 755, 756, 756, 756, 756, 756, 756, 757, 757, 757, 757, 757, 757, 758, 758, 758, 758, 758, 759, 759, 759, 760, 760, 760, 761, 761, 761, 761, 761, 761, 761, 762, 762, 762, 762, 762, 762, 763, 763, 763, 763, 763, 763, 763, 763, 763, 763, 764, 764, 764, 764, 764, 764, 765, 765, 765, 766, 766, 766, 766, 766, 767, 767, 767, 767, 767, 767, 767, 767, 768, 768, 768, 768, 768, 768, 768, 769, 769, 769, 770, 770, 770, 771, 771, 771, 771, 771, 771, 771, 771, 771, 772, 772, 772, 772, 772, 772, 772, 772, 773, 773, 773, 773, 773, 773, 773, 774, 774, 774, 775, 775, 775, 775, 775, 775, 775, 775, 775, 776, 776, 776, 776, 776, 777, 777, 777, 777, 777, 778, 779, 779, 779, 779, 780, 780, 780, 780, 780, 780, 781, 781, 781, 781, 781, 781, 781, 782, 782, 782, 783, 783, 784, 784, 784, 784, 784, 785, 785, 785, 786, 786, 786, 786, 786, 786, 786, 786, 787, 787, 787, 787, 787, 787, 787, 787, 787, 788, 788, 788, 788, 788, 788, 788, 788, 788, 788, 788, 789, 789, 789, 789, 789, 790, 790, 790, 790, 790, 791, 791, 791, 791, 792, 792, 792, 792, 792, 793, 793, 793, 793, 793, 793, 794, 794, 794, 794, 795, 795, 795, 795, 795, 796, 796, 796, 796, 796, 796, 796, 796, 796, 797, 797, 797, 797, 797, 798, 798, 798, 798, 798, 799, 799, 799, 799, 799, 800, 800, 800, 800, 800, 800, 800, 800, 801, 801, 801, 801, 802, 802, 802, 802, 802, 803, 803, 803, 803, 803, 804, 804, 804, 804, 804, 804, 805, 805, 805, 805, 805, 805, 806, 806, 806, 807, 807, 807, 807, 808, 808, 808, 808, 808, 808, 808, 808, 809, 809, 809, 810, 810, 810, 810, 811, 811, 811, 811, 811, 812, 812, 812, 812, 812, 813, 813, 813, 813, 813, 813, 814, 814, 814, 814, 815, 815, 815, 815, 815, 815, 815, 815, 816, 816, 816, 816, 816, 816, 817, 817, 817, 817, 818, 818, 818, 819, 819, 819, 819, 819, 820, 820, 820, 820, 820, 820, 821, 821, 821, 822, 822, 822, 823, 823, 824, 824, 824, 824, 824, 824, 824, 825, 825, 825, 825, 825, 825, 825, 826, 826, 826, 827, 827, 827, 827, 827, 828, 828, 828, 828, 828, 829, 829, 829, 829, 829, 829, 829, 830, 830, 830, 831, 831, 832, 832, 832, 832, 832, 833, 833, 833, 833, 833, 834, 834, 834, 834, 834, 834, 834, 834, 835, 835, 835, 835, 835, 835, 835, 835, 836, 836, 836, 836, 836, 836, 837, 837, 837, 837, 837, 837, 837, 837, 837, 838, 838, 838, 838, 838, 838, 839, 839, 840, 841, 841, 843, 843, 843, 843, 843, 843, 844, 844, 844, 844, 844, 845, 845, 846, 846, 846, 846, 847, 847, 847, 847, 847, 847, 848, 848, 849, 849, 849, 849, 849, 849, 850, 850, 850, 850, 850, 850, 850, 851, 851, 851, 851, 851, 852, 852, 852, 853, 853, 854, 854, 854, 854, 854, 854, 854, 854, 855, 855, 855, 855, 856, 856, 856, 856, 856, 857, 857, 857, 857, 857, 858, 858, 858, 858, 859, 860, 860, 860, 860, 860, 861, 861, 861, 862, 862, 862, 862, 862, 863, 863, 863, 863, 863, 863, 864, 864, 864, 865, 865, 866, 867, 867, 867, 867, 867, 867, 867, 868, 869, 869, 869, 869, 870, 870, 870, 871, 871, 871, 871, 871, 872, 873, 873, 873, 873, 873, 874, 874, 874, 874, 875, 875, 875, 876, 876, 876, 877, 877, 877, 878, 878, 878, 878, 878, 879, 879, 880, 880, 880, 881, 881, 881, 881, 882, 882, 882, 882, 882, 882, 883, 883, 884, 884, 884, 884, 884, 884, 884, 885, 885, 885, 886, 886, 886, 886, 888, 888, 888, 888, 889, 889, 889, 889, 889, 890, 890, 890, 891, 891, 891, 891, 892, 892, 893, 893, 893, 893, 893, 894, 894, 895, 895, 895, 895, 895, 895, 895, 896, 896, 896, 896, 896, 897, 897, 897, 897, 897, 898, 898, 898, 898, 898, 899, 899, 899, 899, 899, 899, 900, 900, 900, 901, 901, 901, 901, 902, 902, 902, 902, 902, 902, 902, 903, 903, 903, 903, 903, 903, 903, 904, 904, 904, 904, 905, 905, 905, 905, 906, 906, 906, 907, 908, 908, 908, 908, 909, 910, 910, 910, 911, 911, 911, 911, 911, 911, 911, 912, 912, 913, 913, 915, 915, 916, 916, 916, 916, 917, 917, 918, 918, 918, 919, 919, 919, 919, 920, 920, 920, 920, 920, 921, 921, 921, 921, 921, 922, 922, 922, 923, 923, 924, 924, 924, 924, 924, 924, 924, 925, 925, 926, 926, 926, 926, 927, 927, 928, 929, 929, 930, 930, 930, 930, 931, 932, 932, 933, 933, 933, 933, 934, 934, 935, 935, 935, 935, 935, 935, 936, 936, 936, 937, 938, 938, 940, 940, 940, 940, 942, 942, 942, 943, 943, 943, 944, 944, 944, 945, 945, 946, 946, 946, 947, 947, 949, 949, 949, 950, 951, 951, 951, 952, 952, 952, 952, 952, 952, 952, 953, 953, 953, 953, 953, 953, 954, 954, 954, 955, 955, 955, 955, 955, 955, 955, 956, 956, 956, 956, 956, 956, 957, 957, 957, 957, 958, 958, 958, 958, 959, 960, 961, 961, 961, 961, 962, 962, 963, 963, 963, 963, 964, 964, 965, 965, 966, 966, 966, 967, 967, 968, 968, 968, 968, 968, 968, 969, 970, 971, 972, 972, 973, 973, 973, 974, 974, 974, 975, 975, 976, 977, 977, 978, 978, 979, 979, 979, 979, 980, 981, 981, 982, 982, 983, 983, 984, 984, 984, 984, 984, 984, 984, 984, 984, 984, 985, 985, 985, 986, 986, 987, 988, 988, 988, 989, 989, 990, 990, 990, 990, 991, 991, 992, 992, 992, 992, 992, 993, 993, 993, 993, 994, 994, 994, 996, 996, 996, 997, 997, 998, 999, 999, 1000, 1000, 1000, 1000, 1001, 1001, 1001, 1002, 1002, 1002, 1002, 1003, 1003, 1005, 1005, 1007, 1007, 1007, 1007, 1008, 1008, 1008, 1009, 1009, 1009, 1009, 1010, 1010, 1011, 1011, 1011, 1012, 1012, 1012, 1013, 1013, 1014, 1014, 1014, 1015, 1017, 1017, 1017, 1018, 1018, 1018, 1019, 1019, 1020, 1020, 1021, 1022, 1022, 1022, 1023, 1024, 1024, 1025, 1025, 1025, 1025, 1026, 1026, 1027, 1027, 1027, 1028, 1028, 1028, 1030, 1030, 1030, 1031, 1031, 1032, 1032, 1032, 1032, 1033, 1034, 1034, 1034, 1035, 1036, 1036, 1036, 1037, 1037, 1038, 1038, 1038, 1039, 1040, 1041, 1041, 1042, 1042, 1042, 1042, 1043, 1044, 1044, 1044, 1044, 1044, 1045, 1045, 1045, 1046, 1046, 1047, 1049, 1049, 1049, 1051, 1051, 1051, 1051, 1052, 1053, 1054, 1055, 1055, 1056, 1056, 1056, 1057, 1057, 1058, 1058, 1059, 1059, 1059, 1060, 1060, 1060, 1061, 1061, 1062, 1062, 1062, 1062, 1063, 1063, 1063, 1063, 1064, 1064, 1064, 1064, 1065, 1065, 1065, 1065, 1066, 1066, 1067, 1068, 1068, 1070, 1070, 1071, 1071, 1072, 1073, 1073, 1073, 1074, 1074, 1074, 1075, 1075, 1076, 1076, 1077, 1077, 1077, 1077, 1078, 1078, 1079, 1080, 1080, 1080, 1080, 1080, 1081, 1081, 1081, 1081, 1082, 1082, 1083, 1083, 1084, 1084, 1084, 1085, 1085, 1087, 1087, 1087, 1088, 1088, 1088, 1089, 1089, 1089, 1090, 1090, 1090, 1091, 1091, 1091, 1092, 1093, 1093, 1093, 1094, 1094, 1094, 1094, 1095, 1096, 1096, 1097, 1097, 1098, 1099, 1100, 1100, 1101, 1101, 1102, 1103, 1104, 1105, 1106, 1106, 1106, 1106, 1106, 1106, 1108, 1109, 1109, 1110, 1110, 1110, 1111, 1111, 1111, 1111, 1112, 1112, 1114, 1114, 1117, 1117, 1118, 1118, 1118, 1119, 1120, 1120, 1120, 1120, 1121, 1121, 1122, 1122, 1123, 1124, 1125, 1126, 1127, 1127, 1127, 1128, 1129, 1129, 1129, 1130, 1130, 1130, 1130, 1131, 1132, 1132, 1132, 1133, 1134, 1134, 1134, 1135, 1135, 1135, 1136, 1137, 1138, 1138, 1139, 1139, 1139, 1140, 1141, 1141, 1141, 1141, 1142, 1143, 1143, 1143, 1143, 1144, 1144, 1145, 1145, 1147, 1147, 1148, 1148, 1148, 1148, 1149, 1149, 1149, 1150, 1150, 1150, 1151, 1152, 1152, 1152, 1153, 1156, 1156, 1156, 1156, 1156, 1161, 1161, 1161, 1161, 1162, 1162, 1162, 1164, 1165, 1165, 1165, 1166, 1166, 1166, 1166, 1168, 1169, 1170, 1171, 1171, 1171, 1173, 1173, 1173, 1174, 1175, 1176, 1176, 1176, 1178, 1178, 1178, 1180, 1180, 1181, 1181, 1182, 1182, 1183, 1184, 1184, 1185, 1185, 1186, 1186, 1187, 1187, 1187, 1187, 1190, 1190, 1191, 1192, 1193, 1193, 1195, 1195, 1196, 1197, 1197, 1199, 1199, 1199, 1200, 1200, 1201, 1201, 1202, 1203, 1203, 1203, 1204, 1205, 1205, 1205, 1205, 1206, 1206, 1206, 1206, 1207, 1208, 1208, 1210, 1210, 1210, 1210, 1211, 1212, 1214, 1217, 1217, 1218, 1218, 1220, 1221, 1221, 1222, 1222, 1223, 1223, 1224, 1224, 1224, 1224, 1225, 1226, 1226, 1226, 1227, 1228, 1230, 1230, 1231, 1231, 1232, 1233, 1234, 1236, 1237, 1238, 1238, 1239, 1240, 1241, 1241, 1241, 1242, 1243, 1243, 1244, 1245, 1246, 1248, 1248, 1250, 1252, 1254, 1254, 1255, 1256, 1257, 1258, 1259, 1259, 1259, 1260, 1262, 1263, 1265, 1266, 1268, 1268, 1269, 1271, 1271, 1271, 1272, 1272, 1272, 1273, 1275, 1276, 1276, 1276, 1277, 1277, 1279, 1281, 1281, 1283, 1285, 1286, 1287, 1288, 1288, 1288, 1290, 1291, 1293, 1294, 1297, 1298, 1298, 1298, 1300, 1302, 1306, 1307, 1307, 1307, 1307, 1309, 1309, 1310, 1311, 1311, 1313, 1313, 1317, 1317, 1318, 1319, 1319, 1321, 1321, 1323, 1326, 1327, 1327, 1329, 1329, 1330, 1330, 1330, 1331, 1332, 1332, 1333, 1334, 1334, 1336, 1336, 1336, 1336, 1339, 1340, 1340, 1340, 1342, 1344, 1344, 1345, 1346, 1346, 1347, 1348, 1349, 1352, 1353, 1353, 1356, 1357, 1357, 1359, 1359, 1360, 1360, 1361, 1363, 1363, 1364, 1365, 1366, 1368, 1369, 1369, 1370, 1370, 1372, 1373, 1373, 1374, 1376, 1380, 1386, 1388, 1388, 1389, 1389, 1390, 1391, 1392, 1392, 1397, 1397, 1399, 1405, 1407, 1408, 1408, 1408, 1410, 1411, 1412, 1416, 1422, 1422, 1423, 1424, 1425, 1426, 1426, 1432, 1434, 1434, 1435, 1435, 1437, 1438, 1439, 1440, 1441, 1446, 1446, 1447, 1448, 1448, 1448, 1449, 1449, 1452, 1452, 1456, 1460, 1461, 1461, 1462, 1462, 1463, 1464, 1467, 1467, 1468, 1471, 1472, 1472, 1473, 1476, 1476, 1476, 1478, 1479, 1480, 1487, 1487, 1488, 1489, 1490, 1492, 1499, 1500, 1502, 1503, 1503, 1503, 1504, 1505, 1508, 1512, 1514, 1516, 1521, 1528, 1529, 1529, 1530, 1531, 1532, 1532, 1534, 1540, 1543, 1543, 1545, 1548, 1550, 1551, 1552, 1554, 1555, 1556, 1559, 1563, 1567, 1567, 1571, 1573, 1573, 1574, 1574, 1575, 1576, 1576, 1576, 1579, 1579, 1580, 1581, 1584, 1590, 1594, 1597, 1598, 1598, 1602, 1602, 1603, 1606, 1608, 1613, 1615, 1616, 1617, 1622, 1623, 1624, 1628, 1640, 1642, 1649, 1663, 1665, 1666, 1669, 1673, 1677, 1681, 1689, 1689, 1692, 1707, 1713, 1720, 1720, 1721, 1721, 1723, 1730, 1735, 1735, 1739, 1740, 1745, 1767, 1776, 1777, 1788, 1804, 1805, 1806, 1809, 1816, 1817, 1820, 1833, 1834, 1842, 1850, 1855, 1867, 1868, 1869, 1871, 1877, 1877, 1880, 1882, 1906, 1925, 1934, 1946, 1954, 1957, 1958, 1960, 1962, 1966, 1970, 1975, 1978, 1980, 1992, 1994, 2015, 2016, 2016, 2025, 2028, 2029, 2035, 2053, 2055, 2062, 2087, 2089, 2093, 2129, 2139, 2184, 2187, 2191, 2203, 2219, 2231, 2260, 2299, 2301, 2316, 2372, 2429, 2453, 2456, 2462, 2486, 2516, 2621, 2635, 2653, 2769, 2870, 2926, 3076, 3094, 3183, 3253, 3284, 3322, 3366, 3422, 3509, 3631, 3643, 4199, 4918]\n"
     ]
    },
    {
     "data": {
      "text/plain": [
       "2673"
      ]
     },
     "execution_count": 749,
     "metadata": {},
     "output_type": "execute_result"
    }
   ],
   "source": [
    "sample_outliers = outliers_iqr(df.duration)\n",
    "print(\"Outliers from IQR method: \", sample_outliers)\n",
    "len(sample_outliers)"
   ]
  },
  {
   "cell_type": "code",
   "execution_count": 750,
   "id": "9939cb96",
   "metadata": {},
   "outputs": [],
   "source": [
    "mean= np.mean(df.duration)\n",
    "mean\n",
    "for i in sample_outliers:\n",
    "    df.duration = np.where(df.duration==i, mean, df.duration)"
   ]
  },
  {
   "cell_type": "code",
   "execution_count": 751,
   "id": "fe974769",
   "metadata": {},
   "outputs": [
    {
     "name": "stderr",
     "output_type": "stream",
     "text": [
      "C:\\Users\\iraghupathivasish\\Anaconda3\\lib\\site-packages\\seaborn\\distributions.py:2557: FutureWarning: `distplot` is a deprecated function and will be removed in a future version. Please adapt your code to use either `displot` (a figure-level function with similar flexibility) or `histplot` (an axes-level function for histograms).\n",
      "  warnings.warn(msg, FutureWarning)\n"
     ]
    },
    {
     "data": {
      "text/plain": [
       "<AxesSubplot:xlabel='duration', ylabel='Density'>"
      ]
     },
     "execution_count": 751,
     "metadata": {},
     "output_type": "execute_result"
    },
    {
     "data": {
      "image/png": "[encoded data removed]",
      "text/plain": [
       "<Figure size 432x288 with 1 Axes>"
      ]
     },
     "metadata": {
      "needs_background": "light"
     },
     "output_type": "display_data"
    }
   ],
   "source": [
    "sns.distplot(df.duration, hist=True)"
   ]
  },
  {
   "cell_type": "code",
   "execution_count": 752,
   "id": "de60e144",
   "metadata": {},
   "outputs": [
    {
     "name": "stdout",
     "output_type": "stream",
     "text": [
      "Outliers from IQR method:  [510.0, 510.0, 510.0, 510.0, 510.0, 510.0, 510.0, 510.0, 510.0, 510.0, 510.0, 510.0, 510.0, 510.0, 511.0, 511.0, 511.0, 511.0, 511.0, 511.0, 511.0, 511.0, 511.0, 511.0, 511.0, 511.0, 511.0, 511.0, 512.0, 512.0, 512.0, 512.0, 512.0, 512.0, 512.0, 512.0, 512.0, 512.0, 512.0, 512.0, 512.0, 513.0, 513.0, 513.0, 513.0, 513.0, 513.0, 513.0, 513.0, 513.0, 513.0, 513.0, 513.0, 513.0, 513.0, 513.0, 513.0, 513.0, 513.0, 514.0, 514.0, 514.0, 514.0, 514.0, 514.0, 514.0, 514.0, 514.0, 514.0, 514.0, 514.0, 514.0, 514.0, 514.0, 514.0, 515.0, 515.0, 515.0, 515.0, 515.0, 515.0, 515.0, 515.0, 515.0, 515.0, 515.0, 515.0, 515.0, 515.0, 515.0, 515.0, 515.0, 516.0, 516.0, 516.0, 516.0, 516.0, 516.0, 516.0, 516.0, 516.0, 516.0, 516.0, 516.0, 516.0, 516.0, 517.0, 517.0, 517.0, 517.0, 517.0, 517.0, 517.0, 517.0, 517.0, 517.0, 517.0, 517.0, 517.0, 517.0, 517.0, 517.0, 517.0, 517.0, 518.0, 518.0, 518.0, 518.0, 518.0, 518.0, 518.0, 518.0, 518.0, 518.0, 518.0, 518.0, 518.0, 518.0, 518.0, 518.0, 518.0, 519.0, 519.0, 519.0, 519.0, 519.0, 519.0, 519.0, 519.0, 519.0, 519.0, 519.0, 520.0, 520.0, 520.0, 520.0, 520.0, 520.0, 520.0, 520.0, 520.0, 520.0, 520.0, 520.0, 520.0, 520.0, 520.0, 520.0, 520.0, 520.0, 520.0, 521.0, 521.0, 521.0, 521.0, 521.0, 521.0, 521.0, 521.0, 521.0, 521.0, 521.0, 521.0, 522.0, 522.0, 522.0, 522.0, 522.0, 522.0, 522.0, 522.0, 522.0, 522.0, 522.0, 523.0, 523.0, 523.0, 523.0, 523.0, 523.0, 523.0, 523.0, 523.0, 523.0, 523.0, 523.0, 523.0, 523.0, 523.0, 523.0, 523.0, 523.0, 523.0, 523.0, 524.0, 524.0, 524.0, 524.0, 524.0, 524.0, 524.0, 524.0, 524.0, 524.0, 524.0, 524.0, 525.0, 525.0, 525.0, 525.0, 525.0, 525.0, 525.0, 525.0, 525.0, 525.0, 525.0, 525.0, 525.0, 525.0, 526.0, 526.0, 526.0, 526.0, 526.0, 526.0, 526.0, 526.0, 526.0, 526.0, 526.0, 527.0, 527.0, 527.0, 527.0, 527.0, 527.0, 527.0, 527.0, 527.0, 528.0, 528.0, 528.0, 528.0, 528.0, 528.0, 528.0, 528.0, 528.0, 528.0, 528.0, 528.0, 528.0, 528.0, 528.0, 528.0, 528.0, 528.0, 528.0, 528.0, 528.0, 528.0, 529.0, 529.0, 529.0, 529.0, 529.0, 529.0, 529.0, 529.0, 529.0, 529.0, 529.0, 529.0, 529.0, 529.0, 529.0, 530.0, 530.0, 530.0, 530.0, 530.0, 530.0, 530.0, 530.0, 530.0, 530.0, 530.0, 530.0, 530.0, 530.0, 530.0, 530.0, 530.0, 530.0, 531.0, 531.0, 531.0, 531.0, 531.0, 531.0, 531.0, 531.0, 531.0, 531.0, 531.0, 531.0, 531.0, 532.0, 532.0, 532.0, 532.0, 532.0, 532.0, 532.0, 532.0, 532.0, 532.0, 532.0, 532.0, 532.0, 532.0, 532.0, 532.0, 532.0, 532.0, 532.0, 533.0, 533.0, 533.0, 533.0, 533.0, 533.0, 533.0, 533.0, 534.0, 534.0, 534.0, 534.0, 534.0, 534.0, 534.0, 534.0, 534.0, 534.0, 535.0, 535.0, 535.0, 535.0, 535.0, 535.0, 535.0, 535.0, 535.0, 535.0, 535.0, 535.0, 536.0, 536.0, 536.0, 536.0, 536.0, 536.0, 536.0, 536.0, 536.0, 536.0, 536.0, 536.0, 536.0, 536.0, 536.0, 536.0, 536.0, 536.0, 536.0, 536.0, 537.0, 537.0, 537.0, 537.0, 537.0, 537.0, 537.0, 537.0, 537.0, 537.0, 537.0, 538.0, 538.0, 538.0, 538.0, 538.0, 538.0, 538.0, 538.0, 538.0, 539.0, 539.0, 539.0, 539.0, 539.0, 539.0, 539.0, 539.0, 539.0, 539.0, 540.0, 540.0, 540.0, 540.0, 540.0, 540.0, 540.0, 540.0, 540.0, 540.0, 541.0, 541.0, 541.0, 541.0, 541.0, 541.0, 541.0, 541.0, 541.0, 541.0, 541.0, 541.0, 541.0, 541.0, 541.0, 541.0, 541.0, 541.0, 541.0, 542.0, 542.0, 542.0, 542.0, 542.0, 542.0, 542.0, 542.0, 542.0, 542.0, 543.0, 543.0, 543.0, 543.0, 543.0, 543.0, 543.0, 543.0, 543.0, 543.0, 543.0, 543.0, 543.0, 543.0, 543.0, 543.0, 543.0, 543.0, 543.0, 543.0, 544.0, 544.0, 544.0, 544.0, 544.0, 544.0, 544.0, 544.0, 544.0, 544.0, 544.0, 544.0, 544.0, 544.0, 544.0, 544.0, 544.0, 544.0, 544.0, 545.0, 545.0, 545.0, 545.0, 545.0, 545.0, 545.0, 545.0, 545.0, 545.0, 545.0, 545.0, 545.0, 546.0, 546.0, 546.0, 546.0, 546.0, 546.0, 546.0, 546.0, 546.0, 546.0, 547.0, 547.0, 547.0, 547.0, 547.0, 547.0, 547.0, 547.0, 547.0, 547.0, 548.0, 548.0, 548.0, 548.0, 548.0, 548.0, 548.0, 548.0, 548.0, 548.0, 549.0, 549.0, 549.0, 549.0, 549.0, 549.0, 549.0, 549.0, 549.0, 549.0, 549.0, 549.0, 549.0, 550.0, 550.0, 550.0, 550.0, 550.0, 550.0, 550.0, 550.0, 550.0, 550.0, 550.0, 550.0, 551.0, 551.0, 551.0, 551.0, 551.0, 551.0, 551.0, 551.0, 551.0, 551.0, 551.0, 551.0, 551.0, 551.0, 551.0, 551.0, 552.0, 552.0, 552.0, 552.0, 552.0, 552.0, 552.0, 552.0, 552.0, 552.0, 552.0, 552.0, 552.0, 553.0, 553.0, 553.0, 553.0, 553.0, 553.0, 553.0, 553.0, 553.0, 553.0, 553.0, 553.0, 553.0, 553.0, 553.0, 554.0, 554.0, 554.0, 554.0, 554.0, 554.0, 554.0, 554.0, 554.0, 554.0, 554.0, 554.0, 554.0, 554.0, 554.0, 554.0, 554.0, 555.0, 555.0, 555.0, 555.0, 555.0, 555.0, 555.0, 555.0, 556.0, 556.0, 556.0, 556.0, 556.0, 556.0, 556.0, 556.0, 556.0, 557.0, 557.0, 557.0, 557.0, 557.0, 557.0, 557.0, 557.0, 557.0, 558.0, 558.0, 558.0, 558.0, 558.0, 558.0, 558.0, 558.0, 558.0, 558.0, 559.0, 559.0, 559.0, 559.0, 559.0, 559.0, 559.0, 559.0, 559.0, 559.0, 559.0, 559.0, 559.0, 559.0, 559.0, 559.0, 560.0, 560.0, 560.0, 560.0, 560.0, 560.0, 560.0, 560.0, 560.0, 560.0, 560.0, 561.0, 561.0, 561.0, 561.0, 561.0, 561.0, 561.0, 561.0, 561.0, 561.0, 561.0, 561.0, 562.0, 562.0, 562.0, 562.0, 562.0, 562.0, 562.0, 562.0, 562.0, 562.0, 562.0, 562.0, 563.0, 563.0, 563.0, 563.0, 563.0, 563.0, 563.0, 563.0, 563.0, 563.0, 563.0, 563.0, 563.0, 563.0, 564.0, 564.0, 564.0, 564.0, 564.0, 564.0, 564.0, 564.0, 565.0, 565.0, 565.0, 565.0, 565.0, 565.0, 565.0, 565.0, 565.0, 565.0, 565.0, 565.0, 565.0, 566.0, 566.0, 566.0, 566.0, 566.0, 566.0, 566.0, 566.0, 566.0, 566.0, 566.0, 566.0, 566.0, 566.0, 567.0, 567.0, 567.0, 567.0, 567.0, 567.0, 567.0, 567.0, 567.0, 567.0, 567.0, 567.0, 567.0, 568.0, 568.0, 568.0, 568.0, 568.0, 568.0, 568.0, 568.0, 568.0, 568.0, 568.0, 569.0, 569.0, 569.0, 569.0, 569.0, 569.0, 569.0, 569.0, 569.0, 569.0, 569.0, 569.0, 569.0, 569.0, 570.0, 570.0, 570.0, 570.0, 570.0, 570.0, 570.0, 570.0, 570.0, 570.0, 570.0, 570.0, 571.0, 571.0, 571.0, 571.0, 571.0, 572.0, 572.0, 572.0, 572.0, 572.0, 572.0, 572.0, 573.0, 573.0, 573.0, 573.0, 573.0, 573.0, 573.0, 574.0, 574.0, 574.0, 574.0, 574.0, 574.0, 574.0, 574.0, 574.0, 574.0, 574.0, 574.0, 574.0, 574.0, 574.0, 574.0, 575.0, 575.0, 575.0, 575.0, 575.0, 575.0, 575.0, 575.0, 576.0, 576.0, 576.0, 576.0, 576.0, 576.0, 576.0, 576.0, 576.0, 576.0, 576.0, 576.0, 576.0, 576.0, 577.0, 577.0, 577.0, 577.0, 577.0, 577.0, 577.0, 577.0, 577.0, 577.0, 577.0, 577.0, 577.0, 577.0, 578.0, 578.0, 578.0, 578.0, 578.0, 578.0, 578.0, 578.0, 578.0, 578.0, 578.0, 578.0, 578.0, 579.0, 579.0, 579.0, 579.0, 579.0, 579.0, 579.0, 579.0, 579.0, 579.0, 579.0, 579.0, 579.0, 579.0, 579.0, 580.0, 580.0, 580.0, 580.0, 580.0, 580.0, 580.0, 580.0, 580.0, 580.0, 580.0, 580.0, 580.0, 580.0, 580.0, 581.0, 581.0, 581.0, 581.0, 581.0, 581.0, 581.0, 581.0, 581.0, 581.0, 581.0, 582.0, 582.0, 582.0, 582.0, 582.0, 582.0, 582.0, 582.0, 582.0, 582.0, 582.0, 582.0, 582.0, 583.0, 583.0, 583.0, 583.0, 583.0, 583.0, 583.0, 583.0, 583.0, 583.0, 583.0, 583.0, 583.0, 583.0, 584.0, 584.0, 584.0, 584.0, 584.0, 584.0, 584.0, 584.0, 584.0, 584.0, 584.0, 584.0, 585.0, 585.0, 585.0, 585.0, 585.0, 585.0, 585.0, 585.0, 585.0, 585.0, 585.0, 585.0, 585.0, 585.0, 586.0, 586.0, 586.0, 586.0, 586.0, 586.0, 586.0, 586.0, 586.0, 586.0, 587.0, 587.0, 587.0, 587.0, 587.0, 587.0, 587.0, 587.0, 588.0, 588.0, 588.0, 588.0, 588.0, 588.0, 588.0, 588.0, 588.0, 588.0, 588.0, 588.0, 588.0, 588.0, 589.0, 589.0, 589.0, 589.0, 589.0, 589.0, 589.0, 589.0, 589.0, 589.0, 590.0, 590.0, 590.0, 590.0, 590.0, 590.0, 590.0, 590.0, 590.0, 590.0, 590.0, 590.0, 590.0, 590.0, 590.0, 590.0, 590.0, 590.0, 591.0, 591.0, 591.0, 591.0, 591.0, 591.0, 591.0, 591.0, 591.0, 591.0, 591.0, 591.0, 592.0, 592.0, 592.0, 592.0, 592.0, 592.0, 592.0, 592.0, 592.0, 592.0, 593.0, 593.0, 593.0, 593.0, 593.0, 593.0, 593.0, 593.0, 593.0, 593.0, 594.0, 594.0, 594.0, 594.0, 594.0, 594.0, 594.0, 594.0, 595.0, 595.0, 595.0, 595.0, 595.0, 595.0, 595.0, 595.0, 595.0, 595.0, 595.0, 596.0, 596.0, 596.0, 596.0, 596.0, 596.0, 596.0, 596.0, 597.0, 597.0, 597.0, 597.0, 597.0, 597.0, 597.0, 597.0, 597.0, 597.0, 597.0, 597.0, 597.0, 597.0, 597.0, 597.0, 597.0, 597.0, 597.0, 598.0, 598.0, 598.0, 598.0, 598.0, 598.0, 599.0, 599.0, 599.0, 599.0, 599.0, 599.0, 599.0, 599.0, 599.0, 599.0, 599.0, 599.0, 600.0, 600.0, 600.0, 600.0, 600.0, 600.0, 600.0, 600.0, 600.0, 600.0, 600.0, 600.0, 600.0, 601.0, 601.0, 601.0, 601.0, 601.0, 601.0, 601.0, 602.0, 602.0, 602.0, 602.0, 602.0, 602.0, 603.0, 603.0, 603.0, 603.0, 603.0, 603.0, 603.0, 603.0, 603.0, 604.0, 604.0, 604.0, 604.0, 604.0, 604.0, 604.0, 604.0, 604.0, 604.0, 604.0, 604.0, 604.0, 604.0, 604.0, 604.0, 604.0, 604.0, 604.0, 605.0, 605.0, 605.0, 605.0, 605.0, 605.0, 605.0, 605.0, 605.0, 605.0, 605.0, 606.0, 606.0, 606.0, 606.0, 606.0, 606.0, 606.0, 606.0, 606.0, 606.0, 606.0, 606.0, 606.0, 607.0, 607.0, 607.0, 607.0, 607.0, 607.0, 607.0, 607.0, 607.0, 607.0, 607.0, 607.0, 608.0, 608.0, 608.0, 608.0, 608.0, 608.0, 608.0, 608.0, 608.0, 608.0, 608.0, 609.0, 609.0, 609.0, 609.0, 609.0, 609.0, 609.0, 609.0, 609.0, 609.0, 609.0, 609.0, 609.0, 609.0, 609.0, 610.0, 610.0, 610.0, 610.0, 610.0, 610.0, 610.0, 610.0, 610.0, 611.0, 611.0, 611.0, 611.0, 611.0, 611.0, 611.0, 611.0, 611.0, 611.0, 611.0, 611.0, 611.0, 611.0, 611.0, 612.0, 612.0, 612.0, 612.0, 612.0, 612.0, 612.0, 612.0, 612.0, 612.0, 612.0, 612.0, 612.0, 613.0, 613.0, 613.0, 613.0, 613.0, 613.0, 613.0, 614.0, 614.0, 614.0, 614.0, 614.0, 614.0, 614.0, 614.0, 614.0, 614.0, 614.0, 614.0, 614.0, 614.0, 614.0, 615.0, 615.0, 615.0, 615.0, 615.0, 615.0, 615.0, 615.0, 616.0, 616.0, 616.0, 616.0, 616.0, 616.0, 616.0, 617.0, 617.0, 617.0, 617.0, 617.0, 617.0, 617.0, 617.0, 617.0, 617.0, 618.0, 618.0, 618.0, 618.0, 618.0, 618.0, 618.0, 618.0, 618.0, 618.0, 618.0, 618.0, 618.0, 618.0, 618.0, 618.0, 618.0, 618.0, 619.0, 619.0, 619.0, 619.0, 619.0, 619.0, 619.0, 619.0, 619.0, 620.0, 620.0, 620.0, 620.0, 620.0, 620.0, 621.0, 621.0, 621.0, 621.0, 621.0, 622.0, 622.0, 622.0, 622.0, 622.0, 622.0, 622.0, 622.0, 622.0, 622.0, 622.0, 623.0, 623.0, 623.0, 623.0, 623.0, 623.0, 623.0, 623.0, 623.0, 623.0, 623.0, 623.0, 623.0, 623.0, 623.0, 624.0, 624.0, 624.0, 624.0, 624.0, 624.0, 624.0, 625.0, 625.0, 625.0, 625.0, 625.0, 626.0, 626.0, 626.0, 626.0, 626.0, 626.0, 626.0, 626.0, 627.0, 627.0, 627.0, 627.0, 627.0, 627.0, 627.0, 627.0, 627.0, 627.0, 627.0, 627.0, 628.0, 628.0, 628.0, 628.0, 628.0, 628.0, 628.0, 628.0, 629.0, 629.0, 629.0, 629.0, 629.0, 629.0, 629.0, 629.0, 629.0, 630.0, 630.0, 630.0, 630.0, 630.0, 630.0, 630.0, 630.0, 630.0, 630.0, 630.0, 630.0, 630.0, 631.0, 631.0, 631.0, 631.0, 631.0, 632.0, 632.0, 632.0, 632.0, 632.0, 632.0, 632.0, 632.0, 632.0, 632.0, 632.0, 633.0, 633.0, 633.0, 633.0, 633.0, 633.0, 633.0, 633.0, 633.0, 633.0, 633.0, 633.0, 633.0, 633.0, 633.0, 633.0, 634.0, 634.0, 634.0, 634.0, 634.0, 634.0, 634.0, 634.0, 634.0, 634.0, 634.0, 635.0, 635.0, 635.0, 635.0, 635.0, 635.0, 635.0, 635.0, 635.0, 636.0, 636.0, 636.0, 636.0, 636.0, 636.0, 636.0, 636.0, 636.0, 636.0, 637.0, 637.0, 637.0, 637.0, 637.0, 637.0, 637.0, 637.0, 637.0, 637.0, 638.0, 638.0, 638.0, 638.0, 638.0, 638.0, 638.0, 638.0, 638.0, 638.0, 638.0, 638.0, 638.0, 639.0, 639.0, 639.0, 639.0, 639.0, 639.0, 639.0, 639.0, 640.0, 640.0, 640.0, 640.0, 640.0, 640.0, 640.0, 640.0, 640.0, 641.0, 641.0, 641.0, 641.0, 641.0, 641.0, 641.0, 641.0, 641.0, 641.0, 642.0, 642.0, 642.0, 642.0, 642.0, 642.0, 642.0, 642.0, 642.0, 642.0, 643.0, 643.0, 643.0, 643.0, 643.0, 643.0, 643.0, 643.0, 643.0, 643.0, 643.0, 643.0, 643.0, 644.0, 644.0, 644.0, 644.0, 644.0, 644.0, 644.0, 644.0, 644.0, 644.0, 645.0, 645.0, 645.0, 645.0, 645.0, 645.0, 645.0]\n"
     ]
    },
    {
     "data": {
      "text/plain": [
       "1632"
      ]
     },
     "execution_count": 752,
     "metadata": {},
     "output_type": "execute_result"
    }
   ],
   "source": [
    "sample_outliers = outliers_iqr(df.duration)\n",
    "print(\"Outliers from IQR method: \", sample_outliers)\n",
    "len(sample_outliers)"
   ]
  },
  {
   "cell_type": "markdown",
   "id": "e5d4053e",
   "metadata": {},
   "source": [
    "Even after dealing with the outliers, there are a lot more outliers found. So, duration can be dropped. (DOUBT)"
   ]
  },
  {
   "cell_type": "code",
   "execution_count": 753,
   "id": "b9bdb4a3",
   "metadata": {},
   "outputs": [
    {
     "name": "stderr",
     "output_type": "stream",
     "text": [
      "C:\\Users\\iraghupathivasish\\Anaconda3\\lib\\site-packages\\seaborn\\_decorators.py:36: FutureWarning: Pass the following variable as a keyword arg: x. From version 0.12, the only valid positional argument will be `data`, and passing other arguments without an explicit keyword will result in an error or misinterpretation.\n",
      "  warnings.warn(\n"
     ]
    },
    {
     "data": {
      "text/plain": [
       "<AxesSubplot:xlabel='campaign'>"
      ]
     },
     "execution_count": 753,
     "metadata": {},
     "output_type": "execute_result"
    },
    {
     "data": {
      "image/png": "[encoded data removed]",
      "text/plain": [
       "<Figure size 432x288 with 1 Axes>"
      ]
     },
     "metadata": {
      "needs_background": "light"
     },
     "output_type": "display_data"
    }
   ],
   "source": [
    "sns.boxplot(df['campaign'])"
   ]
  },
  {
   "cell_type": "code",
   "execution_count": 754,
   "id": "d8663b68",
   "metadata": {},
   "outputs": [
    {
     "name": "stdout",
     "output_type": "stream",
     "text": [
      "Outliers from IQR method:  [7, 7, 7, 7, 7, 7, 7, 7, 7, 7, 7, 7, 7, 7, 7, 7, 7, 7, 7, 7, 7, 7, 7, 7, 7, 7, 7, 7, 7, 7, 7, 7, 7, 7, 7, 7, 7, 7, 7, 7, 7, 7, 7, 7, 7, 7, 7, 7, 7, 7, 7, 7, 7, 7, 7, 7, 7, 7, 7, 7, 7, 7, 7, 7, 7, 7, 7, 7, 7, 7, 7, 7, 7, 7, 7, 7, 7, 7, 7, 7, 7, 7, 7, 7, 7, 7, 7, 7, 7, 7, 7, 7, 7, 7, 7, 7, 7, 7, 7, 7, 7, 7, 7, 7, 7, 7, 7, 7, 7, 7, 7, 7, 7, 7, 7, 7, 7, 7, 7, 7, 7, 7, 7, 7, 7, 7, 7, 7, 7, 7, 7, 7, 7, 7, 7, 7, 7, 7, 7, 7, 7, 7, 7, 7, 7, 7, 7, 7, 7, 7, 7, 7, 7, 7, 7, 7, 7, 7, 7, 7, 7, 7, 7, 7, 7, 7, 7, 7, 7, 7, 7, 7, 7, 7, 7, 7, 7, 7, 7, 7, 7, 7, 7, 7, 7, 7, 7, 7, 7, 7, 7, 7, 7, 7, 7, 7, 7, 7, 7, 7, 7, 7, 7, 7, 7, 7, 7, 7, 7, 7, 7, 7, 7, 7, 7, 7, 7, 7, 7, 7, 7, 7, 7, 7, 7, 7, 7, 7, 7, 7, 7, 7, 7, 7, 7, 7, 7, 7, 7, 7, 7, 7, 7, 7, 7, 7, 7, 7, 7, 7, 7, 7, 7, 7, 7, 7, 7, 7, 7, 7, 7, 7, 7, 7, 7, 7, 7, 7, 7, 7, 7, 7, 7, 7, 7, 7, 7, 7, 7, 7, 7, 7, 7, 7, 7, 7, 7, 7, 7, 7, 7, 7, 7, 7, 7, 7, 7, 7, 7, 7, 7, 7, 7, 7, 7, 7, 7, 7, 7, 7, 7, 7, 7, 7, 7, 7, 7, 7, 7, 7, 7, 7, 7, 7, 7, 7, 7, 7, 7, 7, 7, 7, 7, 7, 7, 7, 7, 7, 7, 7, 7, 7, 7, 7, 7, 7, 7, 7, 7, 7, 7, 7, 7, 7, 7, 7, 7, 7, 7, 7, 7, 7, 7, 7, 7, 7, 7, 7, 7, 7, 7, 7, 7, 7, 7, 7, 7, 7, 7, 7, 7, 7, 7, 7, 7, 7, 7, 7, 7, 7, 7, 7, 7, 7, 7, 7, 7, 7, 7, 7, 7, 7, 7, 7, 7, 7, 7, 7, 7, 7, 7, 7, 7, 7, 7, 7, 7, 7, 7, 7, 7, 7, 7, 7, 7, 7, 7, 7, 7, 7, 7, 7, 7, 7, 7, 7, 7, 7, 7, 7, 7, 7, 7, 7, 7, 7, 7, 7, 7, 7, 7, 7, 7, 7, 7, 7, 7, 7, 7, 7, 7, 7, 7, 7, 7, 7, 7, 7, 7, 7, 7, 7, 7, 7, 7, 7, 7, 7, 7, 7, 7, 7, 7, 7, 7, 7, 7, 7, 7, 7, 7, 7, 7, 7, 7, 7, 7, 7, 7, 7, 7, 7, 7, 7, 7, 7, 7, 7, 7, 7, 7, 7, 7, 7, 7, 7, 7, 7, 7, 7, 7, 7, 7, 7, 7, 7, 7, 7, 7, 7, 7, 7, 7, 7, 7, 7, 7, 7, 7, 7, 7, 7, 7, 7, 7, 7, 7, 7, 7, 7, 7, 7, 7, 7, 7, 7, 7, 7, 7, 7, 7, 7, 7, 7, 7, 7, 7, 7, 7, 7, 7, 7, 7, 7, 7, 7, 7, 7, 7, 7, 8, 8, 8, 8, 8, 8, 8, 8, 8, 8, 8, 8, 8, 8, 8, 8, 8, 8, 8, 8, 8, 8, 8, 8, 8, 8, 8, 8, 8, 8, 8, 8, 8, 8, 8, 8, 8, 8, 8, 8, 8, 8, 8, 8, 8, 8, 8, 8, 8, 8, 8, 8, 8, 8, 8, 8, 8, 8, 8, 8, 8, 8, 8, 8, 8, 8, 8, 8, 8, 8, 8, 8, 8, 8, 8, 8, 8, 8, 8, 8, 8, 8, 8, 8, 8, 8, 8, 8, 8, 8, 8, 8, 8, 8, 8, 8, 8, 8, 8, 8, 8, 8, 8, 8, 8, 8, 8, 8, 8, 8, 8, 8, 8, 8, 8, 8, 8, 8, 8, 8, 8, 8, 8, 8, 8, 8, 8, 8, 8, 8, 8, 8, 8, 8, 8, 8, 8, 8, 8, 8, 8, 8, 8, 8, 8, 8, 8, 8, 8, 8, 8, 8, 8, 8, 8, 8, 8, 8, 8, 8, 8, 8, 8, 8, 8, 8, 8, 8, 8, 8, 8, 8, 8, 8, 8, 8, 8, 8, 8, 8, 8, 8, 8, 8, 8, 8, 8, 8, 8, 8, 8, 8, 8, 8, 8, 8, 8, 8, 8, 8, 8, 8, 8, 8, 8, 8, 8, 8, 8, 8, 8, 8, 8, 8, 8, 8, 8, 8, 8, 8, 8, 8, 8, 8, 8, 8, 8, 8, 8, 8, 8, 8, 8, 8, 8, 8, 8, 8, 8, 8, 8, 8, 8, 8, 8, 8, 8, 8, 8, 8, 8, 8, 8, 8, 8, 8, 8, 8, 8, 8, 8, 8, 8, 8, 8, 8, 8, 8, 8, 8, 8, 8, 8, 8, 8, 8, 8, 8, 8, 8, 8, 8, 8, 8, 8, 8, 8, 8, 8, 8, 8, 8, 8, 8, 8, 8, 8, 8, 8, 8, 8, 8, 8, 8, 8, 8, 8, 8, 8, 8, 8, 8, 8, 8, 8, 8, 8, 8, 8, 8, 8, 8, 8, 8, 8, 8, 8, 8, 8, 8, 8, 8, 8, 8, 8, 8, 8, 8, 8, 8, 8, 8, 8, 8, 8, 8, 8, 8, 8, 8, 8, 8, 8, 8, 8, 8, 8, 8, 8, 8, 9, 9, 9, 9, 9, 9, 9, 9, 9, 9, 9, 9, 9, 9, 9, 9, 9, 9, 9, 9, 9, 9, 9, 9, 9, 9, 9, 9, 9, 9, 9, 9, 9, 9, 9, 9, 9, 9, 9, 9, 9, 9, 9, 9, 9, 9, 9, 9, 9, 9, 9, 9, 9, 9, 9, 9, 9, 9, 9, 9, 9, 9, 9, 9, 9, 9, 9, 9, 9, 9, 9, 9, 9, 9, 9, 9, 9, 9, 9, 9, 9, 9, 9, 9, 9, 9, 9, 9, 9, 9, 9, 9, 9, 9, 9, 9, 9, 9, 9, 9, 9, 9, 9, 9, 9, 9, 9, 9, 9, 9, 9, 9, 9, 9, 9, 9, 9, 9, 9, 9, 9, 9, 9, 9, 9, 9, 9, 9, 9, 9, 9, 9, 9, 9, 9, 9, 9, 9, 9, 9, 9, 9, 9, 9, 9, 9, 9, 9, 9, 9, 9, 9, 9, 9, 9, 9, 9, 9, 9, 9, 9, 9, 9, 9, 9, 9, 9, 9, 9, 9, 9, 9, 9, 9, 9, 9, 9, 9, 9, 9, 9, 9, 9, 9, 9, 9, 9, 9, 9, 9, 9, 9, 9, 9, 9, 9, 9, 9, 9, 9, 9, 9, 9, 9, 9, 9, 9, 9, 9, 9, 9, 9, 9, 9, 9, 9, 9, 9, 9, 9, 9, 9, 9, 9, 9, 9, 9, 9, 9, 9, 9, 9, 9, 9, 9, 9, 9, 9, 9, 9, 9, 9, 9, 9, 9, 9, 9, 9, 9, 9, 9, 9, 9, 9, 9, 9, 9, 9, 9, 9, 10, 10, 10, 10, 10, 10, 10, 10, 10, 10, 10, 10, 10, 10, 10, 10, 10, 10, 10, 10, 10, 10, 10, 10, 10, 10, 10, 10, 10, 10, 10, 10, 10, 10, 10, 10, 10, 10, 10, 10, 10, 10, 10, 10, 10, 10, 10, 10, 10, 10, 10, 10, 10, 10, 10, 10, 10, 10, 10, 10, 10, 10, 10, 10, 10, 10, 10, 10, 10, 10, 10, 10, 10, 10, 10, 10, 10, 10, 10, 10, 10, 10, 10, 10, 10, 10, 10, 10, 10, 10, 10, 10, 10, 10, 10, 10, 10, 10, 10, 10, 10, 10, 10, 10, 10, 10, 10, 10, 10, 10, 10, 10, 10, 10, 10, 10, 10, 10, 10, 10, 10, 10, 10, 10, 10, 10, 10, 10, 10, 10, 10, 10, 10, 10, 10, 10, 10, 10, 10, 10, 10, 10, 10, 10, 10, 10, 10, 10, 10, 10, 10, 10, 10, 10, 10, 10, 10, 10, 10, 10, 10, 10, 10, 10, 10, 10, 10, 10, 10, 10, 10, 10, 10, 10, 10, 10, 10, 10, 10, 10, 10, 10, 10, 10, 10, 10, 10, 10, 10, 10, 10, 10, 10, 10, 10, 10, 11, 11, 11, 11, 11, 11, 11, 11, 11, 11, 11, 11, 11, 11, 11, 11, 11, 11, 11, 11, 11, 11, 11, 11, 11, 11, 11, 11, 11, 11, 11, 11, 11, 11, 11, 11, 11, 11, 11, 11, 11, 11, 11, 11, 11, 11, 11, 11, 11, 11, 11, 11, 11, 11, 11, 11, 11, 11, 11, 11, 11, 11, 11, 11, 11, 11, 11, 11, 11, 11, 11, 11, 11, 11, 11, 11, 11, 11, 11, 11, 11, 11, 11, 11, 11, 11, 11, 11, 11, 11, 11, 11, 11, 11, 11, 11, 11, 11, 11, 11, 11, 11, 11, 11, 11, 11, 11, 11, 11, 11, 11, 11, 11, 11, 11, 11, 11, 11, 11, 11, 11, 11, 11, 11, 11, 11, 11, 11, 11, 11, 11, 11, 11, 11, 11, 11, 11, 11, 11, 11, 11, 11, 11, 11, 11, 11, 11, 11, 11, 11, 11, 11, 11, 11, 11, 11, 11, 11, 11, 11, 11, 11, 11, 11, 11, 12, 12, 12, 12, 12, 12, 12, 12, 12, 12, 12, 12, 12, 12, 12, 12, 12, 12, 12, 12, 12, 12, 12, 12, 12, 12, 12, 12, 12, 12, 12, 12, 12, 12, 12, 12, 12, 12, 12, 12, 12, 12, 12, 12, 12, 12, 12, 12, 12, 12, 12, 12, 12, 12, 12, 12, 12, 12, 12, 12, 12, 12, 12, 12, 12, 12, 12, 12, 12, 12, 12, 12, 12, 12, 12, 12, 12, 12, 12, 12, 12, 12, 12, 12, 12, 12, 12, 12, 12, 12, 12, 12, 12, 12, 12, 12, 12, 12, 12, 12, 12, 12, 12, 12, 12, 12, 12, 12, 12, 12, 12, 12, 12, 12, 12, 12, 12, 12, 13, 13, 13, 13, 13, 13, 13, 13, 13, 13, 13, 13, 13, 13, 13, 13, 13, 13, 13, 13, 13, 13, 13, 13, 13, 13, 13, 13, 13, 13, 13, 13, 13, 13, 13, 13, 13, 13, 13, 13, 13, 13, 13, 13, 13, 13, 13, 13, 13, 13, 13, 13, 13, 13, 13, 13, 13, 13, 13, 13, 13, 13, 13, 13, 13, 13, 13, 13, 13, 13, 13, 13, 13, 13, 13, 13, 13, 13, 13, 13, 13, 13, 13, 13, 13, 13, 13, 13, 14, 14, 14, 14, 14, 14, 14, 14, 14, 14, 14, 14, 14, 14, 14, 14, 14, 14, 14, 14, 14, 14, 14, 14, 14, 14, 14, 14, 14, 14, 14, 14, 14, 14, 14, 14, 14, 14, 14, 14, 14, 14, 14, 14, 14, 14, 14, 14, 14, 14, 14, 14, 14, 14, 14, 14, 14, 14, 14, 14, 14, 14, 15, 15, 15, 15, 15, 15, 15, 15, 15, 15, 15, 15, 15, 15, 15, 15, 15, 15, 15, 15, 15, 15, 15, 15, 15, 15, 15, 15, 15, 15, 15, 15, 15, 15, 15, 15, 15, 15, 15, 15, 15, 16, 16, 16, 16, 16, 16, 16, 16, 16, 16, 16, 16, 16, 16, 16, 16, 16, 16, 16, 16, 16, 16, 16, 16, 16, 16, 16, 16, 16, 16, 16, 16, 16, 16, 16, 16, 16, 16, 16, 16, 16, 16, 16, 16, 16, 17, 17, 17, 17, 17, 17, 17, 17, 17, 17, 17, 17, 17, 17, 17, 17, 17, 17, 17, 17, 17, 17, 17, 17, 17, 17, 17, 17, 17, 17, 17, 17, 17, 17, 17, 17, 17, 17, 17, 17, 17, 17, 17, 17, 17, 17, 17, 17, 17, 18, 18, 18, 18, 18, 18, 18, 18, 18, 18, 18, 18, 18, 18, 18, 18, 18, 18, 18, 18, 18, 18, 18, 18, 18, 18, 18, 18, 18, 18, 18, 18, 19, 19, 19, 19, 19, 19, 19, 19, 19, 19, 19, 19, 19, 19, 19, 19, 19, 19, 19, 19, 19, 19, 19, 19, 19, 20, 20, 20, 20, 20, 20, 20, 20, 20, 20, 20, 20, 20, 20, 20, 20, 20, 20, 20, 20, 20, 20, 20, 20, 20, 20, 20, 20, 21, 21, 21, 21, 21, 21, 21, 21, 21, 21, 21, 21, 21, 21, 21, 21, 21, 21, 21, 21, 21, 21, 21, 21, 22, 22, 22, 22, 22, 22, 22, 22, 22, 22, 22, 22, 22, 22, 23, 23, 23, 23, 23, 23, 23, 23, 23, 23, 23, 23, 23, 23, 24, 24, 24, 24, 24, 24, 24, 24, 24, 24, 24, 24, 24, 24, 25, 25, 25, 25, 25, 25, 26, 26, 26, 26, 26, 26, 26, 27, 27, 27, 27, 27, 27, 27, 27, 27, 28, 28, 28, 28, 28, 28, 28, 28, 29, 29, 29, 29, 29, 29, 29, 29, 30, 30, 30, 30, 30, 30, 31, 31, 31, 31, 31, 31, 32, 32, 32, 32, 33, 33, 33, 33, 34, 34, 34, 35, 35, 35, 35, 37, 39, 40, 40, 41, 42, 43, 43, 56]\n"
     ]
    },
    {
     "data": {
      "text/plain": [
       "2189"
      ]
     },
     "execution_count": 754,
     "metadata": {},
     "output_type": "execute_result"
    }
   ],
   "source": [
    "sample_outliers = outliers_iqr(df.campaign)\n",
    "print(\"Outliers from IQR method: \", sample_outliers)\n",
    "len(sample_outliers)"
   ]
  },
  {
   "cell_type": "code",
   "execution_count": 755,
   "id": "6affe494",
   "metadata": {},
   "outputs": [],
   "source": [
    "mean = np.mean(df.campaign)\n",
    "for i in sample_outliers:\n",
    "    df.campaign= np.where(df.campaign==i, mean, df.campaign)"
   ]
  },
  {
   "cell_type": "code",
   "execution_count": 756,
   "id": "1fcde595",
   "metadata": {},
   "outputs": [
    {
     "name": "stdout",
     "output_type": "stream",
     "text": [
      "Outliers from IQR method:  []\n"
     ]
    }
   ],
   "source": [
    "sample_outliers = outliers_iqr(df.campaign)\n",
    "print(\"Outliers from IQR method: \", sample_outliers)"
   ]
  },
  {
   "cell_type": "code",
   "execution_count": 757,
   "id": "5b63dcce",
   "metadata": {},
   "outputs": [
    {
     "name": "stderr",
     "output_type": "stream",
     "text": [
      "C:\\Users\\iraghupathivasish\\Anaconda3\\lib\\site-packages\\seaborn\\_decorators.py:36: FutureWarning: Pass the following variable as a keyword arg: x. From version 0.12, the only valid positional argument will be `data`, and passing other arguments without an explicit keyword will result in an error or misinterpretation.\n",
      "  warnings.warn(\n"
     ]
    },
    {
     "data": {
      "text/plain": [
       "<AxesSubplot:xlabel='campaign'>"
      ]
     },
     "execution_count": 757,
     "metadata": {},
     "output_type": "execute_result"
    },
    {
     "data": {
      "image/png": "[encoded data removed]",
      "text/plain": [
       "<Figure size 432x288 with 1 Axes>"
      ]
     },
     "metadata": {
      "needs_background": "light"
     },
     "output_type": "display_data"
    }
   ],
   "source": [
    "sns.boxplot(df['campaign'])"
   ]
  },
  {
   "cell_type": "markdown",
   "id": "7c996ec5",
   "metadata": {},
   "source": [
    "##### Campaign - Keep or not to Keep? "
   ]
  },
  {
   "cell_type": "code",
   "execution_count": 758,
   "id": "e581da46",
   "metadata": {},
   "outputs": [
    {
     "name": "stderr",
     "output_type": "stream",
     "text": [
      "C:\\Users\\iraghupathivasish\\Anaconda3\\lib\\site-packages\\seaborn\\_decorators.py:36: FutureWarning: Pass the following variable as a keyword arg: x. From version 0.12, the only valid positional argument will be `data`, and passing other arguments without an explicit keyword will result in an error or misinterpretation.\n",
      "  warnings.warn(\n"
     ]
    },
    {
     "data": {
      "text/plain": [
       "<AxesSubplot:xlabel='cons.price.idx'>"
      ]
     },
     "execution_count": 758,
     "metadata": {},
     "output_type": "execute_result"
    },
    {
     "data": {
      "image/png": "[encoded data removed]",
      "text/plain": [
       "<Figure size 432x288 with 1 Axes>"
      ]
     },
     "metadata": {
      "needs_background": "light"
     },
     "output_type": "display_data"
    }
   ],
   "source": [
    "sns.boxplot(df['cons.price.idx'])"
   ]
  },
  {
   "cell_type": "code",
   "execution_count": 759,
   "id": "9f1208f8",
   "metadata": {},
   "outputs": [
    {
     "name": "stdout",
     "output_type": "stream",
     "text": [
      "Outliers from IQR method:  []\n"
     ]
    }
   ],
   "source": [
    "sample_outliers = outliers_iqr(df['cons.price.idx'])\n",
    "print(\"Outliers from IQR method: \", sample_outliers)"
   ]
  },
  {
   "cell_type": "code",
   "execution_count": 760,
   "id": "2d12cdb1",
   "metadata": {},
   "outputs": [
    {
     "name": "stderr",
     "output_type": "stream",
     "text": [
      "C:\\Users\\iraghupathivasish\\Anaconda3\\lib\\site-packages\\seaborn\\_decorators.py:36: FutureWarning: Pass the following variable as a keyword arg: x. From version 0.12, the only valid positional argument will be `data`, and passing other arguments without an explicit keyword will result in an error or misinterpretation.\n",
      "  warnings.warn(\n"
     ]
    },
    {
     "data": {
      "text/plain": [
       "<AxesSubplot:xlabel='cons.conf.idx'>"
      ]
     },
     "execution_count": 760,
     "metadata": {},
     "output_type": "execute_result"
    },
    {
     "data": {
      "image/png": "[encoded data removed]",
      "text/plain": [
       "<Figure size 432x288 with 1 Axes>"
      ]
     },
     "metadata": {
      "needs_background": "light"
     },
     "output_type": "display_data"
    }
   ],
   "source": [
    "sns.boxplot(df['cons.conf.idx'])          #Doubtful"
   ]
  },
  {
   "cell_type": "markdown",
   "id": "bfae823d",
   "metadata": {},
   "source": [
    "What to do - one outlier?"
   ]
  },
  {
   "cell_type": "code",
   "execution_count": 761,
   "id": "b02a6298",
   "metadata": {},
   "outputs": [
    {
     "name": "stdout",
     "output_type": "stream",
     "text": [
      "Outliers from IQR method:  [-26.9, -26.9, -26.9, -26.9, -26.9, -26.9, -26.9, -26.9, -26.9, -26.9, -26.9, -26.9, -26.9, -26.9, -26.9, -26.9, -26.9, -26.9, -26.9, -26.9, -26.9, -26.9, -26.9, -26.9, -26.9, -26.9, -26.9, -26.9, -26.9, -26.9, -26.9, -26.9, -26.9, -26.9, -26.9, -26.9, -26.9, -26.9, -26.9, -26.9, -26.9, -26.9, -26.9, -26.9, -26.9, -26.9, -26.9, -26.9, -26.9, -26.9, -26.9, -26.9, -26.9, -26.9, -26.9, -26.9, -26.9, -26.9, -26.9, -26.9, -26.9, -26.9, -26.9, -26.9, -26.9, -26.9, -26.9, -26.9, -26.9, -26.9, -26.9, -26.9, -26.9, -26.9, -26.9, -26.9, -26.9, -26.9, -26.9, -26.9, -26.9, -26.9, -26.9, -26.9, -26.9, -26.9, -26.9, -26.9, -26.9, -26.9, -26.9, -26.9, -26.9, -26.9, -26.9, -26.9, -26.9, -26.9, -26.9, -26.9, -26.9, -26.9, -26.9, -26.9, -26.9, -26.9, -26.9, -26.9, -26.9, -26.9, -26.9, -26.9, -26.9, -26.9, -26.9, -26.9, -26.9, -26.9, -26.9, -26.9, -26.9, -26.9, -26.9, -26.9, -26.9, -26.9, -26.9, -26.9, -26.9, -26.9, -26.9, -26.9, -26.9, -26.9, -26.9, -26.9, -26.9, -26.9, -26.9, -26.9, -26.9, -26.9, -26.9, -26.9, -26.9, -26.9, -26.9, -26.9, -26.9, -26.9, -26.9, -26.9, -26.9, -26.9, -26.9, -26.9, -26.9, -26.9, -26.9, -26.9, -26.9, -26.9, -26.9, -26.9, -26.9, -26.9, -26.9, -26.9, -26.9, -26.9, -26.9, -26.9, -26.9, -26.9, -26.9, -26.9, -26.9, -26.9, -26.9, -26.9, -26.9, -26.9, -26.9, -26.9, -26.9, -26.9, -26.9, -26.9, -26.9, -26.9, -26.9, -26.9, -26.9, -26.9, -26.9, -26.9, -26.9, -26.9, -26.9, -26.9, -26.9, -26.9, -26.9, -26.9, -26.9, -26.9, -26.9, -26.9, -26.9, -26.9, -26.9, -26.9, -26.9, -26.9, -26.9, -26.9, -26.9, -26.9, -26.9, -26.9, -26.9, -26.9, -26.9, -26.9, -26.9, -26.9, -26.9, -26.9, -26.9, -26.9, -26.9, -26.9, -26.9, -26.9, -26.9, -26.9, -26.9, -26.9, -26.9, -26.9, -26.9, -26.9, -26.9, -26.9, -26.9, -26.9, -26.9, -26.9, -26.9, -26.9, -26.9, -26.9, -26.9, -26.9, -26.9, -26.9, -26.9, -26.9, -26.9, -26.9, -26.9, -26.9, -26.9, -26.9, -26.9, -26.9, -26.9, -26.9, -26.9, -26.9, -26.9, -26.9, -26.9, -26.9, -26.9, -26.9, -26.9, -26.9, -26.9, -26.9, -26.9, -26.9, -26.9, -26.9, -26.9, -26.9, -26.9, -26.9, -26.9, -26.9, -26.9, -26.9, -26.9, -26.9, -26.9, -26.9, -26.9, -26.9, -26.9, -26.9, -26.9, -26.9, -26.9, -26.9, -26.9, -26.9, -26.9, -26.9, -26.9, -26.9, -26.9, -26.9, -26.9, -26.9, -26.9, -26.9, -26.9, -26.9, -26.9, -26.9, -26.9, -26.9, -26.9, -26.9, -26.9, -26.9, -26.9, -26.9, -26.9, -26.9, -26.9, -26.9, -26.9, -26.9, -26.9, -26.9, -26.9, -26.9, -26.9, -26.9, -26.9, -26.9, -26.9, -26.9, -26.9, -26.9, -26.9, -26.9, -26.9, -26.9, -26.9, -26.9, -26.9, -26.9, -26.9, -26.9, -26.9, -26.9, -26.9, -26.9, -26.9, -26.9, -26.9, -26.9, -26.9, -26.9, -26.9, -26.9, -26.9, -26.9, -26.9, -26.9, -26.9, -26.9, -26.9, -26.9, -26.9, -26.9, -26.9, -26.9, -26.9, -26.9, -26.9, -26.9, -26.9, -26.9, -26.9, -26.9, -26.9, -26.9, -26.9]\n"
     ]
    }
   ],
   "source": [
    "sample_outliers = outliers_iqr(df['cons.conf.idx'])\n",
    "print(\"Outliers from IQR method: \", sample_outliers)"
   ]
  },
  {
   "cell_type": "code",
   "execution_count": 762,
   "id": "e9557698",
   "metadata": {},
   "outputs": [
    {
     "name": "stderr",
     "output_type": "stream",
     "text": [
      "C:\\Users\\iraghupathivasish\\Anaconda3\\lib\\site-packages\\seaborn\\_decorators.py:36: FutureWarning: Pass the following variable as a keyword arg: x. From version 0.12, the only valid positional argument will be `data`, and passing other arguments without an explicit keyword will result in an error or misinterpretation.\n",
      "  warnings.warn(\n"
     ]
    },
    {
     "data": {
      "text/plain": [
       "<AxesSubplot:xlabel='emp.var.rate'>"
      ]
     },
     "execution_count": 762,
     "metadata": {},
     "output_type": "execute_result"
    },
    {
     "data": {
      "image/png": "[encoded data removed]",
      "text/plain": [
       "<Figure size 432x288 with 1 Axes>"
      ]
     },
     "metadata": {
      "needs_background": "light"
     },
     "output_type": "display_data"
    }
   ],
   "source": [
    "sns.boxplot(df['emp.var.rate'])"
   ]
  },
  {
   "cell_type": "code",
   "execution_count": 763,
   "id": "a1dce4d6",
   "metadata": {},
   "outputs": [
    {
     "name": "stderr",
     "output_type": "stream",
     "text": [
      "C:\\Users\\iraghupathivasish\\Anaconda3\\lib\\site-packages\\seaborn\\_decorators.py:36: FutureWarning: Pass the following variable as a keyword arg: x. From version 0.12, the only valid positional argument will be `data`, and passing other arguments without an explicit keyword will result in an error or misinterpretation.\n",
      "  warnings.warn(\n"
     ]
    },
    {
     "data": {
      "text/plain": [
       "<AxesSubplot:xlabel='euribor3m'>"
      ]
     },
     "execution_count": 763,
     "metadata": {},
     "output_type": "execute_result"
    },
    {
     "data": {
      "image/png": "[encoded data removed]",
      "text/plain": [
       "<Figure size 432x288 with 1 Axes>"
      ]
     },
     "metadata": {
      "needs_background": "light"
     },
     "output_type": "display_data"
    }
   ],
   "source": [
    "sns.boxplot(df['euribor3m'])"
   ]
  },
  {
   "cell_type": "code",
   "execution_count": 764,
   "id": "e89ae241",
   "metadata": {},
   "outputs": [
    {
     "name": "stderr",
     "output_type": "stream",
     "text": [
      "C:\\Users\\iraghupathivasish\\Anaconda3\\lib\\site-packages\\seaborn\\_decorators.py:36: FutureWarning: Pass the following variable as a keyword arg: x. From version 0.12, the only valid positional argument will be `data`, and passing other arguments without an explicit keyword will result in an error or misinterpretation.\n",
      "  warnings.warn(\n"
     ]
    },
    {
     "data": {
      "text/plain": [
       "<AxesSubplot:xlabel='nr.employed'>"
      ]
     },
     "execution_count": 764,
     "metadata": {},
     "output_type": "execute_result"
    },
    {
     "data": {
      "image/png": "[encoded data removed]",
      "text/plain": [
       "<Figure size 432x288 with 1 Axes>"
      ]
     },
     "metadata": {
      "needs_background": "light"
     },
     "output_type": "display_data"
    }
   ],
   "source": [
    "sns.boxplot(df['nr.employed'])"
   ]
  },
  {
   "cell_type": "markdown",
   "id": "83e07a0d",
   "metadata": {},
   "source": [
    "No outliers in the socio-economic table variables."
   ]
  },
  {
   "cell_type": "markdown",
   "id": "420699ba",
   "metadata": {},
   "source": [
    "#### NOTE: Doubt in cons.conf.idx"
   ]
  },
  {
   "cell_type": "markdown",
   "id": "22793082",
   "metadata": {},
   "source": [
    "### Data scaling using min-max and/or  Z-score normalisation "
   ]
  },
  {
   "cell_type": "markdown",
   "id": "b790d501",
   "metadata": {},
   "source": [
    "Scaling of 'duration' variable"
   ]
  },
  {
   "cell_type": "code",
   "execution_count": 775,
   "id": "5dc2f563",
   "metadata": {},
   "outputs": [
    {
     "data": {
      "text/html": [
       "<div>\n",
       "<style scoped>\n",
       "    .dataframe tbody tr th:only-of-type {\n",
       "        vertical-align: middle;\n",
       "    }\n",
       "\n",
       "    .dataframe tbody tr th {\n",
       "        vertical-align: top;\n",
       "    }\n",
       "\n",
       "    .dataframe thead th {\n",
       "        text-align: right;\n",
       "    }\n",
       "</style>\n",
       "<table border=\"1\" class=\"dataframe\">\n",
       "  <thead>\n",
       "    <tr style=\"text-align: right;\">\n",
       "      <th></th>\n",
       "      <th>Customer_id</th>\n",
       "      <th>age</th>\n",
       "      <th>job</th>\n",
       "      <th>marital</th>\n",
       "      <th>education</th>\n",
       "      <th>default</th>\n",
       "      <th>housing</th>\n",
       "      <th>loan</th>\n",
       "      <th>Region_Code</th>\n",
       "      <th>State_Code</th>\n",
       "      <th>...</th>\n",
       "      <th>previous</th>\n",
       "      <th>y</th>\n",
       "      <th>emp.var.rate</th>\n",
       "      <th>cons.price.idx</th>\n",
       "      <th>cons.conf.idx</th>\n",
       "      <th>euribor3m</th>\n",
       "      <th>nr.employed</th>\n",
       "      <th>Postal Code</th>\n",
       "      <th>dur_zscore</th>\n",
       "      <th>camp_zscore</th>\n",
       "    </tr>\n",
       "  </thead>\n",
       "  <tbody>\n",
       "    <tr>\n",
       "      <th>0</th>\n",
       "      <td>1</td>\n",
       "      <td>56.000000</td>\n",
       "      <td>services</td>\n",
       "      <td>married</td>\n",
       "      <td>high.school</td>\n",
       "      <td>no</td>\n",
       "      <td>no</td>\n",
       "      <td>yes</td>\n",
       "      <td>3</td>\n",
       "      <td>S1</td>\n",
       "      <td>...</td>\n",
       "      <td>0</td>\n",
       "      <td>no</td>\n",
       "      <td>1.1</td>\n",
       "      <td>93.994</td>\n",
       "      <td>-36.4</td>\n",
       "      <td>4.857</td>\n",
       "      <td>5191.0</td>\n",
       "      <td>42420</td>\n",
       "      <td>0.729330</td>\n",
       "      <td>-0.861073</td>\n",
       "    </tr>\n",
       "    <tr>\n",
       "      <th>1</th>\n",
       "      <td>2</td>\n",
       "      <td>45.000000</td>\n",
       "      <td>services</td>\n",
       "      <td>married</td>\n",
       "      <td>basic.9y</td>\n",
       "      <td>unknown</td>\n",
       "      <td>no</td>\n",
       "      <td>no</td>\n",
       "      <td>3</td>\n",
       "      <td>S1</td>\n",
       "      <td>...</td>\n",
       "      <td>0</td>\n",
       "      <td>no</td>\n",
       "      <td>1.1</td>\n",
       "      <td>93.994</td>\n",
       "      <td>-36.4</td>\n",
       "      <td>4.857</td>\n",
       "      <td>5191.0</td>\n",
       "      <td>42420</td>\n",
       "      <td>-0.067287</td>\n",
       "      <td>-0.861073</td>\n",
       "    </tr>\n",
       "    <tr>\n",
       "      <th>2</th>\n",
       "      <td>3</td>\n",
       "      <td>59.000000</td>\n",
       "      <td>admin.</td>\n",
       "      <td>married</td>\n",
       "      <td>professional.course</td>\n",
       "      <td>no</td>\n",
       "      <td>no</td>\n",
       "      <td>no</td>\n",
       "      <td>4</td>\n",
       "      <td>S2</td>\n",
       "      <td>...</td>\n",
       "      <td>0</td>\n",
       "      <td>no</td>\n",
       "      <td>1.1</td>\n",
       "      <td>93.994</td>\n",
       "      <td>-36.4</td>\n",
       "      <td>4.857</td>\n",
       "      <td>5191.0</td>\n",
       "      <td>90036</td>\n",
       "      <td>-0.498483</td>\n",
       "      <td>-0.861073</td>\n",
       "    </tr>\n",
       "    <tr>\n",
       "      <th>3</th>\n",
       "      <td>4</td>\n",
       "      <td>41.000000</td>\n",
       "      <td>blue-collar</td>\n",
       "      <td>married</td>\n",
       "      <td>unknown</td>\n",
       "      <td>unknown</td>\n",
       "      <td>no</td>\n",
       "      <td>no</td>\n",
       "      <td>3</td>\n",
       "      <td>S3</td>\n",
       "      <td>...</td>\n",
       "      <td>0</td>\n",
       "      <td>no</td>\n",
       "      <td>1.1</td>\n",
       "      <td>93.994</td>\n",
       "      <td>-36.4</td>\n",
       "      <td>4.857</td>\n",
       "      <td>5191.0</td>\n",
       "      <td>33311</td>\n",
       "      <td>0.071573</td>\n",
       "      <td>-0.861073</td>\n",
       "    </tr>\n",
       "    <tr>\n",
       "      <th>4</th>\n",
       "      <td>5</td>\n",
       "      <td>24.000000</td>\n",
       "      <td>technician</td>\n",
       "      <td>single</td>\n",
       "      <td>professional.course</td>\n",
       "      <td>no</td>\n",
       "      <td>yes</td>\n",
       "      <td>no</td>\n",
       "      <td>3</td>\n",
       "      <td>S3</td>\n",
       "      <td>...</td>\n",
       "      <td>0</td>\n",
       "      <td>no</td>\n",
       "      <td>1.1</td>\n",
       "      <td>93.994</td>\n",
       "      <td>-36.4</td>\n",
       "      <td>4.857</td>\n",
       "      <td>5191.0</td>\n",
       "      <td>33311</td>\n",
       "      <td>1.262845</td>\n",
       "      <td>-0.861073</td>\n",
       "    </tr>\n",
       "    <tr>\n",
       "      <th>...</th>\n",
       "      <td>...</td>\n",
       "      <td>...</td>\n",
       "      <td>...</td>\n",
       "      <td>...</td>\n",
       "      <td>...</td>\n",
       "      <td>...</td>\n",
       "      <td>...</td>\n",
       "      <td>...</td>\n",
       "      <td>...</td>\n",
       "      <td>...</td>\n",
       "      <td>...</td>\n",
       "      <td>...</td>\n",
       "      <td>...</td>\n",
       "      <td>...</td>\n",
       "      <td>...</td>\n",
       "      <td>...</td>\n",
       "      <td>...</td>\n",
       "      <td>...</td>\n",
       "      <td>...</td>\n",
       "      <td>...</td>\n",
       "      <td>...</td>\n",
       "    </tr>\n",
       "    <tr>\n",
       "      <th>37079</th>\n",
       "      <td>37080</td>\n",
       "      <td>40.042714</td>\n",
       "      <td>retired</td>\n",
       "      <td>married</td>\n",
       "      <td>professional.course</td>\n",
       "      <td>no</td>\n",
       "      <td>yes</td>\n",
       "      <td>no</td>\n",
       "      <td>2</td>\n",
       "      <td>S16</td>\n",
       "      <td>...</td>\n",
       "      <td>0</td>\n",
       "      <td>yes</td>\n",
       "      <td>-1.1</td>\n",
       "      <td>94.767</td>\n",
       "      <td>-50.8</td>\n",
       "      <td>1.028</td>\n",
       "      <td>4963.6</td>\n",
       "      <td>10009</td>\n",
       "      <td>0.926658</td>\n",
       "      <td>-0.861073</td>\n",
       "    </tr>\n",
       "    <tr>\n",
       "      <th>37080</th>\n",
       "      <td>37081</td>\n",
       "      <td>46.000000</td>\n",
       "      <td>blue-collar</td>\n",
       "      <td>married</td>\n",
       "      <td>professional.course</td>\n",
       "      <td>no</td>\n",
       "      <td>no</td>\n",
       "      <td>no</td>\n",
       "      <td>2</td>\n",
       "      <td>S16</td>\n",
       "      <td>...</td>\n",
       "      <td>0</td>\n",
       "      <td>no</td>\n",
       "      <td>-1.1</td>\n",
       "      <td>94.767</td>\n",
       "      <td>-50.8</td>\n",
       "      <td>1.028</td>\n",
       "      <td>4963.6</td>\n",
       "      <td>10011</td>\n",
       "      <td>1.284770</td>\n",
       "      <td>-0.861073</td>\n",
       "    </tr>\n",
       "    <tr>\n",
       "      <th>37081</th>\n",
       "      <td>37082</td>\n",
       "      <td>56.000000</td>\n",
       "      <td>retired</td>\n",
       "      <td>married</td>\n",
       "      <td>university.degree</td>\n",
       "      <td>no</td>\n",
       "      <td>yes</td>\n",
       "      <td>no</td>\n",
       "      <td>2</td>\n",
       "      <td>S16</td>\n",
       "      <td>...</td>\n",
       "      <td>0</td>\n",
       "      <td>no</td>\n",
       "      <td>-1.1</td>\n",
       "      <td>94.767</td>\n",
       "      <td>-50.8</td>\n",
       "      <td>1.028</td>\n",
       "      <td>4963.6</td>\n",
       "      <td>10009</td>\n",
       "      <td>-0.133062</td>\n",
       "      <td>-0.059118</td>\n",
       "    </tr>\n",
       "    <tr>\n",
       "      <th>37082</th>\n",
       "      <td>37083</td>\n",
       "      <td>44.000000</td>\n",
       "      <td>technician</td>\n",
       "      <td>married</td>\n",
       "      <td>professional.course</td>\n",
       "      <td>no</td>\n",
       "      <td>no</td>\n",
       "      <td>no</td>\n",
       "      <td>4</td>\n",
       "      <td>S17</td>\n",
       "      <td>...</td>\n",
       "      <td>0</td>\n",
       "      <td>yes</td>\n",
       "      <td>-1.1</td>\n",
       "      <td>94.767</td>\n",
       "      <td>-50.8</td>\n",
       "      <td>1.028</td>\n",
       "      <td>4963.6</td>\n",
       "      <td>85254</td>\n",
       "      <td>1.715966</td>\n",
       "      <td>-0.861073</td>\n",
       "    </tr>\n",
       "    <tr>\n",
       "      <th>37083</th>\n",
       "      <td>37084</td>\n",
       "      <td>40.042714</td>\n",
       "      <td>retired</td>\n",
       "      <td>married</td>\n",
       "      <td>professional.course</td>\n",
       "      <td>no</td>\n",
       "      <td>yes</td>\n",
       "      <td>no</td>\n",
       "      <td>1</td>\n",
       "      <td>S6</td>\n",
       "      <td>...</td>\n",
       "      <td>1</td>\n",
       "      <td>no</td>\n",
       "      <td>-1.1</td>\n",
       "      <td>94.767</td>\n",
       "      <td>-50.8</td>\n",
       "      <td>1.028</td>\n",
       "      <td>4963.6</td>\n",
       "      <td>79109</td>\n",
       "      <td>0.232358</td>\n",
       "      <td>0.742837</td>\n",
       "    </tr>\n",
       "  </tbody>\n",
       "</table>\n",
       "<p>37084 rows × 26 columns</p>\n",
       "</div>"
      ],
      "text/plain": [
       "       Customer_id        age          job  marital            education  \\\n",
       "0                1  56.000000     services  married          high.school   \n",
       "1                2  45.000000     services  married             basic.9y   \n",
       "2                3  59.000000       admin.  married  professional.course   \n",
       "3                4  41.000000  blue-collar  married              unknown   \n",
       "4                5  24.000000   technician   single  professional.course   \n",
       "...            ...        ...          ...      ...                  ...   \n",
       "37079        37080  40.042714      retired  married  professional.course   \n",
       "37080        37081  46.000000  blue-collar  married  professional.course   \n",
       "37081        37082  56.000000      retired  married    university.degree   \n",
       "37082        37083  44.000000   technician  married  professional.course   \n",
       "37083        37084  40.042714      retired  married  professional.course   \n",
       "\n",
       "       default housing loan Region_Code State_Code  ... previous    y  \\\n",
       "0           no      no  yes           3         S1  ...        0   no   \n",
       "1      unknown      no   no           3         S1  ...        0   no   \n",
       "2           no      no   no           4         S2  ...        0   no   \n",
       "3      unknown      no   no           3         S3  ...        0   no   \n",
       "4           no     yes   no           3         S3  ...        0   no   \n",
       "...        ...     ...  ...         ...        ...  ...      ...  ...   \n",
       "37079       no     yes   no           2        S16  ...        0  yes   \n",
       "37080       no      no   no           2        S16  ...        0   no   \n",
       "37081       no     yes   no           2        S16  ...        0   no   \n",
       "37082       no      no   no           4        S17  ...        0  yes   \n",
       "37083       no     yes   no           1         S6  ...        1   no   \n",
       "\n",
       "      emp.var.rate cons.price.idx  cons.conf.idx  euribor3m  nr.employed  \\\n",
       "0              1.1         93.994          -36.4      4.857       5191.0   \n",
       "1              1.1         93.994          -36.4      4.857       5191.0   \n",
       "2              1.1         93.994          -36.4      4.857       5191.0   \n",
       "3              1.1         93.994          -36.4      4.857       5191.0   \n",
       "4              1.1         93.994          -36.4      4.857       5191.0   \n",
       "...            ...            ...            ...        ...          ...   \n",
       "37079         -1.1         94.767          -50.8      1.028       4963.6   \n",
       "37080         -1.1         94.767          -50.8      1.028       4963.6   \n",
       "37081         -1.1         94.767          -50.8      1.028       4963.6   \n",
       "37082         -1.1         94.767          -50.8      1.028       4963.6   \n",
       "37083         -1.1         94.767          -50.8      1.028       4963.6   \n",
       "\n",
       "      Postal Code  dur_zscore  camp_zscore  \n",
       "0           42420    0.729330    -0.861073  \n",
       "1           42420   -0.067287    -0.861073  \n",
       "2           90036   -0.498483    -0.861073  \n",
       "3           33311    0.071573    -0.861073  \n",
       "4           33311    1.262845    -0.861073  \n",
       "...           ...         ...          ...  \n",
       "37079       10009    0.926658    -0.861073  \n",
       "37080       10011    1.284770    -0.861073  \n",
       "37081       10009   -0.133062    -0.059118  \n",
       "37082       85254    1.715966    -0.861073  \n",
       "37083       79109    0.232358     0.742837  \n",
       "\n",
       "[37084 rows x 26 columns]"
      ]
     },
     "metadata": {},
     "output_type": "display_data"
    }
   ],
   "source": [
    "from scipy.stats import zscore\n",
    "\n",
    "df['dur_zscore'] = zscore(df['duration'])\n",
    "display(df)"
   ]
  },
  {
   "cell_type": "code",
   "execution_count": 783,
   "id": "98df1570",
   "metadata": {},
   "outputs": [
    {
     "data": {
      "text/html": [
       "<div>\n",
       "<style scoped>\n",
       "    .dataframe tbody tr th:only-of-type {\n",
       "        vertical-align: middle;\n",
       "    }\n",
       "\n",
       "    .dataframe tbody tr th {\n",
       "        vertical-align: top;\n",
       "    }\n",
       "\n",
       "    .dataframe thead th {\n",
       "        text-align: right;\n",
       "    }\n",
       "</style>\n",
       "<table border=\"1\" class=\"dataframe\">\n",
       "  <thead>\n",
       "    <tr style=\"text-align: right;\">\n",
       "      <th></th>\n",
       "      <th>Customer_id</th>\n",
       "      <th>age</th>\n",
       "      <th>job</th>\n",
       "      <th>marital</th>\n",
       "      <th>education</th>\n",
       "      <th>default</th>\n",
       "      <th>housing</th>\n",
       "      <th>loan</th>\n",
       "      <th>Region_Code</th>\n",
       "      <th>State_Code</th>\n",
       "      <th>...</th>\n",
       "      <th>previous</th>\n",
       "      <th>y</th>\n",
       "      <th>emp.var.rate</th>\n",
       "      <th>cons.price.idx</th>\n",
       "      <th>cons.conf.idx</th>\n",
       "      <th>euribor3m</th>\n",
       "      <th>nr.employed</th>\n",
       "      <th>Postal Code</th>\n",
       "      <th>dur_zscore</th>\n",
       "      <th>camp_zscore</th>\n",
       "    </tr>\n",
       "  </thead>\n",
       "  <tbody>\n",
       "    <tr>\n",
       "      <th>0</th>\n",
       "      <td>1</td>\n",
       "      <td>56.000000</td>\n",
       "      <td>services</td>\n",
       "      <td>married</td>\n",
       "      <td>high.school</td>\n",
       "      <td>no</td>\n",
       "      <td>no</td>\n",
       "      <td>yes</td>\n",
       "      <td>3</td>\n",
       "      <td>S1</td>\n",
       "      <td>...</td>\n",
       "      <td>0</td>\n",
       "      <td>no</td>\n",
       "      <td>1.1</td>\n",
       "      <td>93.994</td>\n",
       "      <td>-36.4</td>\n",
       "      <td>4.857</td>\n",
       "      <td>5191.0</td>\n",
       "      <td>42420</td>\n",
       "      <td>0.729330</td>\n",
       "      <td>-0.861073</td>\n",
       "    </tr>\n",
       "    <tr>\n",
       "      <th>1</th>\n",
       "      <td>2</td>\n",
       "      <td>45.000000</td>\n",
       "      <td>services</td>\n",
       "      <td>married</td>\n",
       "      <td>basic.9y</td>\n",
       "      <td>unknown</td>\n",
       "      <td>no</td>\n",
       "      <td>no</td>\n",
       "      <td>3</td>\n",
       "      <td>S1</td>\n",
       "      <td>...</td>\n",
       "      <td>0</td>\n",
       "      <td>no</td>\n",
       "      <td>1.1</td>\n",
       "      <td>93.994</td>\n",
       "      <td>-36.4</td>\n",
       "      <td>4.857</td>\n",
       "      <td>5191.0</td>\n",
       "      <td>42420</td>\n",
       "      <td>-0.067287</td>\n",
       "      <td>-0.861073</td>\n",
       "    </tr>\n",
       "    <tr>\n",
       "      <th>2</th>\n",
       "      <td>3</td>\n",
       "      <td>59.000000</td>\n",
       "      <td>admin.</td>\n",
       "      <td>married</td>\n",
       "      <td>professional.course</td>\n",
       "      <td>no</td>\n",
       "      <td>no</td>\n",
       "      <td>no</td>\n",
       "      <td>4</td>\n",
       "      <td>S2</td>\n",
       "      <td>...</td>\n",
       "      <td>0</td>\n",
       "      <td>no</td>\n",
       "      <td>1.1</td>\n",
       "      <td>93.994</td>\n",
       "      <td>-36.4</td>\n",
       "      <td>4.857</td>\n",
       "      <td>5191.0</td>\n",
       "      <td>90036</td>\n",
       "      <td>-0.498483</td>\n",
       "      <td>-0.861073</td>\n",
       "    </tr>\n",
       "    <tr>\n",
       "      <th>3</th>\n",
       "      <td>4</td>\n",
       "      <td>41.000000</td>\n",
       "      <td>blue-collar</td>\n",
       "      <td>married</td>\n",
       "      <td>unknown</td>\n",
       "      <td>unknown</td>\n",
       "      <td>no</td>\n",
       "      <td>no</td>\n",
       "      <td>3</td>\n",
       "      <td>S3</td>\n",
       "      <td>...</td>\n",
       "      <td>0</td>\n",
       "      <td>no</td>\n",
       "      <td>1.1</td>\n",
       "      <td>93.994</td>\n",
       "      <td>-36.4</td>\n",
       "      <td>4.857</td>\n",
       "      <td>5191.0</td>\n",
       "      <td>33311</td>\n",
       "      <td>0.071573</td>\n",
       "      <td>-0.861073</td>\n",
       "    </tr>\n",
       "    <tr>\n",
       "      <th>4</th>\n",
       "      <td>5</td>\n",
       "      <td>24.000000</td>\n",
       "      <td>technician</td>\n",
       "      <td>single</td>\n",
       "      <td>professional.course</td>\n",
       "      <td>no</td>\n",
       "      <td>yes</td>\n",
       "      <td>no</td>\n",
       "      <td>3</td>\n",
       "      <td>S3</td>\n",
       "      <td>...</td>\n",
       "      <td>0</td>\n",
       "      <td>no</td>\n",
       "      <td>1.1</td>\n",
       "      <td>93.994</td>\n",
       "      <td>-36.4</td>\n",
       "      <td>4.857</td>\n",
       "      <td>5191.0</td>\n",
       "      <td>33311</td>\n",
       "      <td>1.262845</td>\n",
       "      <td>-0.861073</td>\n",
       "    </tr>\n",
       "    <tr>\n",
       "      <th>...</th>\n",
       "      <td>...</td>\n",
       "      <td>...</td>\n",
       "      <td>...</td>\n",
       "      <td>...</td>\n",
       "      <td>...</td>\n",
       "      <td>...</td>\n",
       "      <td>...</td>\n",
       "      <td>...</td>\n",
       "      <td>...</td>\n",
       "      <td>...</td>\n",
       "      <td>...</td>\n",
       "      <td>...</td>\n",
       "      <td>...</td>\n",
       "      <td>...</td>\n",
       "      <td>...</td>\n",
       "      <td>...</td>\n",
       "      <td>...</td>\n",
       "      <td>...</td>\n",
       "      <td>...</td>\n",
       "      <td>...</td>\n",
       "      <td>...</td>\n",
       "    </tr>\n",
       "    <tr>\n",
       "      <th>37079</th>\n",
       "      <td>37080</td>\n",
       "      <td>40.042714</td>\n",
       "      <td>retired</td>\n",
       "      <td>married</td>\n",
       "      <td>professional.course</td>\n",
       "      <td>no</td>\n",
       "      <td>yes</td>\n",
       "      <td>no</td>\n",
       "      <td>2</td>\n",
       "      <td>S16</td>\n",
       "      <td>...</td>\n",
       "      <td>0</td>\n",
       "      <td>yes</td>\n",
       "      <td>-1.1</td>\n",
       "      <td>94.767</td>\n",
       "      <td>-50.8</td>\n",
       "      <td>1.028</td>\n",
       "      <td>4963.6</td>\n",
       "      <td>10009</td>\n",
       "      <td>0.926658</td>\n",
       "      <td>-0.861073</td>\n",
       "    </tr>\n",
       "    <tr>\n",
       "      <th>37080</th>\n",
       "      <td>37081</td>\n",
       "      <td>46.000000</td>\n",
       "      <td>blue-collar</td>\n",
       "      <td>married</td>\n",
       "      <td>professional.course</td>\n",
       "      <td>no</td>\n",
       "      <td>no</td>\n",
       "      <td>no</td>\n",
       "      <td>2</td>\n",
       "      <td>S16</td>\n",
       "      <td>...</td>\n",
       "      <td>0</td>\n",
       "      <td>no</td>\n",
       "      <td>-1.1</td>\n",
       "      <td>94.767</td>\n",
       "      <td>-50.8</td>\n",
       "      <td>1.028</td>\n",
       "      <td>4963.6</td>\n",
       "      <td>10011</td>\n",
       "      <td>1.284770</td>\n",
       "      <td>-0.861073</td>\n",
       "    </tr>\n",
       "    <tr>\n",
       "      <th>37081</th>\n",
       "      <td>37082</td>\n",
       "      <td>56.000000</td>\n",
       "      <td>retired</td>\n",
       "      <td>married</td>\n",
       "      <td>university.degree</td>\n",
       "      <td>no</td>\n",
       "      <td>yes</td>\n",
       "      <td>no</td>\n",
       "      <td>2</td>\n",
       "      <td>S16</td>\n",
       "      <td>...</td>\n",
       "      <td>0</td>\n",
       "      <td>no</td>\n",
       "      <td>-1.1</td>\n",
       "      <td>94.767</td>\n",
       "      <td>-50.8</td>\n",
       "      <td>1.028</td>\n",
       "      <td>4963.6</td>\n",
       "      <td>10009</td>\n",
       "      <td>-0.133062</td>\n",
       "      <td>-0.059118</td>\n",
       "    </tr>\n",
       "    <tr>\n",
       "      <th>37082</th>\n",
       "      <td>37083</td>\n",
       "      <td>44.000000</td>\n",
       "      <td>technician</td>\n",
       "      <td>married</td>\n",
       "      <td>professional.course</td>\n",
       "      <td>no</td>\n",
       "      <td>no</td>\n",
       "      <td>no</td>\n",
       "      <td>4</td>\n",
       "      <td>S17</td>\n",
       "      <td>...</td>\n",
       "      <td>0</td>\n",
       "      <td>yes</td>\n",
       "      <td>-1.1</td>\n",
       "      <td>94.767</td>\n",
       "      <td>-50.8</td>\n",
       "      <td>1.028</td>\n",
       "      <td>4963.6</td>\n",
       "      <td>85254</td>\n",
       "      <td>1.715966</td>\n",
       "      <td>-0.861073</td>\n",
       "    </tr>\n",
       "    <tr>\n",
       "      <th>37083</th>\n",
       "      <td>37084</td>\n",
       "      <td>40.042714</td>\n",
       "      <td>retired</td>\n",
       "      <td>married</td>\n",
       "      <td>professional.course</td>\n",
       "      <td>no</td>\n",
       "      <td>yes</td>\n",
       "      <td>no</td>\n",
       "      <td>1</td>\n",
       "      <td>S6</td>\n",
       "      <td>...</td>\n",
       "      <td>1</td>\n",
       "      <td>no</td>\n",
       "      <td>-1.1</td>\n",
       "      <td>94.767</td>\n",
       "      <td>-50.8</td>\n",
       "      <td>1.028</td>\n",
       "      <td>4963.6</td>\n",
       "      <td>79109</td>\n",
       "      <td>0.232358</td>\n",
       "      <td>0.742837</td>\n",
       "    </tr>\n",
       "  </tbody>\n",
       "</table>\n",
       "<p>37084 rows × 26 columns</p>\n",
       "</div>"
      ],
      "text/plain": [
       "       Customer_id        age          job  marital            education  \\\n",
       "0                1  56.000000     services  married          high.school   \n",
       "1                2  45.000000     services  married             basic.9y   \n",
       "2                3  59.000000       admin.  married  professional.course   \n",
       "3                4  41.000000  blue-collar  married              unknown   \n",
       "4                5  24.000000   technician   single  professional.course   \n",
       "...            ...        ...          ...      ...                  ...   \n",
       "37079        37080  40.042714      retired  married  professional.course   \n",
       "37080        37081  46.000000  blue-collar  married  professional.course   \n",
       "37081        37082  56.000000      retired  married    university.degree   \n",
       "37082        37083  44.000000   technician  married  professional.course   \n",
       "37083        37084  40.042714      retired  married  professional.course   \n",
       "\n",
       "       default housing loan Region_Code State_Code  ... previous    y  \\\n",
       "0           no      no  yes           3         S1  ...        0   no   \n",
       "1      unknown      no   no           3         S1  ...        0   no   \n",
       "2           no      no   no           4         S2  ...        0   no   \n",
       "3      unknown      no   no           3         S3  ...        0   no   \n",
       "4           no     yes   no           3         S3  ...        0   no   \n",
       "...        ...     ...  ...         ...        ...  ...      ...  ...   \n",
       "37079       no     yes   no           2        S16  ...        0  yes   \n",
       "37080       no      no   no           2        S16  ...        0   no   \n",
       "37081       no     yes   no           2        S16  ...        0   no   \n",
       "37082       no      no   no           4        S17  ...        0  yes   \n",
       "37083       no     yes   no           1         S6  ...        1   no   \n",
       "\n",
       "      emp.var.rate cons.price.idx  cons.conf.idx  euribor3m  nr.employed  \\\n",
       "0              1.1         93.994          -36.4      4.857       5191.0   \n",
       "1              1.1         93.994          -36.4      4.857       5191.0   \n",
       "2              1.1         93.994          -36.4      4.857       5191.0   \n",
       "3              1.1         93.994          -36.4      4.857       5191.0   \n",
       "4              1.1         93.994          -36.4      4.857       5191.0   \n",
       "...            ...            ...            ...        ...          ...   \n",
       "37079         -1.1         94.767          -50.8      1.028       4963.6   \n",
       "37080         -1.1         94.767          -50.8      1.028       4963.6   \n",
       "37081         -1.1         94.767          -50.8      1.028       4963.6   \n",
       "37082         -1.1         94.767          -50.8      1.028       4963.6   \n",
       "37083         -1.1         94.767          -50.8      1.028       4963.6   \n",
       "\n",
       "      Postal Code  dur_zscore  camp_zscore  \n",
       "0           42420    0.729330    -0.861073  \n",
       "1           42420   -0.067287    -0.861073  \n",
       "2           90036   -0.498483    -0.861073  \n",
       "3           33311    0.071573    -0.861073  \n",
       "4           33311    1.262845    -0.861073  \n",
       "...           ...         ...          ...  \n",
       "37079       10009    0.926658    -0.861073  \n",
       "37080       10011    1.284770    -0.861073  \n",
       "37081       10009   -0.133062    -0.059118  \n",
       "37082       85254    1.715966    -0.861073  \n",
       "37083       79109    0.232358     0.742837  \n",
       "\n",
       "[37084 rows x 26 columns]"
      ]
     },
     "metadata": {},
     "output_type": "display_data"
    }
   ],
   "source": [
    "df['camp_zscore'] = zscore(df['campaign'])\n",
    "display(df)"
   ]
  },
  {
   "cell_type": "markdown",
   "id": "01eff77b",
   "metadata": {},
   "source": [
    "#### Scaling we'll get to know only during ML Model implementation (accuracy and all)"
   ]
  },
  {
   "cell_type": "code",
   "execution_count": 784,
   "id": "9f57c014",
   "metadata": {},
   "outputs": [
    {
     "data": {
      "text/html": [
       "<div>\n",
       "<style scoped>\n",
       "    .dataframe tbody tr th:only-of-type {\n",
       "        vertical-align: middle;\n",
       "    }\n",
       "\n",
       "    .dataframe tbody tr th {\n",
       "        vertical-align: top;\n",
       "    }\n",
       "\n",
       "    .dataframe thead th {\n",
       "        text-align: right;\n",
       "    }\n",
       "</style>\n",
       "<table border=\"1\" class=\"dataframe\">\n",
       "  <thead>\n",
       "    <tr style=\"text-align: right;\">\n",
       "      <th></th>\n",
       "      <th>Customer_id</th>\n",
       "      <th>age</th>\n",
       "      <th>duration</th>\n",
       "      <th>campaign</th>\n",
       "      <th>previous</th>\n",
       "      <th>emp.var.rate</th>\n",
       "      <th>cons.price.idx</th>\n",
       "      <th>cons.conf.idx</th>\n",
       "      <th>euribor3m</th>\n",
       "      <th>nr.employed</th>\n",
       "      <th>Postal Code</th>\n",
       "      <th>dur_zscore</th>\n",
       "      <th>camp_zscore</th>\n",
       "    </tr>\n",
       "  </thead>\n",
       "  <tbody>\n",
       "    <tr>\n",
       "      <th>count</th>\n",
       "      <td>37084.000000</td>\n",
       "      <td>37084.000000</td>\n",
       "      <td>37084.000000</td>\n",
       "      <td>37084.000000</td>\n",
       "      <td>37084.000000</td>\n",
       "      <td>37084.000000</td>\n",
       "      <td>37084.000000</td>\n",
       "      <td>37084.000000</td>\n",
       "      <td>37084.000000</td>\n",
       "      <td>37084.000000</td>\n",
       "      <td>37084.000000</td>\n",
       "      <td>3.708400e+04</td>\n",
       "      <td>3.708400e+04</td>\n",
       "    </tr>\n",
       "    <tr>\n",
       "      <th>mean</th>\n",
       "      <td>18542.500000</td>\n",
       "      <td>39.615342</td>\n",
       "      <td>0.321251</td>\n",
       "      <td>2.073717</td>\n",
       "      <td>0.172986</td>\n",
       "      <td>0.082669</td>\n",
       "      <td>93.576076</td>\n",
       "      <td>-40.505183</td>\n",
       "      <td>3.621668</td>\n",
       "      <td>5167.058664</td>\n",
       "      <td>55202.625553</td>\n",
       "      <td>4.233743e-16</td>\n",
       "      <td>-1.215529e-14</td>\n",
       "    </tr>\n",
       "    <tr>\n",
       "      <th>std</th>\n",
       "      <td>10705.373028</td>\n",
       "      <td>9.616864</td>\n",
       "      <td>0.212140</td>\n",
       "      <td>1.246969</td>\n",
       "      <td>0.495681</td>\n",
       "      <td>1.568997</td>\n",
       "      <td>0.578493</td>\n",
       "      <td>4.622045</td>\n",
       "      <td>1.733972</td>\n",
       "      <td>72.196605</td>\n",
       "      <td>32057.300954</td>\n",
       "      <td>1.000013e+00</td>\n",
       "      <td>1.000013e+00</td>\n",
       "    </tr>\n",
       "    <tr>\n",
       "      <th>min</th>\n",
       "      <td>1.000000</td>\n",
       "      <td>17.000000</td>\n",
       "      <td>0.000000</td>\n",
       "      <td>1.000000</td>\n",
       "      <td>0.000000</td>\n",
       "      <td>-3.400000</td>\n",
       "      <td>92.201000</td>\n",
       "      <td>-50.800000</td>\n",
       "      <td>0.634000</td>\n",
       "      <td>4963.600000</td>\n",
       "      <td>1040.000000</td>\n",
       "      <td>-1.514353e+00</td>\n",
       "      <td>-8.610733e-01</td>\n",
       "    </tr>\n",
       "    <tr>\n",
       "      <th>25%</th>\n",
       "      <td>9271.750000</td>\n",
       "      <td>32.000000</td>\n",
       "      <td>0.158140</td>\n",
       "      <td>1.000000</td>\n",
       "      <td>0.000000</td>\n",
       "      <td>-1.800000</td>\n",
       "      <td>93.075000</td>\n",
       "      <td>-42.700000</td>\n",
       "      <td>1.344000</td>\n",
       "      <td>5099.100000</td>\n",
       "      <td>23223.000000</td>\n",
       "      <td>-7.688945e-01</td>\n",
       "      <td>-8.610733e-01</td>\n",
       "    </tr>\n",
       "    <tr>\n",
       "      <th>50%</th>\n",
       "      <td>18542.500000</td>\n",
       "      <td>38.000000</td>\n",
       "      <td>0.279070</td>\n",
       "      <td>2.000000</td>\n",
       "      <td>0.000000</td>\n",
       "      <td>1.100000</td>\n",
       "      <td>93.749000</td>\n",
       "      <td>-41.800000</td>\n",
       "      <td>4.857000</td>\n",
       "      <td>5191.000000</td>\n",
       "      <td>56301.000000</td>\n",
       "      <td>-1.988382e-01</td>\n",
       "      <td>-5.911800e-02</td>\n",
       "    </tr>\n",
       "    <tr>\n",
       "      <th>75%</th>\n",
       "      <td>27813.250000</td>\n",
       "      <td>47.000000</td>\n",
       "      <td>0.410853</td>\n",
       "      <td>3.000000</td>\n",
       "      <td>0.000000</td>\n",
       "      <td>1.400000</td>\n",
       "      <td>93.994000</td>\n",
       "      <td>-36.400000</td>\n",
       "      <td>4.961000</td>\n",
       "      <td>5228.100000</td>\n",
       "      <td>90008.000000</td>\n",
       "      <td>4.223770e-01</td>\n",
       "      <td>7.428373e-01</td>\n",
       "    </tr>\n",
       "    <tr>\n",
       "      <th>max</th>\n",
       "      <td>37084.000000</td>\n",
       "      <td>69.000000</td>\n",
       "      <td>1.000000</td>\n",
       "      <td>6.000000</td>\n",
       "      <td>7.000000</td>\n",
       "      <td>1.400000</td>\n",
       "      <td>94.767000</td>\n",
       "      <td>-26.900000</td>\n",
       "      <td>5.045000</td>\n",
       "      <td>5228.100000</td>\n",
       "      <td>99301.000000</td>\n",
       "      <td>3.199575e+00</td>\n",
       "      <td>3.148703e+00</td>\n",
       "    </tr>\n",
       "  </tbody>\n",
       "</table>\n",
       "</div>"
      ],
      "text/plain": [
       "        Customer_id           age      duration      campaign      previous  \\\n",
       "count  37084.000000  37084.000000  37084.000000  37084.000000  37084.000000   \n",
       "mean   18542.500000     39.615342      0.321251      2.073717      0.172986   \n",
       "std    10705.373028      9.616864      0.212140      1.246969      0.495681   \n",
       "min        1.000000     17.000000      0.000000      1.000000      0.000000   \n",
       "25%     9271.750000     32.000000      0.158140      1.000000      0.000000   \n",
       "50%    18542.500000     38.000000      0.279070      2.000000      0.000000   \n",
       "75%    27813.250000     47.000000      0.410853      3.000000      0.000000   \n",
       "max    37084.000000     69.000000      1.000000      6.000000      7.000000   \n",
       "\n",
       "       emp.var.rate  cons.price.idx  cons.conf.idx     euribor3m  \\\n",
       "count  37084.000000    37084.000000   37084.000000  37084.000000   \n",
       "mean       0.082669       93.576076     -40.505183      3.621668   \n",
       "std        1.568997        0.578493       4.622045      1.733972   \n",
       "min       -3.400000       92.201000     -50.800000      0.634000   \n",
       "25%       -1.800000       93.075000     -42.700000      1.344000   \n",
       "50%        1.100000       93.749000     -41.800000      4.857000   \n",
       "75%        1.400000       93.994000     -36.400000      4.961000   \n",
       "max        1.400000       94.767000     -26.900000      5.045000   \n",
       "\n",
       "        nr.employed   Postal Code    dur_zscore   camp_zscore  \n",
       "count  37084.000000  37084.000000  3.708400e+04  3.708400e+04  \n",
       "mean    5167.058664  55202.625553  4.233743e-16 -1.215529e-14  \n",
       "std       72.196605  32057.300954  1.000013e+00  1.000013e+00  \n",
       "min     4963.600000   1040.000000 -1.514353e+00 -8.610733e-01  \n",
       "25%     5099.100000  23223.000000 -7.688945e-01 -8.610733e-01  \n",
       "50%     5191.000000  56301.000000 -1.988382e-01 -5.911800e-02  \n",
       "75%     5228.100000  90008.000000  4.223770e-01  7.428373e-01  \n",
       "max     5228.100000  99301.000000  3.199575e+00  3.148703e+00  "
      ]
     },
     "execution_count": 784,
     "metadata": {},
     "output_type": "execute_result"
    }
   ],
   "source": [
    "df.describe()"
   ]
  },
  {
   "cell_type": "code",
   "execution_count": 787,
   "id": "fc762610",
   "metadata": {},
   "outputs": [
    {
     "data": {
      "text/plain": [
       " 1.4    14598\n",
       "-1.8     8295\n",
       " 1.1     7000\n",
       "-0.1     3329\n",
       "-2.9     1484\n",
       "-3.4      948\n",
       "-1.7      696\n",
       "-1.1      568\n",
       "-3.0      157\n",
       "-0.2        9\n",
       "Name: emp.var.rate, dtype: int64"
      ]
     },
     "execution_count": 787,
     "metadata": {},
     "output_type": "execute_result"
    }
   ],
   "source": [
    "df['emp.var.rate'].value_counts()"
   ]
  },
  {
   "cell_type": "markdown",
   "id": "82b5eb08",
   "metadata": {},
   "source": [
    "## Data Transformation"
   ]
  },
  {
   "cell_type": "code",
   "execution_count": null,
   "id": "a527dcef",
   "metadata": {},
   "outputs": [],
   "source": []
  }
 ],
 "metadata": {
  "kernelspec": {
   "display_name": "Python 3",
   "language": "python",
   "name": "python3"
  },
  "language_info": {
   "codemirror_mode": {
    "name": "ipython",
    "version": 3
   },
   "file_extension": ".py",
   "mimetype": "text/x-python",
   "name": "python",
   "nbconvert_exporter": "python",
   "pygments_lexer": "ipython3",
   "version": "3.8.8"
  }
 },
 "nbformat": 4,
 "nbformat_minor": 5
}
