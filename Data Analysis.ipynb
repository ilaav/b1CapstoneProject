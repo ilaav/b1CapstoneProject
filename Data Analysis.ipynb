{
 "cells": [
  {
   "cell_type": "code",
   "execution_count": 71,
   "id": "dfdf1749",
   "metadata": {},
   "outputs": [],
   "source": [
    "#Importing required libraries\n",
    "import pandas as pd\n",
    "import numpy as np\n",
    "import seaborn as sns\n",
    "import matplotlib as plt"
   ]
  },
  {
   "cell_type": "code",
   "execution_count": 72,
   "id": "1f74862e",
   "metadata": {},
   "outputs": [],
   "source": [
    "#Importing required dataset\n",
    "city_master = pd.read_csv('City_Master.csv')\n",
    "cust_and_bank_det = pd.read_csv('Customer_and_bank details_p1.csv')\n",
    "cust_camp_det = pd.read_csv('Customer_campaign_details_p1.csv')\n",
    "cust_post_code_det = pd.read_csv('Customer_Postal_Code_details.csv')\n",
    "cust_resp_data = pd.read_csv('Customer_Response_data_p1.csv')\n",
    "cust_social_eco_data = pd.read_csv('Customer_social_economic_data_p1.csv')\n",
    "reg_code_master = pd.read_csv('Region_code_master.csv')\n",
    "state_master = pd.read_csv('State_Master.csv')"
   ]
  },
  {
   "cell_type": "markdown",
   "id": "c2f9aec0",
   "metadata": {},
   "source": [
    "# Analysis of Percentage Turnout of Marketing Campaign"
   ]
  },
  {
   "cell_type": "code",
   "execution_count": 73,
   "id": "2f90ffbe",
   "metadata": {},
   "outputs": [],
   "source": [
    "#Perform Task 1.1 i.e. join customer response data with customer campaign data\n",
    "df1 = pd.merge(cust_resp_data, cust_camp_det, on='Customer_id', how='outer')"
   ]
  },
  {
   "cell_type": "code",
   "execution_count": 74,
   "id": "05f816eb",
   "metadata": {},
   "outputs": [
    {
     "name": "stdout",
     "output_type": "stream",
     "text": [
      "       Customer_id    y    contact month day_of_week  duration  campaign  \\\n",
      "0                1   no  telephone   may         mon       307         1   \n",
      "1                2   no  telephone   may         mon       198         1   \n",
      "2                3   no  telephone   may         mon       139         1   \n",
      "3                4   no  telephone   may         mon       217         1   \n",
      "4                5   no  telephone   may         mon       380         1   \n",
      "...            ...  ...        ...   ...         ...       ...       ...   \n",
      "37079        37080  yes   cellular   nov         fri       334         1   \n",
      "37080        37081   no   cellular   nov         fri       383         1   \n",
      "37081        37082   no   cellular   nov         fri       189         2   \n",
      "37082        37083  yes   cellular   nov         fri       442         1   \n",
      "37083        37084   no   cellular   nov         fri       239         3   \n",
      "\n",
      "       pdays  previous     poutcome  \n",
      "0        999         0  nonexistent  \n",
      "1        999         0  nonexistent  \n",
      "2        999         0  nonexistent  \n",
      "3        999         0  nonexistent  \n",
      "4        999         0  nonexistent  \n",
      "...      ...       ...          ...  \n",
      "37079    999         0  nonexistent  \n",
      "37080    999         0  nonexistent  \n",
      "37081    999         0  nonexistent  \n",
      "37082    999         0  nonexistent  \n",
      "37083    999         1      failure  \n",
      "\n",
      "[37084 rows x 10 columns]\n"
     ]
    }
   ],
   "source": [
    "#Display the joined dataset\n",
    "print(df1)"
   ]
  },
  {
   "cell_type": "code",
   "execution_count": 75,
   "id": "cc7bee9b",
   "metadata": {},
   "outputs": [
    {
     "data": {
      "text/plain": [
       "<AxesSubplot:title={'center':'Customer Response'}>"
      ]
     },
     "metadata": {},
     "output_type": "display_data"
    },
    {
     "data": {
      "image/png": "[encoded data removed]",
      "text/plain": [
       "<Figure size 432x288 with 1 Axes>"
      ]
     },
     "metadata": {},
     "output_type": "display_data"
    }
   ],
   "source": [
    "#Visualising the response of the customers using pie chart\n",
    "response = df1['y'].value_counts()\n",
    "display(response.plot.pie(y='y', autopct='%1.1f%%', label=\"\", title=\"Customer Response\", legend=True))"
   ]
  },
  {
   "cell_type": "code",
   "execution_count": 76,
   "id": "d3c86681",
   "metadata": {},
   "outputs": [
    {
     "data": {
      "text/plain": [
       "<AxesSubplot:>"
      ]
     },
     "metadata": {},
     "output_type": "display_data"
    },
    {
     "data": {
      "image/png": "[encoded data removed]",
      "text/plain": [
       "<Figure size 432x288 with 1 Axes>"
      ]
     },
     "metadata": {
      "needs_background": "light"
     },
     "output_type": "display_data"
    }
   ],
   "source": [
    "#Visualising the response of the customers using bar chart\n",
    "display(response.plot.bar(y='y', legend=True))"
   ]
  },
  {
   "cell_type": "markdown",
   "id": "aad1907e",
   "metadata": {},
   "source": [
    "# Right mode to Contact the Customers (Telephone or Cellular)"
   ]
  },
  {
   "cell_type": "code",
   "execution_count": 77,
   "id": "e6b97188",
   "metadata": {},
   "outputs": [
    {
     "name": "stdout",
     "output_type": "stream",
     "text": [
      "cellular     23522\n",
      "telephone    13562\n",
      "Name: contact, dtype: int64\n"
     ]
    },
    {
     "data": {
      "text/plain": [
       "<AxesSubplot:title={'center':'Mode of Contact'}, ylabel='contact'>"
      ]
     },
     "metadata": {},
     "output_type": "display_data"
    },
    {
     "data": {
      "image/png": "[encoded data removed]",
      "text/plain": [
       "<Figure size 432x288 with 1 Axes>"
      ]
     },
     "metadata": {},
     "output_type": "display_data"
    }
   ],
   "source": [
    "#visualising the mode of contacting the customers [cellular vs telephone]\n",
    "resp_contact = df1['contact'].value_counts()\n",
    "print(resp_contact)\n",
    "display(resp_contact.plot.pie(autopct='%1.1f%%', title=\"Mode of Contact\"))"
   ]
  },
  {
   "cell_type": "raw",
   "id": "abd8ceee",
   "metadata": {},
   "source": [
    "# Filtering the customers who were contacted via telephone and responded 'yes'"
   ]
  },
  {
   "cell_type": "code",
   "execution_count": 78,
   "id": "96daac26",
   "metadata": {},
   "outputs": [],
   "source": [
    "tel_yes = df1[[\"contact\", \"y\"]].loc[(df1[\"contact\"] == \"telephone\") & (df1[\"y\"]==\"yes\")]"
   ]
  },
  {
   "cell_type": "raw",
   "id": "b6ed07a0",
   "metadata": {},
   "source": [
    "# Filtering the customers who were contacted via telephone and responded 'No'"
   ]
  },
  {
   "cell_type": "code",
   "execution_count": 79,
   "id": "c0880a27",
   "metadata": {},
   "outputs": [],
   "source": [
    "tel_no = df1[[\"contact\", \"y\"]].loc[(df1[\"contact\"] == \"telephone\") & (df1[\"y\"]==\"no\")]"
   ]
  },
  {
   "cell_type": "code",
   "execution_count": 80,
   "id": "a4b9bc49",
   "metadata": {},
   "outputs": [],
   "source": [
    "tel =  df1[[\"contact\", \"y\"]].loc[(df1[\"contact\"] == \"telephone\")]"
   ]
  },
  {
   "cell_type": "code",
   "execution_count": 81,
   "id": "2a1a99d2",
   "metadata": {},
   "outputs": [
    {
     "data": {
      "text/plain": [
       "<AxesSubplot:ylabel='None'>"
      ]
     },
     "execution_count": 81,
     "metadata": {},
     "output_type": "execute_result"
    },
    {
     "data": {
      "image/png": "[encoded data removed]",
      "text/plain": [
       "<Figure size 432x288 with 1 Axes>"
      ]
     },
     "metadata": {},
     "output_type": "display_data"
    }
   ],
   "source": [
    "tel.groupby('y').size().plot.pie(autopct='%1.1f%%')"
   ]
  },
  {
   "cell_type": "raw",
   "id": "36a2747e",
   "metadata": {},
   "source": [
    "# Filtering the customers who were contacted via cellular and responded 'yes'"
   ]
  },
  {
   "cell_type": "code",
   "execution_count": 82,
   "id": "fc95d5e9",
   "metadata": {},
   "outputs": [],
   "source": [
    "cellular =  df1[[\"contact\", \"y\"]].loc[(df1[\"contact\"] == \"cellular\")]"
   ]
  },
  {
   "cell_type": "code",
   "execution_count": 83,
   "id": "38461d3e",
   "metadata": {},
   "outputs": [
    {
     "data": {
      "text/plain": [
       "<AxesSubplot:ylabel='None'>"
      ]
     },
     "execution_count": 83,
     "metadata": {},
     "output_type": "execute_result"
    },
    {
     "data": {
      "image/png": "[encoded data removed]",
      "text/plain": [
       "<Figure size 432x288 with 1 Axes>"
      ]
     },
     "metadata": {},
     "output_type": "display_data"
    }
   ],
   "source": [
    "cellular.groupby('y').size().plot.pie(autopct='%1.1f%%')"
   ]
  },
  {
   "cell_type": "code",
   "execution_count": 84,
   "id": "71a3dbdc",
   "metadata": {},
   "outputs": [],
   "source": [
    "#df_telephone = df1.groupby('contact').sum()\n",
    "df_telephone = df1.groupby(['contact', 'y'])['Customer_id'].sum().unstack().fillna(0)"
   ]
  },
  {
   "cell_type": "code",
   "execution_count": 85,
   "id": "be16c6cd",
   "metadata": {},
   "outputs": [
    {
     "data": {
      "text/html": [
       "<div>\n",
       "<style scoped>\n",
       "    .dataframe tbody tr th:only-of-type {\n",
       "        vertical-align: middle;\n",
       "    }\n",
       "\n",
       "    .dataframe tbody tr th {\n",
       "        vertical-align: top;\n",
       "    }\n",
       "\n",
       "    .dataframe thead th {\n",
       "        text-align: right;\n",
       "    }\n",
       "</style>\n",
       "<table border=\"1\" class=\"dataframe\">\n",
       "  <thead>\n",
       "    <tr style=\"text-align: right;\">\n",
       "      <th>y</th>\n",
       "      <th>no</th>\n",
       "      <th>yes</th>\n",
       "    </tr>\n",
       "    <tr>\n",
       "      <th>contact</th>\n",
       "      <th></th>\n",
       "      <th></th>\n",
       "    </tr>\n",
       "  </thead>\n",
       "  <tbody>\n",
       "    <tr>\n",
       "      <th>cellular</th>\n",
       "      <td>462322021</td>\n",
       "      <td>103075236</td>\n",
       "    </tr>\n",
       "    <tr>\n",
       "      <th>telephone</th>\n",
       "      <td>110253323</td>\n",
       "      <td>11979490</td>\n",
       "    </tr>\n",
       "  </tbody>\n",
       "</table>\n",
       "</div>"
      ],
      "text/plain": [
       "y                 no        yes\n",
       "contact                        \n",
       "cellular   462322021  103075236\n",
       "telephone  110253323   11979490"
      ]
     },
     "execution_count": 85,
     "metadata": {},
     "output_type": "execute_result"
    }
   ],
   "source": [
    "df_telephone"
   ]
  },
  {
   "cell_type": "code",
   "execution_count": 86,
   "id": "3331851b",
   "metadata": {},
   "outputs": [
    {
     "data": {
      "text/plain": [
       "<AxesSubplot:xlabel='contact'>"
      ]
     },
     "execution_count": 86,
     "metadata": {},
     "output_type": "execute_result"
    },
    {
     "data": {
      "image/png": "[encoded data removed]",
      "text/plain": [
       "<Figure size 432x288 with 1 Axes>"
      ]
     },
     "metadata": {
      "needs_background": "light"
     },
     "output_type": "display_data"
    }
   ],
   "source": [
    "df_telephone.plot(kind='bar', stacked=True)"
   ]
  },
  {
   "cell_type": "markdown",
   "id": "0e819ad8",
   "metadata": {},
   "source": [
    "OMMGG YAAYY! We did it!!"
   ]
  },
  {
   "cell_type": "markdown",
   "id": "ef5cfc07",
   "metadata": {},
   "source": [
    "# Analysis on attempts made to turn a person into successful depositor"
   ]
  },
  {
   "cell_type": "code",
   "execution_count": 87,
   "id": "6e160277",
   "metadata": {},
   "outputs": [
    {
     "data": {
      "text/html": [
       "<div>\n",
       "<style scoped>\n",
       "    .dataframe tbody tr th:only-of-type {\n",
       "        vertical-align: middle;\n",
       "    }\n",
       "\n",
       "    .dataframe tbody tr th {\n",
       "        vertical-align: top;\n",
       "    }\n",
       "\n",
       "    .dataframe thead th {\n",
       "        text-align: right;\n",
       "    }\n",
       "</style>\n",
       "<table border=\"1\" class=\"dataframe\">\n",
       "  <thead>\n",
       "    <tr style=\"text-align: right;\">\n",
       "      <th></th>\n",
       "      <th>Customer_id</th>\n",
       "      <th>y</th>\n",
       "      <th>contact</th>\n",
       "      <th>month</th>\n",
       "      <th>day_of_week</th>\n",
       "      <th>duration</th>\n",
       "      <th>campaign</th>\n",
       "      <th>pdays</th>\n",
       "      <th>previous</th>\n",
       "      <th>poutcome</th>\n",
       "    </tr>\n",
       "  </thead>\n",
       "  <tbody>\n",
       "    <tr>\n",
       "      <th>0</th>\n",
       "      <td>1</td>\n",
       "      <td>no</td>\n",
       "      <td>telephone</td>\n",
       "      <td>may</td>\n",
       "      <td>mon</td>\n",
       "      <td>307</td>\n",
       "      <td>1</td>\n",
       "      <td>999</td>\n",
       "      <td>0</td>\n",
       "      <td>nonexistent</td>\n",
       "    </tr>\n",
       "    <tr>\n",
       "      <th>1</th>\n",
       "      <td>2</td>\n",
       "      <td>no</td>\n",
       "      <td>telephone</td>\n",
       "      <td>may</td>\n",
       "      <td>mon</td>\n",
       "      <td>198</td>\n",
       "      <td>1</td>\n",
       "      <td>999</td>\n",
       "      <td>0</td>\n",
       "      <td>nonexistent</td>\n",
       "    </tr>\n",
       "    <tr>\n",
       "      <th>2</th>\n",
       "      <td>3</td>\n",
       "      <td>no</td>\n",
       "      <td>telephone</td>\n",
       "      <td>may</td>\n",
       "      <td>mon</td>\n",
       "      <td>139</td>\n",
       "      <td>1</td>\n",
       "      <td>999</td>\n",
       "      <td>0</td>\n",
       "      <td>nonexistent</td>\n",
       "    </tr>\n",
       "    <tr>\n",
       "      <th>3</th>\n",
       "      <td>4</td>\n",
       "      <td>no</td>\n",
       "      <td>telephone</td>\n",
       "      <td>may</td>\n",
       "      <td>mon</td>\n",
       "      <td>217</td>\n",
       "      <td>1</td>\n",
       "      <td>999</td>\n",
       "      <td>0</td>\n",
       "      <td>nonexistent</td>\n",
       "    </tr>\n",
       "    <tr>\n",
       "      <th>4</th>\n",
       "      <td>5</td>\n",
       "      <td>no</td>\n",
       "      <td>telephone</td>\n",
       "      <td>may</td>\n",
       "      <td>mon</td>\n",
       "      <td>380</td>\n",
       "      <td>1</td>\n",
       "      <td>999</td>\n",
       "      <td>0</td>\n",
       "      <td>nonexistent</td>\n",
       "    </tr>\n",
       "    <tr>\n",
       "      <th>...</th>\n",
       "      <td>...</td>\n",
       "      <td>...</td>\n",
       "      <td>...</td>\n",
       "      <td>...</td>\n",
       "      <td>...</td>\n",
       "      <td>...</td>\n",
       "      <td>...</td>\n",
       "      <td>...</td>\n",
       "      <td>...</td>\n",
       "      <td>...</td>\n",
       "    </tr>\n",
       "    <tr>\n",
       "      <th>37079</th>\n",
       "      <td>37080</td>\n",
       "      <td>yes</td>\n",
       "      <td>cellular</td>\n",
       "      <td>nov</td>\n",
       "      <td>fri</td>\n",
       "      <td>334</td>\n",
       "      <td>1</td>\n",
       "      <td>999</td>\n",
       "      <td>0</td>\n",
       "      <td>nonexistent</td>\n",
       "    </tr>\n",
       "    <tr>\n",
       "      <th>37080</th>\n",
       "      <td>37081</td>\n",
       "      <td>no</td>\n",
       "      <td>cellular</td>\n",
       "      <td>nov</td>\n",
       "      <td>fri</td>\n",
       "      <td>383</td>\n",
       "      <td>1</td>\n",
       "      <td>999</td>\n",
       "      <td>0</td>\n",
       "      <td>nonexistent</td>\n",
       "    </tr>\n",
       "    <tr>\n",
       "      <th>37081</th>\n",
       "      <td>37082</td>\n",
       "      <td>no</td>\n",
       "      <td>cellular</td>\n",
       "      <td>nov</td>\n",
       "      <td>fri</td>\n",
       "      <td>189</td>\n",
       "      <td>2</td>\n",
       "      <td>999</td>\n",
       "      <td>0</td>\n",
       "      <td>nonexistent</td>\n",
       "    </tr>\n",
       "    <tr>\n",
       "      <th>37082</th>\n",
       "      <td>37083</td>\n",
       "      <td>yes</td>\n",
       "      <td>cellular</td>\n",
       "      <td>nov</td>\n",
       "      <td>fri</td>\n",
       "      <td>442</td>\n",
       "      <td>1</td>\n",
       "      <td>999</td>\n",
       "      <td>0</td>\n",
       "      <td>nonexistent</td>\n",
       "    </tr>\n",
       "    <tr>\n",
       "      <th>37083</th>\n",
       "      <td>37084</td>\n",
       "      <td>no</td>\n",
       "      <td>cellular</td>\n",
       "      <td>nov</td>\n",
       "      <td>fri</td>\n",
       "      <td>239</td>\n",
       "      <td>3</td>\n",
       "      <td>999</td>\n",
       "      <td>1</td>\n",
       "      <td>failure</td>\n",
       "    </tr>\n",
       "  </tbody>\n",
       "</table>\n",
       "<p>37084 rows × 10 columns</p>\n",
       "</div>"
      ],
      "text/plain": [
       "       Customer_id    y    contact month day_of_week  duration  campaign  \\\n",
       "0                1   no  telephone   may         mon       307         1   \n",
       "1                2   no  telephone   may         mon       198         1   \n",
       "2                3   no  telephone   may         mon       139         1   \n",
       "3                4   no  telephone   may         mon       217         1   \n",
       "4                5   no  telephone   may         mon       380         1   \n",
       "...            ...  ...        ...   ...         ...       ...       ...   \n",
       "37079        37080  yes   cellular   nov         fri       334         1   \n",
       "37080        37081   no   cellular   nov         fri       383         1   \n",
       "37081        37082   no   cellular   nov         fri       189         2   \n",
       "37082        37083  yes   cellular   nov         fri       442         1   \n",
       "37083        37084   no   cellular   nov         fri       239         3   \n",
       "\n",
       "       pdays  previous     poutcome  \n",
       "0        999         0  nonexistent  \n",
       "1        999         0  nonexistent  \n",
       "2        999         0  nonexistent  \n",
       "3        999         0  nonexistent  \n",
       "4        999         0  nonexistent  \n",
       "...      ...       ...          ...  \n",
       "37079    999         0  nonexistent  \n",
       "37080    999         0  nonexistent  \n",
       "37081    999         0  nonexistent  \n",
       "37082    999         0  nonexistent  \n",
       "37083    999         1      failure  \n",
       "\n",
       "[37084 rows x 10 columns]"
      ]
     },
     "execution_count": 87,
     "metadata": {},
     "output_type": "execute_result"
    }
   ],
   "source": [
    "df1"
   ]
  },
  {
   "cell_type": "code",
   "execution_count": 88,
   "id": "8a8736d3",
   "metadata": {},
   "outputs": [
    {
     "data": {
      "text/html": [
       "<div>\n",
       "<style scoped>\n",
       "    .dataframe tbody tr th:only-of-type {\n",
       "        vertical-align: middle;\n",
       "    }\n",
       "\n",
       "    .dataframe tbody tr th {\n",
       "        vertical-align: top;\n",
       "    }\n",
       "\n",
       "    .dataframe thead th {\n",
       "        text-align: right;\n",
       "    }\n",
       "</style>\n",
       "<table border=\"1\" class=\"dataframe\">\n",
       "  <thead>\n",
       "    <tr style=\"text-align: right;\">\n",
       "      <th></th>\n",
       "      <th>Customer_id</th>\n",
       "      <th>y</th>\n",
       "      <th>contact</th>\n",
       "      <th>month</th>\n",
       "      <th>day_of_week</th>\n",
       "      <th>duration</th>\n",
       "      <th>campaign</th>\n",
       "      <th>pdays</th>\n",
       "      <th>previous</th>\n",
       "      <th>poutcome</th>\n",
       "    </tr>\n",
       "  </thead>\n",
       "  <tbody>\n",
       "    <tr>\n",
       "      <th>0</th>\n",
       "      <td>1</td>\n",
       "      <td>no</td>\n",
       "      <td>telephone</td>\n",
       "      <td>may</td>\n",
       "      <td>mon</td>\n",
       "      <td>307</td>\n",
       "      <td>1</td>\n",
       "      <td>999</td>\n",
       "      <td>0</td>\n",
       "      <td>nonexistent</td>\n",
       "    </tr>\n",
       "    <tr>\n",
       "      <th>1</th>\n",
       "      <td>2</td>\n",
       "      <td>no</td>\n",
       "      <td>telephone</td>\n",
       "      <td>may</td>\n",
       "      <td>mon</td>\n",
       "      <td>198</td>\n",
       "      <td>1</td>\n",
       "      <td>999</td>\n",
       "      <td>0</td>\n",
       "      <td>nonexistent</td>\n",
       "    </tr>\n",
       "    <tr>\n",
       "      <th>2</th>\n",
       "      <td>3</td>\n",
       "      <td>no</td>\n",
       "      <td>telephone</td>\n",
       "      <td>may</td>\n",
       "      <td>mon</td>\n",
       "      <td>139</td>\n",
       "      <td>1</td>\n",
       "      <td>999</td>\n",
       "      <td>0</td>\n",
       "      <td>nonexistent</td>\n",
       "    </tr>\n",
       "    <tr>\n",
       "      <th>3</th>\n",
       "      <td>4</td>\n",
       "      <td>no</td>\n",
       "      <td>telephone</td>\n",
       "      <td>may</td>\n",
       "      <td>mon</td>\n",
       "      <td>217</td>\n",
       "      <td>1</td>\n",
       "      <td>999</td>\n",
       "      <td>0</td>\n",
       "      <td>nonexistent</td>\n",
       "    </tr>\n",
       "    <tr>\n",
       "      <th>4</th>\n",
       "      <td>5</td>\n",
       "      <td>no</td>\n",
       "      <td>telephone</td>\n",
       "      <td>may</td>\n",
       "      <td>mon</td>\n",
       "      <td>380</td>\n",
       "      <td>1</td>\n",
       "      <td>999</td>\n",
       "      <td>0</td>\n",
       "      <td>nonexistent</td>\n",
       "    </tr>\n",
       "    <tr>\n",
       "      <th>...</th>\n",
       "      <td>...</td>\n",
       "      <td>...</td>\n",
       "      <td>...</td>\n",
       "      <td>...</td>\n",
       "      <td>...</td>\n",
       "      <td>...</td>\n",
       "      <td>...</td>\n",
       "      <td>...</td>\n",
       "      <td>...</td>\n",
       "      <td>...</td>\n",
       "    </tr>\n",
       "    <tr>\n",
       "      <th>37079</th>\n",
       "      <td>37080</td>\n",
       "      <td>yes</td>\n",
       "      <td>cellular</td>\n",
       "      <td>nov</td>\n",
       "      <td>fri</td>\n",
       "      <td>334</td>\n",
       "      <td>1</td>\n",
       "      <td>999</td>\n",
       "      <td>0</td>\n",
       "      <td>nonexistent</td>\n",
       "    </tr>\n",
       "    <tr>\n",
       "      <th>37080</th>\n",
       "      <td>37081</td>\n",
       "      <td>no</td>\n",
       "      <td>cellular</td>\n",
       "      <td>nov</td>\n",
       "      <td>fri</td>\n",
       "      <td>383</td>\n",
       "      <td>1</td>\n",
       "      <td>999</td>\n",
       "      <td>0</td>\n",
       "      <td>nonexistent</td>\n",
       "    </tr>\n",
       "    <tr>\n",
       "      <th>37081</th>\n",
       "      <td>37082</td>\n",
       "      <td>no</td>\n",
       "      <td>cellular</td>\n",
       "      <td>nov</td>\n",
       "      <td>fri</td>\n",
       "      <td>189</td>\n",
       "      <td>2</td>\n",
       "      <td>999</td>\n",
       "      <td>0</td>\n",
       "      <td>nonexistent</td>\n",
       "    </tr>\n",
       "    <tr>\n",
       "      <th>37082</th>\n",
       "      <td>37083</td>\n",
       "      <td>yes</td>\n",
       "      <td>cellular</td>\n",
       "      <td>nov</td>\n",
       "      <td>fri</td>\n",
       "      <td>442</td>\n",
       "      <td>1</td>\n",
       "      <td>999</td>\n",
       "      <td>0</td>\n",
       "      <td>nonexistent</td>\n",
       "    </tr>\n",
       "    <tr>\n",
       "      <th>37083</th>\n",
       "      <td>37084</td>\n",
       "      <td>no</td>\n",
       "      <td>cellular</td>\n",
       "      <td>nov</td>\n",
       "      <td>fri</td>\n",
       "      <td>239</td>\n",
       "      <td>3</td>\n",
       "      <td>999</td>\n",
       "      <td>1</td>\n",
       "      <td>failure</td>\n",
       "    </tr>\n",
       "  </tbody>\n",
       "</table>\n",
       "<p>35845 rows × 10 columns</p>\n",
       "</div>"
      ],
      "text/plain": [
       "       Customer_id    y    contact month day_of_week  duration  campaign  \\\n",
       "0                1   no  telephone   may         mon       307         1   \n",
       "1                2   no  telephone   may         mon       198         1   \n",
       "2                3   no  telephone   may         mon       139         1   \n",
       "3                4   no  telephone   may         mon       217         1   \n",
       "4                5   no  telephone   may         mon       380         1   \n",
       "...            ...  ...        ...   ...         ...       ...       ...   \n",
       "37079        37080  yes   cellular   nov         fri       334         1   \n",
       "37080        37081   no   cellular   nov         fri       383         1   \n",
       "37081        37082   no   cellular   nov         fri       189         2   \n",
       "37082        37083  yes   cellular   nov         fri       442         1   \n",
       "37083        37084   no   cellular   nov         fri       239         3   \n",
       "\n",
       "       pdays  previous     poutcome  \n",
       "0        999         0  nonexistent  \n",
       "1        999         0  nonexistent  \n",
       "2        999         0  nonexistent  \n",
       "3        999         0  nonexistent  \n",
       "4        999         0  nonexistent  \n",
       "...      ...       ...          ...  \n",
       "37079    999         0  nonexistent  \n",
       "37080    999         0  nonexistent  \n",
       "37081    999         0  nonexistent  \n",
       "37082    999         0  nonexistent  \n",
       "37083    999         1      failure  \n",
       "\n",
       "[35845 rows x 10 columns]"
      ]
     },
     "execution_count": 88,
     "metadata": {},
     "output_type": "execute_result"
    }
   ],
   "source": [
    "fail = df1[(df1['poutcome']==\"failure\")|(df1['poutcome']==\"nonexistent\")]\n",
    "fail"
   ]
  },
  {
   "cell_type": "code",
   "execution_count": 89,
   "id": "b8e9da4e",
   "metadata": {},
   "outputs": [
    {
     "data": {
      "text/plain": [
       "35845"
      ]
     },
     "execution_count": 89,
     "metadata": {},
     "output_type": "execute_result"
    }
   ],
   "source": [
    "#Count of all rows in poutcome\n",
    "f=fail.poutcome.count()\n",
    "f"
   ]
  },
  {
   "cell_type": "markdown",
   "id": "0c1c281d",
   "metadata": {},
   "source": [
    "Analysis based on 'previous' - number of contacts performed before this campaign and for this client "
   ]
  },
  {
   "cell_type": "code",
   "execution_count": 90,
   "id": "33329e31",
   "metadata": {},
   "outputs": [],
   "source": [
    "attempt_prev =  df1[[\"y\", \"previous\"]].loc[(df1[\"y\"] == \"yes\")]"
   ]
  },
  {
   "cell_type": "code",
   "execution_count": 91,
   "id": "c0cd1182",
   "metadata": {},
   "outputs": [
    {
     "data": {
      "text/plain": [
       "<AxesSubplot:ylabel='None'>"
      ]
     },
     "execution_count": 91,
     "metadata": {},
     "output_type": "execute_result"
    },
    {
     "data": {
      "image/png": "[encoded data removed]",
      "text/plain": [
       "<Figure size 432x288 with 1 Axes>"
      ]
     },
     "metadata": {},
     "output_type": "display_data"
    }
   ],
   "source": [
    "attempt_prev.groupby('previous').size().plot.pie(autopct='%1.1f%%')"
   ]
  },
  {
   "cell_type": "markdown",
   "id": "65b81c47",
   "metadata": {},
   "source": [
    "No. of yes in 1st attempt - 67.6%\n",
    "No. of yes in 2nd attempt - 20.9% and so on."
   ]
  },
  {
   "cell_type": "markdown",
   "id": "9c625dfb",
   "metadata": {},
   "source": [
    "NOTE: How to do +1? How to merge 3,4,5, so on...?"
   ]
  },
  {
   "cell_type": "markdown",
   "id": "5e3e4a70",
   "metadata": {},
   "source": [
    "-----------------------------------------------------------------------------------------------------------------"
   ]
  },
  {
   "cell_type": "markdown",
   "id": "8312e1a2",
   "metadata": {},
   "source": [
    "Analysis based on 'campaign' - number of contacts performed during this campaign and for this client (includes last contact)"
   ]
  },
  {
   "cell_type": "code",
   "execution_count": 92,
   "id": "71a8ade2",
   "metadata": {},
   "outputs": [],
   "source": [
    "attempt_camp =  df1[[\"y\", \"campaign\"]].loc[(df1[\"y\"] == \"yes\")]"
   ]
  },
  {
   "cell_type": "code",
   "execution_count": 93,
   "id": "5f9bac23",
   "metadata": {},
   "outputs": [
    {
     "data": {
      "text/plain": [
       "<AxesSubplot:ylabel='Number of Attempts'>"
      ]
     },
     "execution_count": 93,
     "metadata": {},
     "output_type": "execute_result"
    },
    {
     "data": {
      "image/png": "[encoded data removed]",
      "text/plain": [
       "<Figure size 432x288 with 1 Axes>"
      ]
     },
     "metadata": {},
     "output_type": "display_data"
    }
   ],
   "source": [
    "attempt_camp.groupby('campaign').size().plot.pie(label='Number of Attempts', autopct='%1.1f%%')"
   ]
  },
  {
   "cell_type": "markdown",
   "id": "ff5a6859",
   "metadata": {},
   "source": [
    "This is actual imp graph. Shows no. of contacts DURING THIS campaign. "
   ]
  },
  {
   "cell_type": "markdown",
   "id": "634409c7",
   "metadata": {},
   "source": [
    "More than 5 attempts, how to combine?"
   ]
  },
  {
   "cell_type": "code",
   "execution_count": 94,
   "id": "e296df05",
   "metadata": {},
   "outputs": [
    {
     "data": {
      "text/html": [
       "<div>\n",
       "<style scoped>\n",
       "    .dataframe tbody tr th:only-of-type {\n",
       "        vertical-align: middle;\n",
       "    }\n",
       "\n",
       "    .dataframe tbody tr th {\n",
       "        vertical-align: top;\n",
       "    }\n",
       "\n",
       "    .dataframe thead th {\n",
       "        text-align: right;\n",
       "    }\n",
       "</style>\n",
       "<table border=\"1\" class=\"dataframe\">\n",
       "  <thead>\n",
       "    <tr style=\"text-align: right;\">\n",
       "      <th>y</th>\n",
       "      <th>no</th>\n",
       "      <th>yes</th>\n",
       "    </tr>\n",
       "    <tr>\n",
       "      <th>campaign</th>\n",
       "      <th></th>\n",
       "      <th></th>\n",
       "    </tr>\n",
       "  </thead>\n",
       "  <tbody>\n",
       "    <tr>\n",
       "      <th>1</th>\n",
       "      <td>250374330.0</td>\n",
       "      <td>59652602.0</td>\n",
       "    </tr>\n",
       "    <tr>\n",
       "      <th>2</th>\n",
       "      <td>145096649.0</td>\n",
       "      <td>29903290.0</td>\n",
       "    </tr>\n",
       "    <tr>\n",
       "      <th>3</th>\n",
       "      <td>70778413.0</td>\n",
       "      <td>13480649.0</td>\n",
       "    </tr>\n",
       "    <tr>\n",
       "      <th>4</th>\n",
       "      <td>36323381.0</td>\n",
       "      <td>5952494.0</td>\n",
       "    </tr>\n",
       "    <tr>\n",
       "      <th>5</th>\n",
       "      <td>23325487.0</td>\n",
       "      <td>2691778.0</td>\n",
       "    </tr>\n",
       "    <tr>\n",
       "      <th>6</th>\n",
       "      <td>13957954.0</td>\n",
       "      <td>1519961.0</td>\n",
       "    </tr>\n",
       "    <tr>\n",
       "      <th>7</th>\n",
       "      <td>9452767.0</td>\n",
       "      <td>786416.0</td>\n",
       "    </tr>\n",
       "    <tr>\n",
       "      <th>8</th>\n",
       "      <td>5956827.0</td>\n",
       "      <td>287710.0</td>\n",
       "    </tr>\n",
       "    <tr>\n",
       "      <th>9</th>\n",
       "      <td>3975457.0</td>\n",
       "      <td>198837.0</td>\n",
       "    </tr>\n",
       "    <tr>\n",
       "      <th>10</th>\n",
       "      <td>2720864.0</td>\n",
       "      <td>220120.0</td>\n",
       "    </tr>\n",
       "    <tr>\n",
       "      <th>11</th>\n",
       "      <td>2387258.0</td>\n",
       "      <td>167525.0</td>\n",
       "    </tr>\n",
       "    <tr>\n",
       "      <th>12</th>\n",
       "      <td>1654252.0</td>\n",
       "      <td>33140.0</td>\n",
       "    </tr>\n",
       "    <tr>\n",
       "      <th>13</th>\n",
       "      <td>1221819.0</td>\n",
       "      <td>58641.0</td>\n",
       "    </tr>\n",
       "    <tr>\n",
       "      <th>14</th>\n",
       "      <td>821030.0</td>\n",
       "      <td>16548.0</td>\n",
       "    </tr>\n",
       "    <tr>\n",
       "      <th>15</th>\n",
       "      <td>564152.0</td>\n",
       "      <td>14496.0</td>\n",
       "    </tr>\n",
       "    <tr>\n",
       "      <th>16</th>\n",
       "      <td>552769.0</td>\n",
       "      <td>0.0</td>\n",
       "    </tr>\n",
       "    <tr>\n",
       "      <th>17</th>\n",
       "      <td>614160.0</td>\n",
       "      <td>67632.0</td>\n",
       "    </tr>\n",
       "    <tr>\n",
       "      <th>18</th>\n",
       "      <td>396601.0</td>\n",
       "      <td>0.0</td>\n",
       "    </tr>\n",
       "    <tr>\n",
       "      <th>19</th>\n",
       "      <td>295803.0</td>\n",
       "      <td>0.0</td>\n",
       "    </tr>\n",
       "    <tr>\n",
       "      <th>20</th>\n",
       "      <td>368612.0</td>\n",
       "      <td>0.0</td>\n",
       "    </tr>\n",
       "    <tr>\n",
       "      <th>21</th>\n",
       "      <td>306072.0</td>\n",
       "      <td>0.0</td>\n",
       "    </tr>\n",
       "    <tr>\n",
       "      <th>22</th>\n",
       "      <td>177415.0</td>\n",
       "      <td>0.0</td>\n",
       "    </tr>\n",
       "    <tr>\n",
       "      <th>23</th>\n",
       "      <td>179353.0</td>\n",
       "      <td>2887.0</td>\n",
       "    </tr>\n",
       "    <tr>\n",
       "      <th>24</th>\n",
       "      <td>189515.0</td>\n",
       "      <td>0.0</td>\n",
       "    </tr>\n",
       "    <tr>\n",
       "      <th>25</th>\n",
       "      <td>69964.0</td>\n",
       "      <td>0.0</td>\n",
       "    </tr>\n",
       "    <tr>\n",
       "      <th>26</th>\n",
       "      <td>69610.0</td>\n",
       "      <td>0.0</td>\n",
       "    </tr>\n",
       "    <tr>\n",
       "      <th>27</th>\n",
       "      <td>119129.0</td>\n",
       "      <td>0.0</td>\n",
       "    </tr>\n",
       "    <tr>\n",
       "      <th>28</th>\n",
       "      <td>85072.0</td>\n",
       "      <td>0.0</td>\n",
       "    </tr>\n",
       "    <tr>\n",
       "      <th>29</th>\n",
       "      <td>107792.0</td>\n",
       "      <td>0.0</td>\n",
       "    </tr>\n",
       "    <tr>\n",
       "      <th>30</th>\n",
       "      <td>83549.0</td>\n",
       "      <td>0.0</td>\n",
       "    </tr>\n",
       "    <tr>\n",
       "      <th>31</th>\n",
       "      <td>76891.0</td>\n",
       "      <td>0.0</td>\n",
       "    </tr>\n",
       "    <tr>\n",
       "      <th>32</th>\n",
       "      <td>36594.0</td>\n",
       "      <td>0.0</td>\n",
       "    </tr>\n",
       "    <tr>\n",
       "      <th>33</th>\n",
       "      <td>61714.0</td>\n",
       "      <td>0.0</td>\n",
       "    </tr>\n",
       "    <tr>\n",
       "      <th>34</th>\n",
       "      <td>44354.0</td>\n",
       "      <td>0.0</td>\n",
       "    </tr>\n",
       "    <tr>\n",
       "      <th>35</th>\n",
       "      <td>41703.0</td>\n",
       "      <td>0.0</td>\n",
       "    </tr>\n",
       "    <tr>\n",
       "      <th>37</th>\n",
       "      <td>10458.0</td>\n",
       "      <td>0.0</td>\n",
       "    </tr>\n",
       "    <tr>\n",
       "      <th>39</th>\n",
       "      <td>3697.0</td>\n",
       "      <td>0.0</td>\n",
       "    </tr>\n",
       "    <tr>\n",
       "      <th>40</th>\n",
       "      <td>27496.0</td>\n",
       "      <td>0.0</td>\n",
       "    </tr>\n",
       "    <tr>\n",
       "      <th>41</th>\n",
       "      <td>9964.0</td>\n",
       "      <td>0.0</td>\n",
       "    </tr>\n",
       "    <tr>\n",
       "      <th>42</th>\n",
       "      <td>3748.0</td>\n",
       "      <td>0.0</td>\n",
       "    </tr>\n",
       "    <tr>\n",
       "      <th>43</th>\n",
       "      <td>28979.0</td>\n",
       "      <td>0.0</td>\n",
       "    </tr>\n",
       "    <tr>\n",
       "      <th>56</th>\n",
       "      <td>3690.0</td>\n",
       "      <td>0.0</td>\n",
       "    </tr>\n",
       "  </tbody>\n",
       "</table>\n",
       "</div>"
      ],
      "text/plain": [
       "y                  no         yes\n",
       "campaign                         \n",
       "1         250374330.0  59652602.0\n",
       "2         145096649.0  29903290.0\n",
       "3          70778413.0  13480649.0\n",
       "4          36323381.0   5952494.0\n",
       "5          23325487.0   2691778.0\n",
       "6          13957954.0   1519961.0\n",
       "7           9452767.0    786416.0\n",
       "8           5956827.0    287710.0\n",
       "9           3975457.0    198837.0\n",
       "10          2720864.0    220120.0\n",
       "11          2387258.0    167525.0\n",
       "12          1654252.0     33140.0\n",
       "13          1221819.0     58641.0\n",
       "14           821030.0     16548.0\n",
       "15           564152.0     14496.0\n",
       "16           552769.0         0.0\n",
       "17           614160.0     67632.0\n",
       "18           396601.0         0.0\n",
       "19           295803.0         0.0\n",
       "20           368612.0         0.0\n",
       "21           306072.0         0.0\n",
       "22           177415.0         0.0\n",
       "23           179353.0      2887.0\n",
       "24           189515.0         0.0\n",
       "25            69964.0         0.0\n",
       "26            69610.0         0.0\n",
       "27           119129.0         0.0\n",
       "28            85072.0         0.0\n",
       "29           107792.0         0.0\n",
       "30            83549.0         0.0\n",
       "31            76891.0         0.0\n",
       "32            36594.0         0.0\n",
       "33            61714.0         0.0\n",
       "34            44354.0         0.0\n",
       "35            41703.0         0.0\n",
       "37            10458.0         0.0\n",
       "39             3697.0         0.0\n",
       "40            27496.0         0.0\n",
       "41             9964.0         0.0\n",
       "42             3748.0         0.0\n",
       "43            28979.0         0.0\n",
       "56             3690.0         0.0"
      ]
     },
     "execution_count": 94,
     "metadata": {},
     "output_type": "execute_result"
    }
   ],
   "source": [
    "att_camp = df1.groupby(['campaign', 'y'])['Customer_id'].sum().unstack().fillna(0)\n",
    "att_camp"
   ]
  },
  {
   "cell_type": "code",
   "execution_count": 95,
   "id": "6cb2aa49",
   "metadata": {},
   "outputs": [
    {
     "data": {
      "text/plain": [
       "<AxesSubplot:xlabel='campaign'>"
      ]
     },
     "execution_count": 95,
     "metadata": {},
     "output_type": "execute_result"
    },
    {
     "data": {
      "image/png": "[encoded data removed]",
      "text/plain": [
       "<Figure size 432x288 with 1 Axes>"
      ]
     },
     "metadata": {
      "needs_background": "light"
     },
     "output_type": "display_data"
    }
   ],
   "source": [
    "att_camp.plot(kind='bar', stacked=True)"
   ]
  },
  {
   "cell_type": "markdown",
   "id": "bcf90c24",
   "metadata": {},
   "source": [
    "Okay, this is funny, but I tried lol. Not gonna use this, ofc"
   ]
  },
  {
   "cell_type": "code",
   "execution_count": 96,
   "id": "fadfaf2e",
   "metadata": {},
   "outputs": [],
   "source": [
    "attempt_pout =  df1[[\"y\", \"poutcome\"]].loc[(df1[\"y\"] == \"yes\")]"
   ]
  },
  {
   "cell_type": "code",
   "execution_count": 97,
   "id": "ddc045f7",
   "metadata": {},
   "outputs": [
    {
     "data": {
      "text/plain": [
       "<AxesSubplot:ylabel='Number of Attempts'>"
      ]
     },
     "execution_count": 97,
     "metadata": {},
     "output_type": "execute_result"
    },
    {
     "data": {
      "image/png": "[encoded data removed]",
      "text/plain": [
       "<Figure size 432x288 with 1 Axes>"
      ]
     },
     "metadata": {},
     "output_type": "display_data"
    }
   ],
   "source": [
    "attempt_pout.groupby('poutcome').size().plot.pie(label='Number of Attempts', autopct='%1.1f%%')"
   ]
  },
  {
   "cell_type": "markdown",
   "id": "284a0180",
   "metadata": {},
   "source": [
    "Shows how many got converted/continued depositing. Don't know if it's imp or not"
   ]
  },
  {
   "cell_type": "markdown",
   "id": "57bc451f",
   "metadata": {},
   "source": [
    "# Personal Data Analysis"
   ]
  },
  {
   "cell_type": "code",
   "execution_count": 98,
   "id": "002a962e",
   "metadata": {},
   "outputs": [],
   "source": [
    "#Join customer response data with customer & bank details\n",
    "df4 = pd.merge(cust_resp_data, cust_and_bank_det, on='Customer_id', how='outer')"
   ]
  },
  {
   "cell_type": "code",
   "execution_count": 99,
   "id": "d28bb06d",
   "metadata": {},
   "outputs": [
    {
     "data": {
      "text/html": [
       "<div>\n",
       "<style scoped>\n",
       "    .dataframe tbody tr th:only-of-type {\n",
       "        vertical-align: middle;\n",
       "    }\n",
       "\n",
       "    .dataframe tbody tr th {\n",
       "        vertical-align: top;\n",
       "    }\n",
       "\n",
       "    .dataframe thead th {\n",
       "        text-align: right;\n",
       "    }\n",
       "</style>\n",
       "<table border=\"1\" class=\"dataframe\">\n",
       "  <thead>\n",
       "    <tr style=\"text-align: right;\">\n",
       "      <th></th>\n",
       "      <th>Customer_id</th>\n",
       "      <th>y</th>\n",
       "      <th>age</th>\n",
       "      <th>job</th>\n",
       "      <th>marital</th>\n",
       "      <th>education</th>\n",
       "      <th>default</th>\n",
       "      <th>housing</th>\n",
       "      <th>loan</th>\n",
       "      <th>Region_Code</th>\n",
       "      <th>State_Code</th>\n",
       "      <th>City_Code</th>\n",
       "    </tr>\n",
       "  </thead>\n",
       "  <tbody>\n",
       "    <tr>\n",
       "      <th>0</th>\n",
       "      <td>1</td>\n",
       "      <td>no</td>\n",
       "      <td>56</td>\n",
       "      <td>services</td>\n",
       "      <td>married</td>\n",
       "      <td>high.school</td>\n",
       "      <td>no</td>\n",
       "      <td>no</td>\n",
       "      <td>yes</td>\n",
       "      <td>3</td>\n",
       "      <td>S1</td>\n",
       "      <td>C1</td>\n",
       "    </tr>\n",
       "    <tr>\n",
       "      <th>1</th>\n",
       "      <td>2</td>\n",
       "      <td>no</td>\n",
       "      <td>45</td>\n",
       "      <td>services</td>\n",
       "      <td>married</td>\n",
       "      <td>basic.9y</td>\n",
       "      <td>unknown</td>\n",
       "      <td>no</td>\n",
       "      <td>no</td>\n",
       "      <td>3</td>\n",
       "      <td>S1</td>\n",
       "      <td>C1</td>\n",
       "    </tr>\n",
       "    <tr>\n",
       "      <th>2</th>\n",
       "      <td>3</td>\n",
       "      <td>no</td>\n",
       "      <td>59</td>\n",
       "      <td>admin.</td>\n",
       "      <td>married</td>\n",
       "      <td>professional.course</td>\n",
       "      <td>no</td>\n",
       "      <td>no</td>\n",
       "      <td>no</td>\n",
       "      <td>4</td>\n",
       "      <td>S2</td>\n",
       "      <td>C2</td>\n",
       "    </tr>\n",
       "    <tr>\n",
       "      <th>3</th>\n",
       "      <td>4</td>\n",
       "      <td>no</td>\n",
       "      <td>41</td>\n",
       "      <td>blue-collar</td>\n",
       "      <td>married</td>\n",
       "      <td>unknown</td>\n",
       "      <td>unknown</td>\n",
       "      <td>no</td>\n",
       "      <td>no</td>\n",
       "      <td>3</td>\n",
       "      <td>S3</td>\n",
       "      <td>C3</td>\n",
       "    </tr>\n",
       "    <tr>\n",
       "      <th>4</th>\n",
       "      <td>5</td>\n",
       "      <td>no</td>\n",
       "      <td>24</td>\n",
       "      <td>technician</td>\n",
       "      <td>single</td>\n",
       "      <td>professional.course</td>\n",
       "      <td>no</td>\n",
       "      <td>yes</td>\n",
       "      <td>no</td>\n",
       "      <td>3</td>\n",
       "      <td>S3</td>\n",
       "      <td>C3</td>\n",
       "    </tr>\n",
       "    <tr>\n",
       "      <th>...</th>\n",
       "      <td>...</td>\n",
       "      <td>...</td>\n",
       "      <td>...</td>\n",
       "      <td>...</td>\n",
       "      <td>...</td>\n",
       "      <td>...</td>\n",
       "      <td>...</td>\n",
       "      <td>...</td>\n",
       "      <td>...</td>\n",
       "      <td>...</td>\n",
       "      <td>...</td>\n",
       "      <td>...</td>\n",
       "    </tr>\n",
       "    <tr>\n",
       "      <th>37079</th>\n",
       "      <td>37080</td>\n",
       "      <td>yes</td>\n",
       "      <td>73</td>\n",
       "      <td>retired</td>\n",
       "      <td>married</td>\n",
       "      <td>professional.course</td>\n",
       "      <td>no</td>\n",
       "      <td>yes</td>\n",
       "      <td>no</td>\n",
       "      <td>2</td>\n",
       "      <td>S16</td>\n",
       "      <td>C21</td>\n",
       "    </tr>\n",
       "    <tr>\n",
       "      <th>37080</th>\n",
       "      <td>37081</td>\n",
       "      <td>no</td>\n",
       "      <td>46</td>\n",
       "      <td>blue-collar</td>\n",
       "      <td>married</td>\n",
       "      <td>professional.course</td>\n",
       "      <td>no</td>\n",
       "      <td>no</td>\n",
       "      <td>no</td>\n",
       "      <td>2</td>\n",
       "      <td>S16</td>\n",
       "      <td>C21</td>\n",
       "    </tr>\n",
       "    <tr>\n",
       "      <th>37081</th>\n",
       "      <td>37082</td>\n",
       "      <td>no</td>\n",
       "      <td>56</td>\n",
       "      <td>retired</td>\n",
       "      <td>married</td>\n",
       "      <td>university.degree</td>\n",
       "      <td>no</td>\n",
       "      <td>yes</td>\n",
       "      <td>no</td>\n",
       "      <td>2</td>\n",
       "      <td>S16</td>\n",
       "      <td>C21</td>\n",
       "    </tr>\n",
       "    <tr>\n",
       "      <th>37082</th>\n",
       "      <td>37083</td>\n",
       "      <td>yes</td>\n",
       "      <td>44</td>\n",
       "      <td>technician</td>\n",
       "      <td>married</td>\n",
       "      <td>professional.course</td>\n",
       "      <td>no</td>\n",
       "      <td>no</td>\n",
       "      <td>no</td>\n",
       "      <td>4</td>\n",
       "      <td>S17</td>\n",
       "      <td>C49</td>\n",
       "    </tr>\n",
       "    <tr>\n",
       "      <th>37083</th>\n",
       "      <td>37084</td>\n",
       "      <td>no</td>\n",
       "      <td>74</td>\n",
       "      <td>retired</td>\n",
       "      <td>married</td>\n",
       "      <td>professional.course</td>\n",
       "      <td>no</td>\n",
       "      <td>yes</td>\n",
       "      <td>no</td>\n",
       "      <td>1</td>\n",
       "      <td>S6</td>\n",
       "      <td>C113</td>\n",
       "    </tr>\n",
       "  </tbody>\n",
       "</table>\n",
       "<p>37084 rows × 12 columns</p>\n",
       "</div>"
      ],
      "text/plain": [
       "       Customer_id    y  age          job  marital            education  \\\n",
       "0                1   no   56     services  married          high.school   \n",
       "1                2   no   45     services  married             basic.9y   \n",
       "2                3   no   59       admin.  married  professional.course   \n",
       "3                4   no   41  blue-collar  married              unknown   \n",
       "4                5   no   24   technician   single  professional.course   \n",
       "...            ...  ...  ...          ...      ...                  ...   \n",
       "37079        37080  yes   73      retired  married  professional.course   \n",
       "37080        37081   no   46  blue-collar  married  professional.course   \n",
       "37081        37082   no   56      retired  married    university.degree   \n",
       "37082        37083  yes   44   technician  married  professional.course   \n",
       "37083        37084   no   74      retired  married  professional.course   \n",
       "\n",
       "       default housing loan Region_Code State_Code City_Code  \n",
       "0           no      no  yes           3         S1        C1  \n",
       "1      unknown      no   no           3         S1        C1  \n",
       "2           no      no   no           4         S2        C2  \n",
       "3      unknown      no   no           3         S3        C3  \n",
       "4           no     yes   no           3         S3        C3  \n",
       "...        ...     ...  ...         ...        ...       ...  \n",
       "37079       no     yes   no           2        S16       C21  \n",
       "37080       no      no   no           2        S16       C21  \n",
       "37081       no     yes   no           2        S16       C21  \n",
       "37082       no      no   no           4        S17       C49  \n",
       "37083       no     yes   no           1         S6      C113  \n",
       "\n",
       "[37084 rows x 12 columns]"
      ]
     },
     "execution_count": 99,
     "metadata": {},
     "output_type": "execute_result"
    }
   ],
   "source": [
    "df4"
   ]
  },
  {
   "cell_type": "code",
   "execution_count": 100,
   "id": "1a6360e3",
   "metadata": {},
   "outputs": [],
   "source": [
    "#loan analysis\n",
    "loan_analyse =  df4[[\"loan\", \"y\"]].loc[(df4[\"loan\"] == \"no\")]"
   ]
  },
  {
   "cell_type": "code",
   "execution_count": 101,
   "id": "850d736b",
   "metadata": {},
   "outputs": [
    {
     "data": {
      "text/plain": [
       "<AxesSubplot:ylabel='Response'>"
      ]
     },
     "execution_count": 101,
     "metadata": {},
     "output_type": "execute_result"
    },
    {
     "data": {
      "image/png": "[encoded data removed]",
      "text/plain": [
       "<Figure size 432x288 with 1 Axes>"
      ]
     },
     "metadata": {},
     "output_type": "display_data"
    }
   ],
   "source": [
    "loan_analyse.groupby('y').size().plot.pie(label='Response', autopct='%1.1f%%')"
   ]
  },
  {
   "cell_type": "code",
   "execution_count": 102,
   "id": "8698aaf3",
   "metadata": {},
   "outputs": [],
   "source": [
    "#loan analysis\n",
    "loan_analyse =  df4[[\"loan\", \"y\"]].loc[(df4[\"loan\"] == \"yes\")]"
   ]
  },
  {
   "cell_type": "code",
   "execution_count": 103,
   "id": "05258a3a",
   "metadata": {},
   "outputs": [
    {
     "data": {
      "text/plain": [
       "<AxesSubplot:ylabel='Response'>"
      ]
     },
     "execution_count": 103,
     "metadata": {},
     "output_type": "execute_result"
    },
    {
     "data": {
      "image/png": "[encoded data removed]",
      "text/plain": [
       "<Figure size 432x288 with 1 Axes>"
      ]
     },
     "metadata": {},
     "output_type": "display_data"
    }
   ],
   "source": [
    "loan_analyse.groupby('y').size().plot.pie(label='Response', autopct='%1.1f%%')"
   ]
  },
  {
   "cell_type": "code",
   "execution_count": 104,
   "id": "5f48d8b6",
   "metadata": {},
   "outputs": [
    {
     "data": {
      "text/html": [
       "<div>\n",
       "<style scoped>\n",
       "    .dataframe tbody tr th:only-of-type {\n",
       "        vertical-align: middle;\n",
       "    }\n",
       "\n",
       "    .dataframe tbody tr th {\n",
       "        vertical-align: top;\n",
       "    }\n",
       "\n",
       "    .dataframe thead th {\n",
       "        text-align: right;\n",
       "    }\n",
       "</style>\n",
       "<table border=\"1\" class=\"dataframe\">\n",
       "  <thead>\n",
       "    <tr style=\"text-align: right;\">\n",
       "      <th>y</th>\n",
       "      <th>no</th>\n",
       "      <th>yes</th>\n",
       "    </tr>\n",
       "    <tr>\n",
       "      <th>loan</th>\n",
       "      <th></th>\n",
       "      <th></th>\n",
       "    </tr>\n",
       "  </thead>\n",
       "  <tbody>\n",
       "    <tr>\n",
       "      <th>no</th>\n",
       "      <td>470972981</td>\n",
       "      <td>95667861</td>\n",
       "    </tr>\n",
       "    <tr>\n",
       "      <th>unknown</th>\n",
       "      <td>12808963</td>\n",
       "      <td>2694085</td>\n",
       "    </tr>\n",
       "    <tr>\n",
       "      <th>yes</th>\n",
       "      <td>88793400</td>\n",
       "      <td>16692780</td>\n",
       "    </tr>\n",
       "  </tbody>\n",
       "</table>\n",
       "</div>"
      ],
      "text/plain": [
       "y               no       yes\n",
       "loan                        \n",
       "no       470972981  95667861\n",
       "unknown   12808963   2694085\n",
       "yes       88793400  16692780"
      ]
     },
     "execution_count": 104,
     "metadata": {},
     "output_type": "execute_result"
    }
   ],
   "source": [
    "analys_loan = df4.groupby(['loan', 'y'])['Customer_id'].sum().unstack().fillna(0)\n",
    "analys_loan"
   ]
  },
  {
   "cell_type": "code",
   "execution_count": 105,
   "id": "0e439bb2",
   "metadata": {},
   "outputs": [
    {
     "data": {
      "text/plain": [
       "<AxesSubplot:xlabel='loan'>"
      ]
     },
     "execution_count": 105,
     "metadata": {},
     "output_type": "execute_result"
    },
    {
     "data": {
      "image/png": "[encoded data removed]",
      "text/plain": [
       "<Figure size 432x288 with 1 Axes>"
      ]
     },
     "metadata": {
      "needs_background": "light"
     },
     "output_type": "display_data"
    }
   ],
   "source": [
    "analys_loan.plot(kind='bar', stacked=True)"
   ]
  },
  {
   "cell_type": "code",
   "execution_count": 106,
   "id": "da8e5b49",
   "metadata": {},
   "outputs": [
    {
     "data": {
      "text/plain": [
       "<AxesSubplot:xlabel='loan'>"
      ]
     },
     "execution_count": 106,
     "metadata": {},
     "output_type": "execute_result"
    },
    {
     "data": {
      "image/png": "[encoded data removed]",
      "text/plain": [
       "<Figure size 432x288 with 1 Axes>"
      ]
     },
     "metadata": {
      "needs_background": "light"
     },
     "output_type": "display_data"
    }
   ],
   "source": [
    "analys_loan.plot(kind='bar')"
   ]
  },
  {
   "cell_type": "code",
   "execution_count": 107,
   "id": "ce7a2282",
   "metadata": {},
   "outputs": [],
   "source": [
    "#Job Analysis\n",
    "analys_job = df4.groupby(['job', 'y'])['Customer_id'].sum().unstack().fillna(0)"
   ]
  },
  {
   "cell_type": "code",
   "execution_count": 108,
   "id": "9dc20171",
   "metadata": {},
   "outputs": [
    {
     "data": {
      "text/plain": [
       "<AxesSubplot:xlabel='job'>"
      ]
     },
     "execution_count": 108,
     "metadata": {},
     "output_type": "execute_result"
    },
    {
     "data": {
      "image/png": "[encoded data removed]",
      "text/plain": [
       "<Figure size 432x288 with 1 Axes>"
      ]
     },
     "metadata": {
      "needs_background": "light"
     },
     "output_type": "display_data"
    }
   ],
   "source": [
    "analys_job.plot(kind='bar', stacked=True)"
   ]
  },
  {
   "cell_type": "code",
   "execution_count": 109,
   "id": "07bd1f9c",
   "metadata": {},
   "outputs": [
    {
     "data": {
      "text/plain": [
       "<AxesSubplot:xlabel='job'>"
      ]
     },
     "execution_count": 109,
     "metadata": {},
     "output_type": "execute_result"
    },
    {
     "data": {
      "image/png": "[encoded data removed]",
      "text/plain": [
       "<Figure size 432x288 with 1 Axes>"
      ]
     },
     "metadata": {
      "needs_background": "light"
     },
     "output_type": "display_data"
    }
   ],
   "source": [
    "analys_job.plot(kind='bar')"
   ]
  },
  {
   "cell_type": "code",
   "execution_count": 110,
   "id": "77d283b9",
   "metadata": {},
   "outputs": [],
   "source": [
    "#Education Analysis\n",
    "analys_educ = df4.groupby(['education', 'y'])['Customer_id'].sum().unstack().fillna(0)"
   ]
  },
  {
   "cell_type": "code",
   "execution_count": 111,
   "id": "e65b6f34",
   "metadata": {},
   "outputs": [
    {
     "data": {
      "text/plain": [
       "<AxesSubplot:xlabel='education'>"
      ]
     },
     "execution_count": 111,
     "metadata": {},
     "output_type": "execute_result"
    },
    {
     "data": {
      "image/png": "[encoded data removed]",
      "text/plain": [
       "<Figure size 432x288 with 1 Axes>"
      ]
     },
     "metadata": {
      "needs_background": "light"
     },
     "output_type": "display_data"
    }
   ],
   "source": [
    "analys_educ.plot(kind='bar', stacked=True)"
   ]
  },
  {
   "cell_type": "code",
   "execution_count": 112,
   "id": "cc7d751b",
   "metadata": {},
   "outputs": [
    {
     "data": {
      "text/plain": [
       "<AxesSubplot:xlabel='education'>"
      ]
     },
     "execution_count": 112,
     "metadata": {},
     "output_type": "execute_result"
    },
    {
     "data": {
      "image/png": "[encoded data removed]",
      "text/plain": [
       "<Figure size 432x288 with 1 Axes>"
      ]
     },
     "metadata": {
      "needs_background": "light"
     },
     "output_type": "display_data"
    }
   ],
   "source": [
    "analys_educ.plot(kind='bar')"
   ]
  },
  {
   "cell_type": "markdown",
   "id": "0be87e3d",
   "metadata": {},
   "source": [
    "# Social Economic Analysis"
   ]
  },
  {
   "cell_type": "code",
   "execution_count": 113,
   "id": "a1d70120",
   "metadata": {},
   "outputs": [],
   "source": [
    "df5 = pd.merge(cust_resp_data, cust_social_eco_data, on='Customer_id', how='outer')"
   ]
  },
  {
   "cell_type": "code",
   "execution_count": 114,
   "id": "ab89e50a",
   "metadata": {},
   "outputs": [
    {
     "data": {
      "text/html": [
       "<div>\n",
       "<style scoped>\n",
       "    .dataframe tbody tr th:only-of-type {\n",
       "        vertical-align: middle;\n",
       "    }\n",
       "\n",
       "    .dataframe tbody tr th {\n",
       "        vertical-align: top;\n",
       "    }\n",
       "\n",
       "    .dataframe thead th {\n",
       "        text-align: right;\n",
       "    }\n",
       "</style>\n",
       "<table border=\"1\" class=\"dataframe\">\n",
       "  <thead>\n",
       "    <tr style=\"text-align: right;\">\n",
       "      <th></th>\n",
       "      <th>Customer_id</th>\n",
       "      <th>y</th>\n",
       "      <th>emp.var.rate</th>\n",
       "      <th>cons.price.idx</th>\n",
       "      <th>cons.conf.idx</th>\n",
       "      <th>euribor3m</th>\n",
       "      <th>nr.employed</th>\n",
       "    </tr>\n",
       "  </thead>\n",
       "  <tbody>\n",
       "    <tr>\n",
       "      <th>0</th>\n",
       "      <td>1</td>\n",
       "      <td>no</td>\n",
       "      <td>1.1</td>\n",
       "      <td>93.994</td>\n",
       "      <td>-36.4</td>\n",
       "      <td>4.857</td>\n",
       "      <td>5191.0</td>\n",
       "    </tr>\n",
       "    <tr>\n",
       "      <th>1</th>\n",
       "      <td>2</td>\n",
       "      <td>no</td>\n",
       "      <td>1.1</td>\n",
       "      <td>93.994</td>\n",
       "      <td>-36.4</td>\n",
       "      <td>4.857</td>\n",
       "      <td>5191.0</td>\n",
       "    </tr>\n",
       "    <tr>\n",
       "      <th>2</th>\n",
       "      <td>3</td>\n",
       "      <td>no</td>\n",
       "      <td>1.1</td>\n",
       "      <td>93.994</td>\n",
       "      <td>-36.4</td>\n",
       "      <td>4.857</td>\n",
       "      <td>5191.0</td>\n",
       "    </tr>\n",
       "    <tr>\n",
       "      <th>3</th>\n",
       "      <td>4</td>\n",
       "      <td>no</td>\n",
       "      <td>1.1</td>\n",
       "      <td>93.994</td>\n",
       "      <td>-36.4</td>\n",
       "      <td>4.857</td>\n",
       "      <td>5191.0</td>\n",
       "    </tr>\n",
       "    <tr>\n",
       "      <th>4</th>\n",
       "      <td>5</td>\n",
       "      <td>no</td>\n",
       "      <td>1.1</td>\n",
       "      <td>93.994</td>\n",
       "      <td>-36.4</td>\n",
       "      <td>4.857</td>\n",
       "      <td>5191.0</td>\n",
       "    </tr>\n",
       "    <tr>\n",
       "      <th>...</th>\n",
       "      <td>...</td>\n",
       "      <td>...</td>\n",
       "      <td>...</td>\n",
       "      <td>...</td>\n",
       "      <td>...</td>\n",
       "      <td>...</td>\n",
       "      <td>...</td>\n",
       "    </tr>\n",
       "    <tr>\n",
       "      <th>37079</th>\n",
       "      <td>37080</td>\n",
       "      <td>yes</td>\n",
       "      <td>-1.1</td>\n",
       "      <td>94.767</td>\n",
       "      <td>-50.8</td>\n",
       "      <td>1.028</td>\n",
       "      <td>4963.6</td>\n",
       "    </tr>\n",
       "    <tr>\n",
       "      <th>37080</th>\n",
       "      <td>37081</td>\n",
       "      <td>no</td>\n",
       "      <td>-1.1</td>\n",
       "      <td>94.767</td>\n",
       "      <td>-50.8</td>\n",
       "      <td>1.028</td>\n",
       "      <td>4963.6</td>\n",
       "    </tr>\n",
       "    <tr>\n",
       "      <th>37081</th>\n",
       "      <td>37082</td>\n",
       "      <td>no</td>\n",
       "      <td>-1.1</td>\n",
       "      <td>94.767</td>\n",
       "      <td>-50.8</td>\n",
       "      <td>1.028</td>\n",
       "      <td>4963.6</td>\n",
       "    </tr>\n",
       "    <tr>\n",
       "      <th>37082</th>\n",
       "      <td>37083</td>\n",
       "      <td>yes</td>\n",
       "      <td>-1.1</td>\n",
       "      <td>94.767</td>\n",
       "      <td>-50.8</td>\n",
       "      <td>1.028</td>\n",
       "      <td>4963.6</td>\n",
       "    </tr>\n",
       "    <tr>\n",
       "      <th>37083</th>\n",
       "      <td>37084</td>\n",
       "      <td>no</td>\n",
       "      <td>-1.1</td>\n",
       "      <td>94.767</td>\n",
       "      <td>-50.8</td>\n",
       "      <td>1.028</td>\n",
       "      <td>4963.6</td>\n",
       "    </tr>\n",
       "  </tbody>\n",
       "</table>\n",
       "<p>37084 rows × 7 columns</p>\n",
       "</div>"
      ],
      "text/plain": [
       "       Customer_id    y  emp.var.rate  cons.price.idx  cons.conf.idx  \\\n",
       "0                1   no           1.1          93.994          -36.4   \n",
       "1                2   no           1.1          93.994          -36.4   \n",
       "2                3   no           1.1          93.994          -36.4   \n",
       "3                4   no           1.1          93.994          -36.4   \n",
       "4                5   no           1.1          93.994          -36.4   \n",
       "...            ...  ...           ...             ...            ...   \n",
       "37079        37080  yes          -1.1          94.767          -50.8   \n",
       "37080        37081   no          -1.1          94.767          -50.8   \n",
       "37081        37082   no          -1.1          94.767          -50.8   \n",
       "37082        37083  yes          -1.1          94.767          -50.8   \n",
       "37083        37084   no          -1.1          94.767          -50.8   \n",
       "\n",
       "       euribor3m  nr.employed  \n",
       "0          4.857       5191.0  \n",
       "1          4.857       5191.0  \n",
       "2          4.857       5191.0  \n",
       "3          4.857       5191.0  \n",
       "4          4.857       5191.0  \n",
       "...          ...          ...  \n",
       "37079      1.028       4963.6  \n",
       "37080      1.028       4963.6  \n",
       "37081      1.028       4963.6  \n",
       "37082      1.028       4963.6  \n",
       "37083      1.028       4963.6  \n",
       "\n",
       "[37084 rows x 7 columns]"
      ]
     },
     "execution_count": 114,
     "metadata": {},
     "output_type": "execute_result"
    }
   ],
   "source": [
    "df5"
   ]
  },
  {
   "cell_type": "code",
   "execution_count": null,
   "id": "6608b162",
   "metadata": {},
   "outputs": [],
   "source": []
  }
 ],
 "metadata": {
  "kernelspec": {
   "display_name": "Python 3",
   "language": "python",
   "name": "python3"
  },
  "language_info": {
   "codemirror_mode": {
    "name": "ipython",
    "version": 3
   },
   "file_extension": ".py",
   "mimetype": "text/x-python",
   "name": "python",
   "nbconvert_exporter": "python",
   "pygments_lexer": "ipython3",
   "version": "3.8.8"
  }
 },
 "nbformat": 4,
 "nbformat_minor": 5
}
