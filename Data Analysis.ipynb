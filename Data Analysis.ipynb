{
 "cells": [
  {
   "cell_type": "code",
   "execution_count": 37,
   "id": "dfdf1749",
   "metadata": {},
   "outputs": [],
   "source": [
    "#Importing required libraries\n",
    "import pandas as pd\n",
    "import numpy as np\n",
    "import seaborn as sns\n",
    "import matplotlib as plt"
   ]
  },
  {
   "cell_type": "code",
   "execution_count": 2,
   "id": "1f74862e",
   "metadata": {},
   "outputs": [],
   "source": [
    "#Importing required dataset\n",
    "city_master = pd.read_csv('City_Master.csv')\n",
    "cust_and_bank_det = pd.read_csv('Customer_and_bank details_p1.csv')\n",
    "cust_camp_det = pd.read_csv('Customer_campaign_details_p1.csv')\n",
    "cust_post_code_det = pd.read_csv('Customer_Postal_Code_details.csv')\n",
    "cust_resp_data = pd.read_csv('Customer_Response_data_p1.csv')\n",
    "cust_social_eco_data = pd.read_csv('Customer_social_economic_data_p1.csv')\n",
    "reg_code_master = pd.read_csv('Region_code_master.csv')\n",
    "state_master = pd.read_csv('State_Master.csv')"
   ]
  },
  {
   "cell_type": "code",
   "execution_count": 4,
   "id": "2f90ffbe",
   "metadata": {},
   "outputs": [],
   "source": [
    "#Perform Task 1.1 i.e. join customer response data with customer campaign data\n",
    "df1 = pd.merge(cust_resp_data, cust_camp_det, on='Customer_id', how='outer')"
   ]
  },
  {
   "cell_type": "code",
   "execution_count": 5,
   "id": "05f816eb",
   "metadata": {},
   "outputs": [
    {
     "name": "stdout",
     "output_type": "stream",
     "text": [
      "       Customer_id    y    contact month day_of_week  duration  campaign  \\\n",
      "0                1   no  telephone   may         mon       307         1   \n",
      "1                2   no  telephone   may         mon       198         1   \n",
      "2                3   no  telephone   may         mon       139         1   \n",
      "3                4   no  telephone   may         mon       217         1   \n",
      "4                5   no  telephone   may         mon       380         1   \n",
      "...            ...  ...        ...   ...         ...       ...       ...   \n",
      "37079        37080  yes   cellular   nov         fri       334         1   \n",
      "37080        37081   no   cellular   nov         fri       383         1   \n",
      "37081        37082   no   cellular   nov         fri       189         2   \n",
      "37082        37083  yes   cellular   nov         fri       442         1   \n",
      "37083        37084   no   cellular   nov         fri       239         3   \n",
      "\n",
      "       pdays  previous     poutcome  \n",
      "0        999         0  nonexistent  \n",
      "1        999         0  nonexistent  \n",
      "2        999         0  nonexistent  \n",
      "3        999         0  nonexistent  \n",
      "4        999         0  nonexistent  \n",
      "...      ...       ...          ...  \n",
      "37079    999         0  nonexistent  \n",
      "37080    999         0  nonexistent  \n",
      "37081    999         0  nonexistent  \n",
      "37082    999         0  nonexistent  \n",
      "37083    999         1      failure  \n",
      "\n",
      "[37084 rows x 10 columns]\n"
     ]
    }
   ],
   "source": [
    "#Display the joined dataset\n",
    "print(df1)"
   ]
  },
  {
   "cell_type": "code",
   "execution_count": 75,
   "id": "cc7bee9b",
   "metadata": {},
   "outputs": [
    {
     "data": {
      "text/plain": [
       "<AxesSubplot:title={'center':'Customer Response'}>"
      ]
     },
     "metadata": {},
     "output_type": "display_data"
    },
    {
     "data": {
      "image/png": "[encoded data removed]",
      "text/plain": [
       "<Figure size 432x288 with 1 Axes>"
      ]
     },
     "metadata": {},
     "output_type": "display_data"
    }
   ],
   "source": [
    "#Visualising the response of the customers using pie chart\n",
    "response = df1['y'].value_counts()\n",
    "display(response.plot.pie(y='y', autopct='%1.1f%%', label=\"\", title=\"Customer Response\", legend=True))"
   ]
  },
  {
   "cell_type": "code",
   "execution_count": 78,
   "id": "d3c86681",
   "metadata": {},
   "outputs": [
    {
     "data": {
      "text/plain": [
       "<AxesSubplot:>"
      ]
     },
     "metadata": {},
     "output_type": "display_data"
    },
    {
     "data": {
      "image/png": "[encoded data removed]",
      "text/plain": [
       "<Figure size 432x288 with 1 Axes>"
      ]
     },
     "metadata": {
      "needs_background": "light"
     },
     "output_type": "display_data"
    }
   ],
   "source": [
    "#Visualising the response of the customers using bar chart\n",
    "display(response.plot.bar(y='y', legend=True))"
   ]
  },
  {
   "cell_type": "code",
   "execution_count": 81,
   "id": "e6b97188",
   "metadata": {},
   "outputs": [
    {
     "name": "stdout",
     "output_type": "stream",
     "text": [
      "cellular     23522\n",
      "telephone    13562\n",
      "Name: contact, dtype: int64\n"
     ]
    },
    {
     "data": {
      "text/plain": [
       "<AxesSubplot:title={'center':'Mode of Contact'}, ylabel='contact'>"
      ]
     },
     "metadata": {},
     "output_type": "display_data"
    },
    {
     "data": {
      "image/png": "[encoded data removed]",
      "text/plain": [
       "<Figure size 432x288 with 1 Axes>"
      ]
     },
     "metadata": {},
     "output_type": "display_data"
    }
   ],
   "source": [
    "#visualising the mode of contacting the customers [cellular vs telephone]\n",
    "resp_contact = df1['contact'].value_counts()\n",
    "print(resp_contact)\n",
    "display(resp_contact.plot.pie(autopct='%1.1f%%', title=\"Mode of Contact\"))"
   ]
  },
  {
   "cell_type": "raw",
   "id": "abd8ceee",
   "metadata": {},
   "source": [
    "# Filtering the customers who were contacted via telephone and responded 'yes'"
   ]
  },
  {
   "cell_type": "code",
   "execution_count": null,
   "id": "96daac26",
   "metadata": {},
   "outputs": [],
   "source": [
    "tel_yes = df1[[\"contact\", \"y\"]].loc[(df1[\"contact\"] == \"telephone\") & (df1[\"y\"]==\"yes\")]"
   ]
  },
  {
   "cell_type": "raw",
   "id": "b6ed07a0",
   "metadata": {},
   "source": [
    "# Filtering the customers who were contacted via telephone and responded 'No'"
   ]
  },
  {
   "cell_type": "code",
   "execution_count": 38,
   "id": "c0880a27",
   "metadata": {},
   "outputs": [],
   "source": [
    "tel_no = df1[[\"contact\", \"y\"]].loc[(df1[\"contact\"] == \"telephone\") & (df1[\"y\"]==\"no\")]"
   ]
  },
  {
   "cell_type": "code",
   "execution_count": 46,
   "id": "a4b9bc49",
   "metadata": {},
   "outputs": [],
   "source": [
    "tel =  df1[[\"contact\", \"y\"]].loc[(df1[\"contact\"] == \"telephone\")]"
   ]
  },
  {
   "cell_type": "code",
   "execution_count": 64,
   "id": "2a1a99d2",
   "metadata": {},
   "outputs": [
    {
     "data": {
      "text/plain": [
       "<AxesSubplot:ylabel='None'>"
      ]
     },
     "execution_count": 64,
     "metadata": {},
     "output_type": "execute_result"
    },
    {
     "data": {
      "image/png": "[encoded data removed]",
      "text/plain": [
       "<Figure size 432x288 with 1 Axes>"
      ]
     },
     "metadata": {},
     "output_type": "display_data"
    }
   ],
   "source": [
    "tel.groupby('y').size().plot.pie(autopct='%1.1f%%')"
   ]
  },
  {
   "cell_type": "code",
   "execution_count": 62,
   "id": "fc95d5e9",
   "metadata": {},
   "outputs": [],
   "source": [
    "cellular =  df1[[\"contact\", \"y\"]].loc[(df1[\"contact\"] == \"cellular\")]"
   ]
  },
  {
   "cell_type": "code",
   "execution_count": 88,
   "id": "38461d3e",
   "metadata": {},
   "outputs": [
    {
     "data": {
      "text/plain": [
       "<AxesSubplot:ylabel='None'>"
      ]
     },
     "execution_count": 88,
     "metadata": {},
     "output_type": "execute_result"
    },
    {
     "data": {
      "image/png": "[encoded data removed]",
      "text/plain": [
       "<Figure size 432x288 with 1 Axes>"
      ]
     },
     "metadata": {},
     "output_type": "display_data"
    }
   ],
   "source": [
    "cellular.groupby('y').size().plot.pie(autopct='%1.1f%%')"
   ]
  },
  {
   "cell_type": "code",
   "execution_count": 85,
   "id": "71a3dbdc",
   "metadata": {},
   "outputs": [],
   "source": [
    "df_telephone = df1.groupby('contact').sum()"
   ]
  },
  {
   "cell_type": "code",
   "execution_count": 87,
   "id": "be16c6cd",
   "metadata": {},
   "outputs": [
    {
     "data": {
      "text/html": [
       "<div>\n",
       "<style scoped>\n",
       "    .dataframe tbody tr th:only-of-type {\n",
       "        vertical-align: middle;\n",
       "    }\n",
       "\n",
       "    .dataframe tbody tr th {\n",
       "        vertical-align: top;\n",
       "    }\n",
       "\n",
       "    .dataframe thead th {\n",
       "        text-align: right;\n",
       "    }\n",
       "</style>\n",
       "<table border=\"1\" class=\"dataframe\">\n",
       "  <thead>\n",
       "    <tr style=\"text-align: right;\">\n",
       "      <th></th>\n",
       "      <th>Customer_id</th>\n",
       "      <th>duration</th>\n",
       "      <th>campaign</th>\n",
       "      <th>pdays</th>\n",
       "      <th>previous</th>\n",
       "    </tr>\n",
       "    <tr>\n",
       "      <th>contact</th>\n",
       "      <th></th>\n",
       "      <th></th>\n",
       "      <th></th>\n",
       "      <th></th>\n",
       "      <th></th>\n",
       "    </tr>\n",
       "  </thead>\n",
       "  <tbody>\n",
       "    <tr>\n",
       "      <th>cellular</th>\n",
       "      <td>565397257</td>\n",
       "      <td>6193253</td>\n",
       "      <td>56745</td>\n",
       "      <td>22241361</td>\n",
       "      <td>5955</td>\n",
       "    </tr>\n",
       "    <tr>\n",
       "      <th>telephone</th>\n",
       "      <td>122232813</td>\n",
       "      <td>3383243</td>\n",
       "      <td>38544</td>\n",
       "      <td>13453133</td>\n",
       "      <td>460</td>\n",
       "    </tr>\n",
       "  </tbody>\n",
       "</table>\n",
       "</div>"
      ],
      "text/plain": [
       "           Customer_id  duration  campaign     pdays  previous\n",
       "contact                                                       \n",
       "cellular     565397257   6193253     56745  22241361      5955\n",
       "telephone    122232813   3383243     38544  13453133       460"
      ]
     },
     "metadata": {},
     "output_type": "display_data"
    }
   ],
   "source": [
    "display(df_telephone)"
   ]
  },
  {
   "cell_type": "code",
   "execution_count": null,
   "id": "e2e90f04",
   "metadata": {},
   "outputs": [],
   "source": []
  }
 ],
 "metadata": {
  "kernelspec": {
   "display_name": "Python 3",
   "language": "python",
   "name": "python3"
  },
  "language_info": {
   "codemirror_mode": {
    "name": "ipython",
    "version": 3
   },
   "file_extension": ".py",
   "mimetype": "text/x-python",
   "name": "python",
   "nbconvert_exporter": "python",
   "pygments_lexer": "ipython3",
   "version": "3.8.8"
  }
 },
 "nbformat": 4,
 "nbformat_minor": 5
}
